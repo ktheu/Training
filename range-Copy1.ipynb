{
 "cells": [
  {
   "cell_type": "markdown",
   "id": "9da2cacb-6f3f-47c3-9209-4924c077e697",
   "metadata": {},
   "source": [
    "## Range\n",
    "\n",
    "Die *range*-Funktion gibt uns ein Objekt zurück, durch das wir mit einer for-Schleife laufen können. Mit der *list*-Funktion können wir das range-Objekt in eine Liste umwandeln. Der bis-Wert bei den range-Parametern ist im Bereich nicht enthalten.\n"
   ]
  },
  {
   "cell_type": "code",
   "execution_count": 5,
   "id": "e784d766-0153-4892-8eb3-2050fb7686d7",
   "metadata": {
    "tags": []
   },
   "outputs": [
    {
     "name": "stdout",
     "output_type": "stream",
     "text": [
      "0 1 2 3 "
     ]
    }
   ],
   "source": [
    "\n",
    "\n",
    "list(range(6))      # [0, 1, 2, 3, 4, 5]\n",
    "list(range(2,9))    # [2, 3, 4, 5, 6, 7, 8]\n",
    "list(range(3,10,2)) # [3, 5, 7, 9]         # der dritte Parameter ist die Schrittweite\n",
    "list(range(10,5,-1)) # [10, 9, 8, 7, 6]    # rückwärts\n",
    "for i in range(4):     \n",
    "    print(i, end=' ')    # end = ' ' erzeugt Leerzeichen statt Zeilenvorschub"
   ]
  },
  {
   "cell_type": "markdown",
   "id": "47ec3dea-d9cf-430c-91ac-287d1f6e1612",
   "metadata": {},
   "source": [
    "## Aufgaben\n",
    "\n",
    "----\n",
    "#### A1\n",
    "Erzeuge mir *range* und *list* folgende Listen"
   ]
  },
  {
   "cell_type": "code",
   "execution_count": 14,
   "id": "869ffdaf-6784-4406-93d3-ed6579e4087a",
   "metadata": {},
   "outputs": [],
   "source": [
    "'''\n",
    "Erzeuge mit range und list folgende Liste:\n",
    "\n",
    "[0, 1, 2]\n",
    "'''\n",
    "\n",
    "pass          # your code"
   ]
  },
  {
   "cell_type": "code",
   "execution_count": null,
   "id": "9255a286-aef6-4ae0-be38-a2b223207037",
   "metadata": {},
   "outputs": [],
   "source": [
    "# your code"
   ]
  },
  {
   "cell_type": "markdown",
   "id": "4693ceb0-846e-40e3-8763-ef416a881ffb",
   "metadata": {},
   "source": [
    "-----"
   ]
  },
  {
   "cell_type": "markdown",
   "id": "6b706676-4cad-4023-8668-97dd125fa2eb",
   "metadata": {},
   "source": [
    "    [0, 1, 2, 3, 4, 5, 6, 7, 8, 9, 10]"
   ]
  },
  {
   "cell_type": "code",
   "execution_count": 1,
   "id": "68def23d-e197-44fa-8da2-25eb184d3baa",
   "metadata": {},
   "outputs": [],
   "source": [
    " # your code"
   ]
  },
  {
   "cell_type": "markdown",
   "id": "4e9a1068-2b85-4066-8f76-06304e90ca00",
   "metadata": {},
   "source": [
    "-----"
   ]
  },
  {
   "cell_type": "markdown",
   "id": "548122d7-e195-4426-bcb7-c61c6cd00abc",
   "metadata": {},
   "source": [
    "    [6, 7, 8, 9, 10]"
   ]
  },
  {
   "cell_type": "code",
   "execution_count": 2,
   "id": "c177ae78-1b44-4425-9c64-cf20d397f5e5",
   "metadata": {},
   "outputs": [],
   "source": [
    "# your code"
   ]
  },
  {
   "cell_type": "markdown",
   "id": "f2c23469-05b2-4c4c-8da5-785360b596fc",
   "metadata": {},
   "source": [
    "------"
   ]
  },
  {
   "cell_type": "markdown",
   "id": "369d8a06-21b6-480a-8bef-476e78da1db6",
   "metadata": {},
   "source": [
    "    [5, 6, 7, 8, 9, 10, 11, 12, 13, 14, 15]"
   ]
  },
  {
   "cell_type": "code",
   "execution_count": 3,
   "id": "4200c35f-546f-474f-b80a-211bf9f3bb5b",
   "metadata": {},
   "outputs": [],
   "source": [
    "# your code"
   ]
  },
  {
   "cell_type": "markdown",
   "id": "cfb5f68b-a1fa-4d08-b896-5efce4d1ac35",
   "metadata": {},
   "source": [
    "----"
   ]
  },
  {
   "cell_type": "markdown",
   "id": "0337d921-59f3-4915-a18c-da2330114e8d",
   "metadata": {},
   "source": [
    "    [2, 1, 0, -1, -2]"
   ]
  },
  {
   "cell_type": "code",
   "execution_count": 5,
   "id": "6b14b135-e118-43d8-8906-c529266500df",
   "metadata": {},
   "outputs": [],
   "source": [
    "# your code"
   ]
  },
  {
   "cell_type": "markdown",
   "id": "876598a1-55d8-42ec-a358-ee1a1790425d",
   "metadata": {},
   "source": [
    "-----"
   ]
  },
  {
   "cell_type": "markdown",
   "id": "5e1792a3-5722-43c7-821c-8b3a1cdc9a43",
   "metadata": {},
   "source": [
    "    [20, 18, 16, 14, 12, 10, 8, 6, 4, 2, 0]"
   ]
  },
  {
   "cell_type": "code",
   "execution_count": 6,
   "id": "0fe373cb-a583-47a6-8e30-3a6fff970e26",
   "metadata": {
    "tags": []
   },
   "outputs": [],
   "source": [
    "# your code"
   ]
  },
  {
   "cell_type": "markdown",
   "id": "ce210fed-acff-48e2-977f-241ca39c5c22",
   "metadata": {},
   "source": [
    "---\n",
    "\n"
   ]
  },
  {
   "cell_type": "markdown",
   "id": "855a535c-7cc2-420d-bad3-49f181efa011",
   "metadata": {},
   "source": [
    "#### A2\n",
    "Gib die Zahlenfolge mit einer for-Schleife aus"
   ]
  },
  {
   "cell_type": "markdown",
   "id": "7cc8ec19-96d7-4de4-b7c9-e0c106cd5d3c",
   "metadata": {},
   "source": [
    "    3 4 5 6 7 8 9 "
   ]
  },
  {
   "cell_type": "code",
   "execution_count": 7,
   "id": "e9da14b1-9584-4c40-8ebf-e3e4ee5f43c9",
   "metadata": {},
   "outputs": [],
   "source": [
    "# your code"
   ]
  },
  {
   "cell_type": "markdown",
   "id": "043fac37-caa1-4f02-ab7f-afa7841f654f",
   "metadata": {},
   "source": [
    "------"
   ]
  },
  {
   "cell_type": "markdown",
   "id": "a02e362b-a2c0-4436-bc8b-27af45bde92f",
   "metadata": {},
   "source": [
    "    10 9 8 7 6 "
   ]
  },
  {
   "cell_type": "code",
   "execution_count": 8,
   "id": "c95a7445-0cb9-47f5-8043-644caa23437c",
   "metadata": {
    "tags": []
   },
   "outputs": [],
   "source": [
    "# your code"
   ]
  },
  {
   "cell_type": "markdown",
   "id": "1eb19730-e65c-4941-938c-9c12feeb4b3b",
   "metadata": {},
   "source": [
    "----"
   ]
  },
  {
   "cell_type": "markdown",
   "id": "a1669af0-0e29-4ee2-bde6-1c224e9663c3",
   "metadata": {},
   "source": [
    "    50 45 40 35 30 25 20 15 10 5 0 "
   ]
  },
  {
   "cell_type": "code",
   "execution_count": null,
   "id": "8742f431-7108-48d2-ab1d-dc6440565e28",
   "metadata": {},
   "outputs": [],
   "source": [
    "# your code"
   ]
  },
  {
   "cell_type": "markdown",
   "id": "d4b6c465-8927-40f7-9b5b-7eef58cc224d",
   "metadata": {},
   "source": [
    "----"
   ]
  },
  {
   "cell_type": "markdown",
   "id": "74214ea0-e762-47c6-a5a5-b5fb32613ff6",
   "metadata": {},
   "source": [
    "    10 12 14 16 18 20 22 24 26 28 30 32 34 36 38 40 "
   ]
  },
  {
   "cell_type": "code",
   "execution_count": 9,
   "id": "78f37cc6-bf68-4390-97b2-2d95205c3989",
   "metadata": {},
   "outputs": [],
   "source": [
    "# your code"
   ]
  },
  {
   "cell_type": "markdown",
   "id": "ac30c25a-3f87-46c2-89b3-21b240a692f5",
   "metadata": {},
   "source": [
    "----"
   ]
  },
  {
   "cell_type": "markdown",
   "id": "65be33ad-33b8-4f89-ae6f-ebdaf59da93b",
   "metadata": {},
   "source": [
    "#### A3\n",
    "Gib mit einer for-Schleife folgende Zeichenfolgen aus (die erste Zeile sind 10 x).\n",
    "\n",
    "    Hinweis: 'x'*10 erzeugt einen String aus zehn 'x'.\n"
   ]
  },
  {
   "cell_type": "markdown",
   "id": "4a96259e-408a-45cc-aa65-ac0e5ec7e445",
   "metadata": {},
   "source": [
    "    xxxxxxxxxx\n",
    "    xxxxxxxxx\n",
    "    xxxxxxxx\n",
    "    xxxxxxx\n",
    "    xxxxxx\n",
    "    xxxxx\n",
    "    xxxx\n",
    "    xxx\n",
    "    xx\n",
    "    x"
   ]
  },
  {
   "cell_type": "code",
   "execution_count": 10,
   "id": "b716f505-b341-4532-be58-660368cedb59",
   "metadata": {
    "tags": []
   },
   "outputs": [],
   "source": [
    "# your code"
   ]
  },
  {
   "cell_type": "markdown",
   "id": "304b16ce-d090-47ca-ad15-2fbec06123bc",
   "metadata": {},
   "source": [
    "---"
   ]
  },
  {
   "cell_type": "markdown",
   "id": "a909f0d6-8a48-43e1-ac0a-2b10b99ef0d9",
   "metadata": {},
   "source": [
    "Nutze zwei for-Schleifen hintereinander. Die\n",
    "längste Zeile hat 20 Zeichen, die kürzeste Zeile hat\n",
    "10 Zeichen.\n"
   ]
  },
  {
   "cell_type": "markdown",
   "id": "312cab7a-f412-4c92-8179-25d2b8adcbec",
   "metadata": {},
   "source": [
    "    ********************\n",
    "    ******************\n",
    "    ****************\n",
    "    **************\n",
    "    ************\n",
    "    **********\n",
    "    ************\n",
    "    **************\n",
    "    ****************\n",
    "    ******************\n",
    "    ********************"
   ]
  },
  {
   "cell_type": "code",
   "execution_count": 11,
   "id": "3c47c6de-ba20-4e72-a854-218d90dc646a",
   "metadata": {
    "tags": []
   },
   "outputs": [],
   "source": [
    "# your code here"
   ]
  }
 ],
 "metadata": {
  "kernelspec": {
   "display_name": "Python 3 (ipykernel)",
   "language": "python",
   "name": "python3"
  },
  "language_info": {
   "codemirror_mode": {
    "name": "ipython",
    "version": 3
   },
   "file_extension": ".py",
   "mimetype": "text/x-python",
   "name": "python",
   "nbconvert_exporter": "python",
   "pygments_lexer": "ipython3",
   "version": "3.11.2"
  }
 },
 "nbformat": 4,
 "nbformat_minor": 5
}

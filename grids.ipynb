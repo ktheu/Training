{
 "cells": [
  {
   "cell_type": "markdown",
   "id": "04f42bbe-fe74-493f-ae33-cb2495aa0fb8",
   "metadata": {},
   "source": [
    "### Grids"
   ]
  },
  {
   "cell_type": "markdown",
   "id": "987c6c5c-82d3-4508-811f-db7c99d8fe3b",
   "metadata": {},
   "source": [
    "----\n",
    "#### A1\n",
    "\n",
    "Lies die Zeilen in eine Liste *grid* ein. \n",
    "Jedes Element des grids soll eine Liste sein, die eine Zeile repräsentiert."
   ]
  },
  {
   "cell_type": "code",
   "execution_count": null,
   "id": "58dc5c9d-f945-4cdf-bd56-f8bac5fbf146",
   "metadata": {},
   "outputs": [],
   "source": [
    "%%writefile input1.txt\n",
    "3\n",
    "####\n",
    "#..#\n",
    "####"
   ]
  },
  {
   "cell_type": "code",
   "execution_count": null,
   "id": "0f812273-e18a-4ead-a265-6f2b3d10f46a",
   "metadata": {},
   "outputs": [],
   "source": [
    "# your code\n",
    "print(grid)"
   ]
  },
  {
   "cell_type": "raw",
   "id": "d700f7d1-4227-4f2f-bc6c-9f002d459c63",
   "metadata": {},
   "source": [
    "[['#', '#', '#', '#'], ['#', '.', '.', '#'], ['#', '#', '#', '#']]"
   ]
  },
  {
   "cell_type": "markdown",
   "id": "51900b48-52d8-45d7-b133-0c564f3cf8d8",
   "metadata": {},
   "source": [
    "----\n",
    "#### A2\n",
    "\n",
    "Gib drei grid-Ausdrücke grid[x][y] an, die sich zu 'A', 'B' und 'C' auswerten"
   ]
  },
  {
   "cell_type": "code",
   "execution_count": 9,
   "id": "ea8da763-fed8-4ba0-8a93-e1cd81aee0e3",
   "metadata": {},
   "outputs": [],
   "source": [
    "grid = [['#', '#', '#', '#', '#', '#', '#'], ['#', 'A', '.', '.', 'B', '.', '#'], ['#', '.', '#', '.', '.', 'C', '#'], ['#', '#', '#', '#', '#', '#', '#']]\n",
    "# your code"
   ]
  },
  {
   "cell_type": "raw",
   "id": "ad973272-dd67-4733-b6d3-01073846b7b6",
   "metadata": {},
   "source": [
    "('A', 'B', 'C')"
   ]
  },
  {
   "cell_type": "markdown",
   "id": "f43662bf-23bc-42cf-a749-8b128561a294",
   "metadata": {},
   "source": [
    "----\n",
    "#### A3\n",
    "\n",
    "Erzeuge mit den Daten input2.txt ein grid. Erzeuge dann eine Liste V, die für jedes gültige grid-Element grid[x][y], das sich nicht zu '#' auswertet, ein Koordinatentupel (x,y) enthält. \n",
    "\n"
   ]
  },
  {
   "cell_type": "code",
   "execution_count": null,
   "id": "d107e230-3779-421c-84a5-f36e273708ca",
   "metadata": {},
   "outputs": [],
   "source": [
    "%%writefile input2.txt\n",
    "3\n",
    "##.#\n",
    "#...\n",
    "#..#"
   ]
  },
  {
   "cell_type": "code",
   "execution_count": null,
   "id": "9fccc64d-46e5-4fcb-9279-0a4f67dbc3b3",
   "metadata": {},
   "outputs": [],
   "source": [
    "# your code\n",
    "print(grid)\n",
    "print(V)"
   ]
  },
  {
   "cell_type": "raw",
   "id": "71222748-0376-47f2-b422-a9ae7ddee024",
   "metadata": {},
   "source": [
    "[['#', '#', '.', '#'], ['#', '.', '.', '.'], ['#', '.', '.', '#']]\n",
    "[(0, 2), (1, 1), (1, 2), (1, 3), (2, 1), (2, 2)]"
   ]
  },
  {
   "cell_type": "markdown",
   "id": "a01dae39-6ceb-4319-ad34-936f6a9b9194",
   "metadata": {},
   "source": [
    "----\n",
    "#### A4\n",
    "\n",
    "Erzeuge zu dem grid aus A3 ein dictionary G, das jedem Element aus V die Nachbarfelder in einer Liste zuordnet, die kein '#' enthalten. Mögliche Nachbarfelder sollen in der Reihenfolge N, S, W, O betrachtet werden."
   ]
  },
  {
   "cell_type": "code",
   "execution_count": null,
   "id": "12f6e27f-d119-4028-a5f0-4c86ecfd7f34",
   "metadata": {},
   "outputs": [],
   "source": [
    "# your code        \n",
    "G"
   ]
  },
  {
   "cell_type": "raw",
   "id": "ba4a2135-882d-4a17-8d18-8dda0e48c1ce",
   "metadata": {},
   "source": [
    "{(0, 2): [(1, 2)],\n",
    " (1, 1): [(1, 2), (2, 1)],\n",
    " (1, 2): [(1, 1), (1, 3), (0, 2), (2, 2)],\n",
    " (1, 3): [(1, 2)],\n",
    " (2, 1): [(2, 2), (1, 1)],\n",
    " (2, 2): [(2, 1), (1, 2)]}"
   ]
  }
 ],
 "metadata": {
  "kernelspec": {
   "display_name": "Python 3 (ipykernel)",
   "language": "python",
   "name": "python3"
  },
  "language_info": {
   "codemirror_mode": {
    "name": "ipython",
    "version": 3
   },
   "file_extension": ".py",
   "mimetype": "text/x-python",
   "name": "python",
   "nbconvert_exporter": "python",
   "pygments_lexer": "ipython3",
   "version": "3.11.2"
  }
 },
 "nbformat": 4,
 "nbformat_minor": 5
}

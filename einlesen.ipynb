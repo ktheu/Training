{
 "cells": [
  {
   "cell_type": "markdown",
   "id": "350740a2-8ec4-44d7-a626-fcb2f456590d",
   "metadata": {},
   "source": [
    "### Einlesen von Daten aus einer Datei"
   ]
  },
  {
   "cell_type": "markdown",
   "id": "be6731f4-599d-4e93-979b-991d9a030b3d",
   "metadata": {},
   "source": [
    "*%%writefile* ist ein Jupyter-Command, das den Inhalt der Zelle in die angegebene Datei schreibt."
   ]
  },
  {
   "cell_type": "code",
   "execution_count": 24,
   "id": "d5e65389-0ecc-4eb4-8459-d7bae382b81f",
   "metadata": {
    "tags": []
   },
   "outputs": [
    {
     "name": "stdout",
     "output_type": "stream",
     "text": [
      "Overwriting input.txt\n"
     ]
    }
   ],
   "source": [
    "%%writefile input.txt  \n",
    "hello world"
   ]
  },
  {
   "cell_type": "code",
   "execution_count": 25,
   "id": "8a449edf-71d7-400b-aade-3fd121b50ba2",
   "metadata": {
    "tags": []
   },
   "outputs": [
    {
     "name": "stdout",
     "output_type": "stream",
     "text": [
      "hello world\n"
     ]
    }
   ],
   "source": [
    "f = open('input.txt')\n",
    "s = f.readline().strip()               \n",
    "print(s)"
   ]
  },
  {
   "cell_type": "raw",
   "id": "4bb36a7c-ceb8-4d97-a483-66fc772a0022",
   "metadata": {},
   "source": [
    "f = open('input.txt')             # eine Datei zum Lesen öffnen\n",
    "f.close()                         # nach dem Einlesen wieder schließen (kann in 'einfachen' Fällen fehlen)\n",
    "s = f.readline().strip()   # eine Zeile ohne den Zeilenumbruch einlesen\n",
    "k = int(f.readline())      # eine Zahl einlesen\n",
    "x, y = [int(x) for x in f.readline.split()]    # eine Zeile mit zwei Zahlen einlesen."
   ]
  },
  {
   "cell_type": "markdown",
   "id": "1ea9933c-4a37-49cc-a725-a1a7cf2d5254",
   "metadata": {},
   "source": [
    "----\n",
    "#### A1\n",
    "\n",
    "Lies die Zahl in eine Variable k ein und gib das doppelte des Wertes aus."
   ]
  },
  {
   "cell_type": "code",
   "execution_count": null,
   "id": "c8fc42b9-eaf6-4d0d-abb1-68eb3bd8ab77",
   "metadata": {
    "tags": []
   },
   "outputs": [],
   "source": [
    "%%writefile input.txt  \n",
    "2"
   ]
  },
  {
   "cell_type": "code",
   "execution_count": null,
   "id": "74f3693e-9bde-475c-bc32-cb6ca3c0fadd",
   "metadata": {
    "tags": []
   },
   "outputs": [],
   "source": [
    "f = open('input.txt')\n",
    "\n",
    "# your code\n",
    "\n",
    "print(2*k)"
   ]
  },
  {
   "cell_type": "raw",
   "id": "c1475e90-f5e4-4791-a9c0-f8d089f40a5d",
   "metadata": {},
   "source": [
    "4"
   ]
  },
  {
   "cell_type": "markdown",
   "id": "9a72708f-bac6-4232-8f66-6eee7b6c59ab",
   "metadata": {},
   "source": [
    "----\n",
    "#### A2\n",
    "\n",
    "Lies die beiden Zahlen ein und gib ihre Summe aus."
   ]
  },
  {
   "cell_type": "code",
   "execution_count": null,
   "id": "0745bbaf-f9ca-43a9-a78b-55ec0202ff3c",
   "metadata": {
    "tags": []
   },
   "outputs": [],
   "source": [
    "%%writefile input.txt  \n",
    "17 4"
   ]
  },
  {
   "cell_type": "code",
   "execution_count": null,
   "id": "e18778dd-b755-4f2a-bbbe-88a1c7e8a309",
   "metadata": {
    "tags": []
   },
   "outputs": [],
   "source": [
    "f = open('input.txt')\n",
    "\n",
    "# your code \n",
    "\n",
    "print(a+b)"
   ]
  },
  {
   "cell_type": "raw",
   "id": "6e06a5c9-794b-4513-b521-2f17e5df5207",
   "metadata": {},
   "source": [
    "21"
   ]
  },
  {
   "cell_type": "markdown",
   "id": "5760397a-a0dd-477f-9221-40941e686c54",
   "metadata": {
    "tags": []
   },
   "source": [
    "----\n",
    "#### A3\n",
    "\n",
    "Die Zahl in der ersten Zeile gibt an, wieviel Zeilen noch folgen. Lies zunächst die erste Zahl ein\n",
    "und dann in einer for-Schleife die folgenden Zeilen. Speichere die Namen in einer Liste data."
   ]
  },
  {
   "cell_type": "code",
   "execution_count": null,
   "id": "659a9c1d-7729-4bea-b0f0-bba6836096d4",
   "metadata": {
    "tags": []
   },
   "outputs": [],
   "source": [
    "%%writefile input.txt  \n",
    "4\n",
    "Lena\n",
    "Henry\n",
    "Fabian\n",
    "Ida"
   ]
  },
  {
   "cell_type": "code",
   "execution_count": null,
   "id": "ca0dd922-3055-4ef7-b3de-e3c038edb670",
   "metadata": {
    "tags": []
   },
   "outputs": [],
   "source": [
    "# your code\n",
    "\n",
    "print(data)"
   ]
  },
  {
   "cell_type": "raw",
   "id": "2ac8b396-8002-4c0f-9e11-3edb42cad77f",
   "metadata": {},
   "source": [
    "['Lena', 'Henry', 'Fabian', 'Ida']"
   ]
  },
  {
   "cell_type": "markdown",
   "id": "e98efa92-3216-43a7-a420-364cf8995645",
   "metadata": {},
   "source": [
    "----\n",
    "#### A4\n",
    "\n",
    "Die Zahl in der ersten Zeile gibt an, wieviel Zeilen noch folgen. Lies zunächst die erste Zahl ein\n",
    "und dann in einer for-Schleife die folgenden Zeilen. Speichere die Werte als Tuples in einer Liste data."
   ]
  },
  {
   "cell_type": "code",
   "execution_count": null,
   "id": "b23da3e7-5ba6-4958-97ed-e8f13177c03e",
   "metadata": {
    "tags": []
   },
   "outputs": [],
   "source": [
    "%%writefile input.txt  \n",
    "4\n",
    "3 8\n",
    "12 0\n",
    "3 9\n",
    "2 1"
   ]
  },
  {
   "cell_type": "code",
   "execution_count": null,
   "id": "4427c998-56b2-4b28-8acb-f033bd03ebed",
   "metadata": {
    "tags": []
   },
   "outputs": [],
   "source": [
    "# your code\n",
    "\n",
    "print(data)"
   ]
  },
  {
   "cell_type": "raw",
   "id": "dbc9862b-ba9d-4de5-acca-6b6fdc7c2e7d",
   "metadata": {},
   "source": [
    "[(3, 8), (12, 0), (3, 9), (2, 1)]"
   ]
  }
 ],
 "metadata": {
  "kernelspec": {
   "display_name": "Python 3 (ipykernel)",
   "language": "python",
   "name": "python3"
  },
  "language_info": {
   "codemirror_mode": {
    "name": "ipython",
    "version": 3
   },
   "file_extension": ".py",
   "mimetype": "text/x-python",
   "name": "python",
   "nbconvert_exporter": "python",
   "pygments_lexer": "ipython3",
   "version": "3.11.2"
  }
 },
 "nbformat": 4,
 "nbformat_minor": 5
}

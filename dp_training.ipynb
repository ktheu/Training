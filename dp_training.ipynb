{
 "cells": [
  {
   "cell_type": "markdown",
   "id": "0c15dff1-af2f-48fe-9329-223646513d67",
   "metadata": {},
   "source": [
    "### Dynamisches Programmieren"
   ]
  },
  {
   "cell_type": "markdown",
   "id": "ce840a66-85c4-438f-a82f-33022d540d60",
   "metadata": {},
   "source": [
    "Häufig vorkommende Tasks bei DP\n",
    "\n",
    "1. Teilprobleme definieren. Bei Listen oder Strings häufig: Prefix [:i] oder Suffix [i:] oder Substring [i:j]\n",
    "2. Gegeben die Lösung für ein Teilproblem, was davon würden wir gerne wissen? Lokaler Brute Force über alle möglichen Antworten.\n",
    "3. Rekursionsgleichung und Rekursionsbremse.\n",
    "4. Codieren der rekursiven Funktion mit memoization.\n",
    "5. Lösen des Originalproblems\n",
    "6. Gegebenfalls Umwandlung in ein buttom-up Programm.\n",
    "   \n",
    "\n",
    "Laufzeit: Anzahl Teilprobleme * nicht-rekursive Arbeit für ein Teilproblem (wegen Memoization können wir die rekursiven Aufrufe mit konstanter Zeit veranschlagen).\n"
   ]
  },
  {
   "cell_type": "markdown",
   "id": "eaba8c9d-26eb-4663-9f76-06ae8f0ed86d",
   "metadata": {},
   "source": [
    "#### Frog 1\n",
    "\n",
    "(https://atcoder.jp/contests/dp/tasks/dp_a)"
   ]
  },
  {
   "cell_type": "markdown",
   "id": "8f50dc70-e6bd-4b85-b37b-2f1e09989e96",
   "metadata": {},
   "source": [
    "Der Frosch sitzt auf der ersten Zahl und will zur letzten hüpfen. Er kann immer nur 1 oder 2 Zahlen weiter hüpfen. Die Kosten für jeden Sprung ist der Unterschied der Zahlen zwischen denen er springt. Ziel ist es, die Kosten zu minimieren."
   ]
  },
  {
   "cell_type": "markdown",
   "id": "d0f0fafb-c3e9-4286-a211-0e58b5730262",
   "metadata": {},
   "source": [
    "#### Frog 2 \n",
    "\n",
    "(https://atcoder.jp/contests/dp/tasks/dp_b)\n",
    "\n",
    "Wie Frog 1 nur wird jetzt noch eine maximale Sprungweite vorgegeben"
   ]
  },
  {
   "cell_type": "markdown",
   "id": "709bdb04-edfb-4282-9992-6e66ddda9264",
   "metadata": {},
   "source": [
    "#### Dice Combinations\n",
    "\n",
    "https://www.cses.fi/problemset/task/1633/"
   ]
  },
  {
   "cell_type": "markdown",
   "id": "02749dd1-fb69-479b-b725-93c50d260ea7",
   "metadata": {},
   "source": [
    "#### Minimizing Coins\n",
    "\n",
    "https://www.cses.fi/problemset/task/1634/"
   ]
  },
  {
   "cell_type": "markdown",
   "id": "8630f3c0-562e-495b-ab2a-a3f7c30c6df2",
   "metadata": {},
   "source": [
    "#### Vacation\n",
    "\n",
    "(https://atcoder.jp/contests/dp/tasks/dp_c)"
   ]
  },
  {
   "cell_type": "code",
   "execution_count": null,
   "id": "02acb2d3-d045-4da1-bca8-6ad7f822d884",
   "metadata": {},
   "outputs": [],
   "source": [
    "3\n",
    "10 40 70\n",
    "20 50 80\n",
    "30 60 90"
   ]
  },
  {
   "cell_type": "markdown",
   "id": "315c8d21-177b-43e5-9a51-3feea5809fc8",
   "metadata": {},
   "source": [
    "Die 3 gibt die Anzahl der Tage an. An jedem Tag kann man eine von drei Sachen A,B,C tun, die jeweils einen happiness-score ergeben. Die erste Spalte zeigt den score für A etc. Ziel ist es, den happiness-score über die Tage zu maximieren.\n",
    "\n",
    "Im Beispiel würde man C + B + C tun und damit den score 210 erreichen."
   ]
  },
  {
   "cell_type": "markdown",
   "id": "5ccc4b14-0425-4aa7-9d98-e2d6922eee7e",
   "metadata": {},
   "source": [
    "#### Bowling\n",
    "\n",
    "Gegeben n Bowling-Kegel, wir können bei einem Wurf nur 0,1 oder 2 Kegel treffen. Kegel i hat den Wert v(i). Wenn man einen Kegel trifft, dann bekommt man v(i) Punkte, wenn man 2 Kegel trifft, bekommt man das Produkt der Punkte. Man muss nicht alle treffen. Ziel ist es, die Punkte zu maximieren."
   ]
  },
  {
   "cell_type": "code",
   "execution_count": null,
   "id": "60494c9e-50b2-44cf-97e3-1183cce510e2",
   "metadata": {},
   "outputs": [],
   "source": [
    "7\n",
    "1 1 9 9 2 -5 -5\n",
    "Out: 110\n"
   ]
  },
  {
   "cell_type": "markdown",
   "id": "b97e42ca-a74b-41a6-ae3e-4ad0eade6fa8",
   "metadata": {},
   "source": [
    "#### Longest Common Subsequence LCS\n",
    "\n",
    "https://leetcode.com/problems/longest-common-subsequence/description/"
   ]
  },
  {
   "cell_type": "markdown",
   "id": "6d106f34-7f99-4546-9557-453809848418",
   "metadata": {},
   "source": [
    "#### Longest Increasing Subsequence LIS\n",
    "\n",
    "https://leetcode.com/problems/longest-increasing-subsequence/description/"
   ]
  },
  {
   "cell_type": "markdown",
   "id": "b823fca3-3d2b-4644-9ce0-f29c62abb809",
   "metadata": {},
   "source": [
    "#### Alternating Coin Game\n",
    "\n",
    "Ein Spiel für 2 Spieler: Gegeben eine Liste von Münzen mit Werten. Man darf abwechselnd entweder die linke oder rechte Münze wählen.\n",
    "Welches Maximum ist erreichbar?"
   ]
  },
  {
   "cell_type": "code",
   "execution_count": 2,
   "id": "704d0c03-8fd1-42b6-86a8-b25f5ee0cf5f",
   "metadata": {},
   "outputs": [
    {
     "name": "stdout",
     "output_type": "stream",
     "text": [
      "5 10 100 25 10 40\n"
     ]
    }
   ],
   "source": [
    "5 10 100 25 10 40\n",
    "Out: 145"
   ]
  },
  {
   "cell_type": "code",
   "execution_count": null,
   "id": "d323d283-3613-4b9b-82f2-1a5aafb62f4d",
   "metadata": {},
   "outputs": [],
   "source": [
    "kürzester Weg von a nach e\n",
    "14"
   ]
  }
 ],
 "metadata": {
  "kernelspec": {
   "display_name": "Python 3 (ipykernel)",
   "language": "python",
   "name": "python3"
  },
  "language_info": {
   "codemirror_mode": {
    "name": "ipython",
    "version": 3
   },
   "file_extension": ".py",
   "mimetype": "text/x-python",
   "name": "python",
   "nbconvert_exporter": "python",
   "pygments_lexer": "ipython3",
   "version": "3.11.2"
  }
 },
 "nbformat": 4,
 "nbformat_minor": 5
}

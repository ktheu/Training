{
 "cells": [
  {
   "cell_type": "markdown",
   "id": "7768a405-e83d-4902-93e3-1de96b832954",
   "metadata": {},
   "source": [
    "### Listen 01"
   ]
  },
  {
   "cell_type": "raw",
   "id": "68c5c6ea-dc54-4062-919a-34bf5e466bdf",
   "metadata": {},
   "source": [
    "a = []         # eine leere Liste\n",
    "a = [2,3,4]    # eine Liste erzeugen\n",
    "print(a[i])    # Inhalt der Liste an der Stelle i ausgeben\n",
    "a[i] = 2       # neuen Wert an Stelle i zuweisen\n",
    "a.append(2)    # etwas ans Ende der Liste dranhängen\n",
    "len(a)         # die Länge der Liste\n",
    "\n",
    "for i in range(len(a)):     # mit dem Index durch die Liste gehen\n",
    "    print(a[i])\n"
   ]
  },
  {
   "cell_type": "markdown",
   "id": "fed25c0a-3563-4615-a40a-64f261dae21c",
   "metadata": {
    "tags": []
   },
   "source": [
    "----\n",
    "#### A1\n",
    "Erstelle eine Liste"
   ]
  },
  {
   "cell_type": "code",
   "execution_count": null,
   "id": "10243911-7ef3-436c-9536-3e5d63829949",
   "metadata": {
    "tags": []
   },
   "outputs": [],
   "source": [
    "a = None\n",
    "print(a)"
   ]
  },
  {
   "cell_type": "raw",
   "id": "f760d81a-176c-498b-8a09-22066832deda",
   "metadata": {},
   "source": [
    "[1,-1,0]   "
   ]
  },
  {
   "cell_type": "markdown",
   "id": "6edd4c35-96b3-46bd-8ee0-c4bed844dd8a",
   "metadata": {},
   "source": [
    "----\n",
    "#### A2\n",
    "Erstelle eine geeignete Liste"
   ]
  },
  {
   "cell_type": "code",
   "execution_count": null,
   "id": "75365296-2e1f-4b2d-80d6-92e266794c80",
   "metadata": {
    "tags": []
   },
   "outputs": [],
   "source": [
    "a = None\n",
    "print(len(a))"
   ]
  },
  {
   "cell_type": "raw",
   "id": "86b1d507-794a-48a9-a142-65d1f717c7b2",
   "metadata": {},
   "source": [
    "4"
   ]
  },
  {
   "cell_type": "markdown",
   "id": "27a4c5d0-7e08-4fef-9ac9-4aad5cbac84a",
   "metadata": {
    "tags": []
   },
   "source": [
    "----\n",
    "#### A3\n",
    "\n",
    "Verändere die Elemente der Liste"
   ]
  },
  {
   "cell_type": "code",
   "execution_count": null,
   "id": "18194562-d911-4fdd-8e9e-666c36ed5098",
   "metadata": {
    "tags": []
   },
   "outputs": [],
   "source": [
    "a = [10,20,30,40,50]\n",
    "# your code\n",
    "print(a[1], a[4])"
   ]
  },
  {
   "cell_type": "raw",
   "id": "dc2e2598-d112-40bb-8f69-c4fe400dc68f",
   "metadata": {},
   "source": [
    "-1 -7"
   ]
  },
  {
   "cell_type": "markdown",
   "id": "808aa456-2a57-4fef-81f3-31c5e8331473",
   "metadata": {
    "tags": []
   },
   "source": [
    "----\n",
    "\n",
    "#### A4\n",
    "\n",
    "Nutze eine for-Schleife mit range und hänge immer wieder einen Wert an die Liste dran.\n"
   ]
  },
  {
   "cell_type": "code",
   "execution_count": null,
   "id": "5224b2c7-453d-49e8-9e27-bf7d39aae2f4",
   "metadata": {
    "tags": []
   },
   "outputs": [],
   "source": [
    "a = []\n",
    "# your code \n",
    "print(a)"
   ]
  },
  {
   "cell_type": "raw",
   "id": "c3cfc350-e65b-45cd-ba1d-f2955bd7c8db",
   "metadata": {},
   "source": [
    "[0, 1, 2, 3, 4]"
   ]
  },
  {
   "cell_type": "markdown",
   "id": "13043347-6266-4a79-9f10-73d13133dd22",
   "metadata": {},
   "source": [
    "---\n",
    "#### A5\n",
    "\n",
    "Nutze eine for-Schleife und Teilstrings.\n"
   ]
  },
  {
   "cell_type": "code",
   "execution_count": null,
   "id": "3ec8102d-9e3c-49f9-9252-da96c36a31b9",
   "metadata": {
    "tags": []
   },
   "outputs": [],
   "source": [
    "a = []\n",
    "s = 'Hallo'\n",
    "# your code \n",
    "print(a)"
   ]
  },
  {
   "cell_type": "raw",
   "id": "abc66f3c-8500-4a89-b8b6-5f29feff187e",
   "metadata": {},
   "source": [
    "['H', 'Ha', 'Hal', 'Hall', 'Hallo']"
   ]
  },
  {
   "cell_type": "markdown",
   "id": "c273fe1e-3626-461e-ad5a-a07dfb525571",
   "metadata": {},
   "source": [
    "---\n",
    "#### A6\n",
    "\n",
    "Nutze eine for-Schleife und Teilstrings.\n"
   ]
  },
  {
   "cell_type": "code",
   "execution_count": null,
   "id": "2953b4a7-70f9-4bf0-bc6e-f412fee00f55",
   "metadata": {
    "tags": []
   },
   "outputs": [],
   "source": [
    "a = []\n",
    "s = 'Hallo'\n",
    "# your code \n",
    "print(a)"
   ]
  },
  {
   "cell_type": "raw",
   "id": "96aa9c0a-0a11-45fe-9891-b3c2f84b8fe0",
   "metadata": {},
   "source": [
    "[0, 'H', 1, 'Ha', 2, 'Hal', 3, 'Hall', 4, 'Hallo']"
   ]
  },
  {
   "cell_type": "markdown",
   "id": "90022636-2700-45a4-a7bc-ecc07727deee",
   "metadata": {},
   "source": [
    "---\n",
    "#### A7\n",
    "\n",
    "Gib zu jedem Element (außer dem letzten) noch das nachfolgende Element aus. Nutze eine for-Schleife."
   ]
  },
  {
   "cell_type": "code",
   "execution_count": null,
   "id": "bca24654-4201-4baf-bba3-b770a4533f32",
   "metadata": {
    "tags": []
   },
   "outputs": [],
   "source": [
    "a = [4,7,2,9,6,1,0,3]\n",
    "#your code"
   ]
  },
  {
   "cell_type": "raw",
   "id": "ce9a98a0-e3e6-4dde-b77e-6e6bdd20ada2",
   "metadata": {},
   "source": [
    "4 7\n",
    "7 2\n",
    "2 9\n",
    "9 6\n",
    "6 1\n",
    "1 0\n",
    "0 3"
   ]
  },
  {
   "cell_type": "markdown",
   "id": "fa80a91b-39c7-426e-abb5-c2d4b36d2b73",
   "metadata": {},
   "source": [
    "---\n",
    "#### A8\n",
    "\n",
    "In der zweiten Spalte werden die Listenelemente in umgekehrter Reihenfolge ausgegeben. Nutze eine for-Schleife."
   ]
  },
  {
   "cell_type": "code",
   "execution_count": null,
   "id": "f3c0891f-76f0-45b9-9d0e-66ae0f07521c",
   "metadata": {
    "tags": []
   },
   "outputs": [],
   "source": [
    "a = [4,7,2,9,6,1,0,3]\n",
    "# your code"
   ]
  },
  {
   "cell_type": "raw",
   "id": "6633ae58-c6c4-4cd8-8def-e2927e3bd072",
   "metadata": {},
   "source": [
    "4 3\n",
    "7 0\n",
    "2 1\n",
    "9 6\n",
    "6 9\n",
    "1 2\n",
    "0 7\n",
    "3 4"
   ]
  }
 ],
 "metadata": {
  "kernelspec": {
   "display_name": "Python 3 (ipykernel)",
   "language": "python",
   "name": "python3"
  },
  "language_info": {
   "codemirror_mode": {
    "name": "ipython",
    "version": 3
   },
   "file_extension": ".py",
   "mimetype": "text/x-python",
   "name": "python",
   "nbconvert_exporter": "python",
   "pygments_lexer": "ipython3",
   "version": "3.11.2"
  }
 },
 "nbformat": 4,
 "nbformat_minor": 5
}

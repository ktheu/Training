{
 "cells": [
  {
   "cell_type": "markdown",
   "id": "7768a405-e83d-4902-93e3-1de96b832954",
   "metadata": {},
   "source": [
    "### Listen 01"
   ]
  },
  {
   "cell_type": "code",
   "execution_count": 26,
   "id": "8a848e88-d233-4790-a049-e374064bddb9",
   "metadata": {},
   "outputs": [
    {
     "name": "stdout",
     "output_type": "stream",
     "text": [
      "3\n",
      "2 2 4 2 "
     ]
    }
   ],
   "source": [
    "a = []         # eine leere Liste\n",
    "a = [2,3,4]    # eine Liste erzeugen\n",
    "print(a[1])    # Inhalt der Liste an der Stelle 1 ausgeben\n",
    "a[1] = 2       # neuen Wert an Stelle 1 zuweisen\n",
    "a.append(2)    # etwas ans Ende der Liste dranhängen\n",
    "len(a)         # die Länge der Liste\n",
    "\n",
    "for i in range(len(a)):     # mit dem Index durch die Liste gehen\n",
    "    print(a[i], end=' ')\n"
   ]
  },
  {
   "cell_type": "markdown",
   "id": "fed25c0a-3563-4615-a40a-64f261dae21c",
   "metadata": {
    "tags": []
   },
   "source": [
    "----\n",
    "#### A1\n"
   ]
  },
  {
   "cell_type": "code",
   "execution_count": 27,
   "id": "04126b37-8715-48d2-8f84-ec4e1c5cc333",
   "metadata": {},
   "outputs": [
    {
     "name": "stdout",
     "output_type": "stream",
     "text": [
      "None\n"
     ]
    }
   ],
   "source": [
    "'''\n",
    "Erstelle folgende Liste a\n",
    "\n",
    ">>> print(a)\n",
    "[1,-1,0]  \n",
    "'''\n",
    "a = None     # your code         \n",
    "print(a)"
   ]
  },
  {
   "cell_type": "code",
   "execution_count": 28,
   "id": "32c4240a-4036-49df-b020-1eedaab60fb3",
   "metadata": {},
   "outputs": [
    {
     "name": "stdout",
     "output_type": "stream",
     "text": [
      "0\n"
     ]
    }
   ],
   "source": [
    "'''\n",
    "Erstelle eine Liste a mit Länge 4\n",
    "\n",
    ">>> print(len(a))\n",
    "4\n",
    "'''\n",
    "a = []        # your code           \n",
    "print(len(a))"
   ]
  },
  {
   "cell_type": "code",
   "execution_count": 29,
   "id": "27f67bd8-5933-4242-91a9-a683ef81bcff",
   "metadata": {},
   "outputs": [
    {
     "name": "stdout",
     "output_type": "stream",
     "text": [
      "20\n",
      "50\n"
     ]
    }
   ],
   "source": [
    "'''\n",
    "Verändere die Liste durch Zuweisung neuer Werte so, dass die gewünschte Ausgabe erscheint\n",
    "\n",
    ">>> print(a[1])\n",
    "-1\n",
    ">>> print(a[4])\n",
    "7\n",
    "'''\n",
    "\n",
    "a = [10,20,30,40,50]\n",
    "print(a[1])\n",
    "print(a[4])"
   ]
  },
  {
   "cell_type": "code",
   "execution_count": 30,
   "id": "530a12c7-2eff-470f-a078-de3cf451f27e",
   "metadata": {},
   "outputs": [
    {
     "name": "stdout",
     "output_type": "stream",
     "text": [
      "[]\n"
     ]
    }
   ],
   "source": [
    "'''\n",
    "Nutze eine for-Schleife mit range und hänge immer wieder einen Wert an die Liste a dran.\n",
    "\n",
    ">>> print(a)\n",
    "[0, 1, 2, 3, 4]\n",
    "'''\n",
    "a = []\n",
    "# your code \n",
    "print(a)"
   ]
  },
  {
   "cell_type": "code",
   "execution_count": 31,
   "id": "f4a98442-90bd-447a-b3ec-4cbee35c2ab5",
   "metadata": {},
   "outputs": [
    {
     "name": "stdout",
     "output_type": "stream",
     "text": [
      "[]\n"
     ]
    }
   ],
   "source": [
    "'''\n",
    "Nutze eine for-Schleife und Teilstrings von s um die Liste a zu erzeugen.\n",
    "\n",
    ">>> print(a)\n",
    "['H', 'Ha', 'Hal', 'Hall', 'Hallo']\n",
    "'''\n",
    "a = []\n",
    "s = 'Hallo'\n",
    "# your code \n",
    "print(a)"
   ]
  },
  {
   "cell_type": "code",
   "execution_count": 32,
   "id": "e3217d3c-4dbc-4cf1-9649-ae0c272df4d9",
   "metadata": {},
   "outputs": [
    {
     "name": "stdout",
     "output_type": "stream",
     "text": [
      "[]\n"
     ]
    }
   ],
   "source": [
    "'''\n",
    "Nutze eine for-Schleife und Teilstrings von s um die Liste a zu erzeugen.\n",
    "\n",
    ">>> print(a)\n",
    "[0, 'H', 1, 'Ha', 2, 'Hal', 3, 'Hall', 4, 'Hallo']\n",
    "'''\n",
    "a = []\n",
    "s = 'Hallo'\n",
    "# your code \n",
    "print(a)"
   ]
  },
  {
   "cell_type": "code",
   "execution_count": 33,
   "id": "5a1af807-5c9d-431d-b307-42990ed556d9",
   "metadata": {},
   "outputs": [],
   "source": [
    "'''\n",
    "Gib zu jedem Element von a (außer dem letzten) noch das nachfolgende Element aus.\n",
    "\n",
    ">>> print(a)\n",
    "4 7\n",
    "7 2\n",
    "2 9\n",
    "9 6\n",
    "6 1\n",
    "1 0\n",
    "0 3\n",
    "'''\n",
    "a = [4,7,2,9,6,1,0,3]\n",
    "#your code"
   ]
  },
  {
   "cell_type": "code",
   "execution_count": 34,
   "id": "638fb780-7f60-46a6-96fc-086ba232d09f",
   "metadata": {},
   "outputs": [],
   "source": [
    "'''\n",
    "In der zweiten Spalte werden die Listenelemente in umgekehrter Reihenfolge ausgegeben. \n",
    "Nutze eine for-Schleife.\n",
    "\n",
    ">>> print(a)\n",
    "4 3\n",
    "7 0\n",
    "2 1\n",
    "9 6\n",
    "6 9\n",
    "1 2\n",
    "0 7\n",
    "3 4\n",
    "'''\n",
    "a = [4,7,2,9,6,1,0,3]\n",
    "#your code"
   ]
  }
 ],
 "metadata": {
  "kernelspec": {
   "display_name": "Python 3 (ipykernel)",
   "language": "python",
   "name": "python3"
  },
  "language_info": {
   "codemirror_mode": {
    "name": "ipython",
    "version": 3
   },
   "file_extension": ".py",
   "mimetype": "text/x-python",
   "name": "python",
   "nbconvert_exporter": "python",
   "pygments_lexer": "ipython3",
   "version": "3.11.2"
  }
 },
 "nbformat": 4,
 "nbformat_minor": 5
}

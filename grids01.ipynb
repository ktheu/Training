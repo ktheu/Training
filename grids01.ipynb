{
 "cells": [
  {
   "cell_type": "markdown",
   "id": "746764c8-785e-4871-9705-5fcfcd17fcf5",
   "metadata": {},
   "source": [
    "### Grids\n",
    "\n",
    "Grids sind 2D oder 3D Gebilde, die mit Zeichen repräsentiert sind. Häufig werden dadurch Labyrinth-ähnliche Dinge codiert. \n",
    "\n",
    "Ein 2D-Grid mit Wänden #, freien Stellen . und Start/Zielpunkten A, B."
   ]
  },
  {
   "cell_type": "raw",
   "id": "59949caf-2d2e-4e1b-b4d1-615fe34a3915",
   "metadata": {},
   "source": [
    "##########\n",
    "#...#B...#\n",
    "#...##...#\n",
    "###.#..###\n",
    "#.##A#...#\n",
    "#.....#..#\n",
    "#.....#..#\n",
    "#.....#..#\n",
    "#........#\n",
    "##########"
   ]
  },
  {
   "cell_type": "markdown",
   "id": "fbd48d38-ae51-45a6-8597-5fe431077c74",
   "metadata": {},
   "source": [
    "Ein 3D-Grid mit 2 Ebenen, die nacheinander abgebildet sind."
   ]
  },
  {
   "cell_type": "raw",
   "id": "6c9004b4-b3ac-475d-bc83-14c45f9e70e9",
   "metadata": {},
   "source": [
    "#############\n",
    "#.....#.....#\n",
    "#.###.#.###.#\n",
    "#...#.#...#.#\n",
    "###.#.###.#.#\n",
    "#...#.....#.#\n",
    "#.#########.#\n",
    "#.....#.....#\n",
    "#####.#.###.#\n",
    "#....A#B..#.#\n",
    "#.#########.#\n",
    "#...........#\n",
    "#############\n",
    "\n",
    "#############\n",
    "#.......#...#\n",
    "#...#.#.#...#\n",
    "#...#.#.....#\n",
    "#.###.#.#.###\n",
    "#.....#.#...#\n",
    "#####.###...#\n",
    "#.....#.....#\n",
    "#.#########.#\n",
    "#...#.......#\n",
    "#.#.#.#.###.#\n",
    "#.#...#...#.#\n",
    "#############"
   ]
  },
  {
   "cell_type": "markdown",
   "id": "3bb17155-311f-4859-876c-cdab9de7369f",
   "metadata": {},
   "source": [
    "Häufig sind zu Beginn einer Aufgabe mit grids zwei Schritte nützlich: \n",
    "* das Einlesen der Daten in eine Datenstruktur, so dass man über die Koordinaten der Punkte auf die Werte des\n",
    "    grids zugreifen kann\n",
    "* das Umsetzen dieser Datenstruktur in einen Graphen."
   ]
  },
  {
   "cell_type": "markdown",
   "id": "f05ab90a-dc24-4b1e-acb5-45a498adf663",
   "metadata": {},
   "source": [
    "### 2D-Grids als Liste von Listen\n",
    "\n",
    "In der ersten Eingabezeile stehen Höhe und Breite des Grids.\n",
    "Die grid[0][0] ist das obere linke Element des Grids. <br> \n",
    "grid[x][y] ist das Element des grids mit Zeilenindex x und Spaltenindex y."
   ]
  },
  {
   "cell_type": "code",
   "execution_count": 4,
   "id": "ac8f8cc3-107d-44a7-9713-5ac7f5e2d216",
   "metadata": {},
   "outputs": [
    {
     "name": "stdout",
     "output_type": "stream",
     "text": [
      "Overwriting input.txt\n"
     ]
    }
   ],
   "source": [
    "%%writefile input.txt\n",
    "10 10\n",
    "##########\n",
    "#...#B...#\n",
    "#...##...#\n",
    "###.#..###\n",
    "#.##A#...#\n",
    "#.....#..#\n",
    "#.....#..#\n",
    "#.....#..#\n",
    "#........#\n",
    "##########"
   ]
  },
  {
   "cell_type": "code",
   "execution_count": 53,
   "id": "8cea7bc0-f95a-42f5-999e-8c49c2e4984e",
   "metadata": {},
   "outputs": [],
   "source": [
    "f = open('input.txt')\n",
    "hoehe, breite = [int(x) for x in f.readline().split()]\n",
    "\n",
    "grid = []\n",
    "for i in range(hoehe):\n",
    "    grid.append(list(f.readline().strip()))"
   ]
  },
  {
   "cell_type": "code",
   "execution_count": 54,
   "id": "0e79615b-68a8-4ff3-9b26-e41d58b10dd6",
   "metadata": {},
   "outputs": [
    {
     "data": {
      "text/plain": [
       "[['#', '#', '#', '#', '#', '#', '#', '#', '#', '#'],\n",
       " ['#', '.', '.', '.', '#', 'B', '.', '.', '.', '#'],\n",
       " ['#', '.', '.', '.', '#', '#', '.', '.', '.', '#'],\n",
       " ['#', '#', '#', '.', '#', '.', '.', '#', '#', '#'],\n",
       " ['#', '.', '#', '#', 'A', '#', '.', '.', '.', '#'],\n",
       " ['#', '.', '.', '.', '.', '.', '#', '.', '.', '#'],\n",
       " ['#', '.', '.', '.', '.', '.', '#', '.', '.', '#'],\n",
       " ['#', '.', '.', '.', '.', '.', '#', '.', '.', '#'],\n",
       " ['#', '.', '.', '.', '.', '.', '.', '.', '.', '#'],\n",
       " ['#', '#', '#', '#', '#', '#', '#', '#', '#', '#']]"
      ]
     },
     "execution_count": 54,
     "metadata": {},
     "output_type": "execute_result"
    }
   ],
   "source": [
    "grid "
   ]
  },
  {
   "cell_type": "code",
   "execution_count": 55,
   "id": "ee742924-b01a-4c9f-82f4-66d0e2ee1c70",
   "metadata": {},
   "outputs": [
    {
     "data": {
      "text/plain": [
       "'B'"
      ]
     },
     "execution_count": 55,
     "metadata": {},
     "output_type": "execute_result"
    }
   ],
   "source": [
    "grid[1][5]                   # Zugriff auf die Koordinate (1/5)"
   ]
  },
  {
   "cell_type": "markdown",
   "id": "3562bc77-5f1b-419f-9184-d7f469f8e3d0",
   "metadata": {},
   "source": [
    "Wir können das grid sehr einfach ausdrucken:"
   ]
  },
  {
   "cell_type": "code",
   "execution_count": 56,
   "id": "f8db283c-39d1-4c8e-b887-11db2b72654b",
   "metadata": {},
   "outputs": [
    {
     "name": "stdout",
     "output_type": "stream",
     "text": [
      "##########\n",
      "#...#B...#\n",
      "#...##...#\n",
      "###.#..###\n",
      "#.##A#...#\n",
      "#.....#..#\n",
      "#.....#..#\n",
      "#.....#..#\n",
      "#........#\n",
      "##########\n"
     ]
    }
   ],
   "source": [
    "for zeile in grid:\n",
    "    print(*zeile,sep='') "
   ]
  },
  {
   "cell_type": "markdown",
   "id": "875f19bd-7875-44fb-a75b-dd9d51406c11",
   "metadata": {},
   "source": [
    "Für den Graphen erstellen wir zunächst die Liste der Knoten V als Liste von Koordinatentupel."
   ]
  },
  {
   "cell_type": "code",
   "execution_count": 57,
   "id": "faee16fb-9bf3-4600-896b-1aa175c69a98",
   "metadata": {},
   "outputs": [],
   "source": [
    "V = [(x,y) for x in range(hoehe) for y in range(breite) if grid[x][y] != '#']"
   ]
  },
  {
   "cell_type": "markdown",
   "id": "cae758d3-c9bc-4d73-bd7b-db199722e08b",
   "metadata": {},
   "source": [
    "In einem ungewichteten Graphen ordnen wir jedem Knoten in einer Menge seine Nachbarn zu."
   ]
  },
  {
   "cell_type": "code",
   "execution_count": 58,
   "id": "1910d2a0-0aef-4e21-9050-ce6383f80d8f",
   "metadata": {},
   "outputs": [],
   "source": [
    "dirs = [(1,0),(-1,0),(0,1),(0,-1)]  # mögliche Richtungen\n",
    "G ={v:set() for v in V}\n",
    "for v in G:\n",
    "    x, y = v\n",
    "    for (xd, yd) in dirs:\n",
    "        xn, yn = x+xd, y+yd\n",
    "        if 0 <= xn < hoehe and 0 <= yn < breite and grid[xn][yn] != '#':\n",
    "            G[v].add((xn,yn))\n"
   ]
  },
  {
   "cell_type": "code",
   "execution_count": 59,
   "id": "ee4c81c2-ee34-470f-8f9f-6f1d32a58e57",
   "metadata": {},
   "outputs": [
    {
     "data": {
      "text/plain": [
       "{(1, 2), (2, 3)}"
      ]
     },
     "execution_count": 59,
     "metadata": {},
     "output_type": "execute_result"
    }
   ],
   "source": [
    "G[(1,3)]"
   ]
  },
  {
   "cell_type": "code",
   "execution_count": 60,
   "id": "956f2cab-61d9-483d-a34b-96a71969c8d7",
   "metadata": {},
   "outputs": [],
   "source": [
    "f = open('input.txt')\n",
    "hoehe, breite = [int(x) for x in f.readline().split()]\n",
    "grid = {(x, y): c for x in range(hoehe) for y, c in enumerate(f.readline().strip())}"
   ]
  },
  {
   "cell_type": "code",
   "execution_count": 61,
   "id": "5635bcaf-19b9-4f73-9f5c-fc198e602b67",
   "metadata": {},
   "outputs": [
    {
     "data": {
      "text/plain": [
       "'B'"
      ]
     },
     "execution_count": 61,
     "metadata": {},
     "output_type": "execute_result"
    }
   ],
   "source": [
    "grid[(1,5)]"
   ]
  },
  {
   "cell_type": "markdown",
   "id": "f86c3202-57c9-40ce-ac93-8af6d9c32707",
   "metadata": {},
   "source": [
    "Wir drucken das grid aus:"
   ]
  },
  {
   "cell_type": "code",
   "execution_count": 62,
   "id": "ab711f52-1f15-4862-a827-4c30c872cf24",
   "metadata": {},
   "outputs": [
    {
     "name": "stdout",
     "output_type": "stream",
     "text": [
      "##########\n",
      "#...#B...#\n",
      "#...##...#\n",
      "###.#..###\n",
      "#.##A#...#\n",
      "#.....#..#\n",
      "#.....#..#\n",
      "#.....#..#\n",
      "#........#\n",
      "##########\n"
     ]
    }
   ],
   "source": [
    "for x in range(hoehe):\n",
    "    for y in range(breite):\n",
    "        print(grid[(x,y)],sep='',end='')\n",
    "    print()"
   ]
  },
  {
   "cell_type": "markdown",
   "id": "c61260ad-8afd-4d71-9034-8ec0aeee9633",
   "metadata": {},
   "source": [
    "Wir erzeugen den Graphen G"
   ]
  },
  {
   "cell_type": "code",
   "execution_count": 65,
   "id": "9607d318-ac29-4e68-ba5a-45a0808baf60",
   "metadata": {},
   "outputs": [],
   "source": [
    "dirs = [(1,0),(-1,0),(0,1),(0,-1)]  # mögliche Richtungen\n",
    "G ={v:set() for v in grid if grid[v] != '#'}\n",
    "for v in G:\n",
    "    x, y = v\n",
    "    for (xd, yd) in dirs:\n",
    "        xn, yn = x+xd, y+yd\n",
    "        if 0 <= xn < hoehe and 0 <= yn < breite and grid[(xn,yn)] != '#':\n",
    "            G[v].add((xn,yn))"
   ]
  },
  {
   "cell_type": "code",
   "execution_count": 66,
   "id": "e9348ef2-3ca8-4328-a7e5-5279d2a00975",
   "metadata": {},
   "outputs": [
    {
     "data": {
      "text/plain": [
       "{(1, 2), (2, 3)}"
      ]
     },
     "execution_count": 66,
     "metadata": {},
     "output_type": "execute_result"
    }
   ],
   "source": [
    "G[(1,3)]"
   ]
  },
  {
   "cell_type": "markdown",
   "id": "5c2d380c-846d-4e83-9d5f-bdc7d9c249e4",
   "metadata": {},
   "source": [
    "### 3D-Grids als Liste von Listen von Listen\n",
    "\n",
    "Wir beschränken uns im Beispiel auf 2 Ebenen.\n",
    "(0,0,0) ist die Koordinate oben links der 1.Ebene\n",
    "(1,0,0) ist die Koordinate oben links der 2.Ebene"
   ]
  },
  {
   "cell_type": "code",
   "execution_count": 85,
   "id": "a76f8739-768d-4d3f-951d-e1b7462adb90",
   "metadata": {},
   "outputs": [
    {
     "name": "stdout",
     "output_type": "stream",
     "text": [
      "Overwriting input.txt\n"
     ]
    }
   ],
   "source": [
    "%%writefile input.txt\n",
    "13 13\n",
    "#############\n",
    "#.....#.....#\n",
    "#.###.#.###.#\n",
    "#...#.#...#.#\n",
    "###.#.###.#.#\n",
    "#...#.....#.#\n",
    "#.#########.#\n",
    "#.....#.....#\n",
    "#####.#.###.#\n",
    "#....A#...#.#\n",
    "#.#########.#\n",
    "#...........#\n",
    "#############\n",
    "\n",
    "#############\n",
    "#.......#...#\n",
    "#...#.#.#...#\n",
    "#...#.#.....#\n",
    "#.###.#.#.###\n",
    "#.....#.#...#\n",
    "#####.###...#\n",
    "#.....#.....#\n",
    "#.#########.#\n",
    "#...#.......#\n",
    "#.#.#.#.###.#\n",
    "#.#...#...#B#\n",
    "#############"
   ]
  },
  {
   "cell_type": "code",
   "execution_count": 86,
   "id": "08bf647e-6556-44bc-999c-4ec85ff0a5a5",
   "metadata": {},
   "outputs": [],
   "source": [
    "f = open('input.txt')\n",
    "hoehe, breite = [int(x) for x in f.readline().split()]\n",
    "\n",
    "grid = []\n",
    "grid0 = []\n",
    "grid1 = []\n",
    "for i in range(hoehe):\n",
    "    grid0.append(list(f.readline().strip()))\n",
    "f.readline()      # Leerzeile\n",
    "for i in range(hoehe):\n",
    "    grid1.append(list(f.readline().strip()))\n",
    "grid = [grid0, grid1]"
   ]
  },
  {
   "cell_type": "markdown",
   "id": "e225a6b5-2d28-42ac-be9b-e369c2bdf29c",
   "metadata": {},
   "source": [
    "Die erste Koordinate bezeichnet die Ebene"
   ]
  },
  {
   "cell_type": "code",
   "execution_count": 87,
   "id": "3ad67bf5-978d-4e64-b63e-362b6b169601",
   "metadata": {},
   "outputs": [
    {
     "data": {
      "text/plain": [
       "('A', 'B')"
      ]
     },
     "execution_count": 87,
     "metadata": {},
     "output_type": "execute_result"
    }
   ],
   "source": [
    "grid[0][9][5], grid[1][11][11]"
   ]
  },
  {
   "cell_type": "markdown",
   "id": "8802df41-0877-4776-b058-a7d43f8f3056",
   "metadata": {},
   "source": [
    "Für den Graphen erstellen wir zunächst die Liste der Knoten V als Liste von Koordinatentripel."
   ]
  },
  {
   "cell_type": "code",
   "execution_count": 88,
   "id": "51f05851-aa22-4e81-940b-62d382fc113d",
   "metadata": {},
   "outputs": [],
   "source": [
    "V = [(z,x,y) for z in range(2) for x in range(hoehe) for y in range(breite) if grid[z][x][y] != '#']"
   ]
  },
  {
   "cell_type": "markdown",
   "id": "e7a826d9-5e9f-4d9f-b1e1-bc616c133d5c",
   "metadata": {},
   "source": [
    "Für einen gewichteten Graphen ordnen wir jedem Knoten ein dictionary zu, das die Nachbarknoten mit den entsprechenden Kosten enthält. Im Beispiel hat jeder Schritt innerhalb der Ebene die Kosten 1, der Ebenenwechsel kostet 3."
   ]
  },
  {
   "cell_type": "code",
   "execution_count": 95,
   "id": "3a3de3b8-b534-4951-ba33-fd5815efb74b",
   "metadata": {},
   "outputs": [],
   "source": [
    "dirs = [(-1,0,0),(1,0,0),(0,-1,0),(0,1,0),(0,0,-1),(0,0,1)]  # mögliche Richtungen\n",
    "G = {v:dict() for v in V}\n",
    "for v in G:\n",
    "    z,x,y = v\n",
    "    for zd,xd,yd in dirs:\n",
    "        zn, xn, yn = z+zd, x+xd, y+yd\n",
    "        if 0 <= zn <=1 and 0 <= xn < hoehe and 0 <= yn < breite and grid[zn][xn][yn] != '#':\n",
    "            if zn == z:\n",
    "                G[(z,x,y)][(zn,xn,yn)] = 1           \n",
    "            else:\n",
    "                G[(z,x,y)][(zn,xn,yn)] = 3     # Ebene wechseln kostet 3\n",
    "    "
   ]
  },
  {
   "cell_type": "code",
   "execution_count": 97,
   "id": "b2d50936-63fd-4e7b-b9f9-0855357593aa",
   "metadata": {},
   "outputs": [
    {
     "data": {
      "text/plain": [
       "{(1, 3, 11): 3, (0, 2, 11): 1, (0, 4, 11): 1}"
      ]
     },
     "execution_count": 97,
     "metadata": {},
     "output_type": "execute_result"
    }
   ],
   "source": [
    "G[(0,3,11)]"
   ]
  },
  {
   "cell_type": "code",
   "execution_count": null,
   "id": "849dfc04-a10f-4037-ad25-325feb6f0ecb",
   "metadata": {},
   "outputs": [],
   "source": []
  }
 ],
 "metadata": {
  "kernelspec": {
   "display_name": "Python 3 (ipykernel)",
   "language": "python",
   "name": "python3"
  },
  "language_info": {
   "codemirror_mode": {
    "name": "ipython",
    "version": 3
   },
   "file_extension": ".py",
   "mimetype": "text/x-python",
   "name": "python",
   "nbconvert_exporter": "python",
   "pygments_lexer": "ipython3",
   "version": "3.11.2"
  }
 },
 "nbformat": 4,
 "nbformat_minor": 5
}

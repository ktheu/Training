{
 "cells": [
  {
   "cell_type": "markdown",
   "id": "d387ce18-07df-4822-b9f4-b5afe7afd962",
   "metadata": {},
   "source": [
    "### Dictionaries"
   ]
  },
  {
   "cell_type": "raw",
   "id": "f5898032-f84d-4761-a92b-493a034c4cd0",
   "metadata": {},
   "source": [
    "m = dict()   oder  m = {}     # leeres dict          \n",
    "m = {'a':12, 'b': 5, 'c': 7}   \n",
    "\n",
    "m1 = {'d' : 9}\n",
    "m.update(m1)                  # die inhalte von m1 werden zu m hinzugefügt.\n",
    "\n",
    "m['e'] = 17                   # ein weiterer Inhalt wird hinzugefügt / überschrieben\n",
    "del(m['c'])                   # einen Eintrag löschen\n",
    "\n",
    "k in m                        # ist k ein key in m?\n",
    "\n",
    "len(m)                        # Länge des dicts\n",
    "\n",
    "for k in m:                   # alle keys durchlaufen (oder: for k in m.keys())\n",
    "    print(k)      \n",
    "    \n",
    "for v in m.values():          # alle values durchlaufen\n",
    "    print(v) \n",
    "    \n",
    "for k, v in m.items():        # alle key,value-Paare durchlaufen\n",
    "    print(k,v)\n",
    "    \n",
    "m = {c : ord(c) for c in 'Hallo'}    # dict-Comprehension\n",
    "mr = {m[k] : k for k in m}           # umgekehrtes dict"
   ]
  },
  {
   "cell_type": "markdown",
   "id": "7f27e47b-8808-4667-8ac0-44c0f718616d",
   "metadata": {},
   "source": [
    "----\n",
    "#### A1\n",
    "Erstelle ein dict, das Zahlen zu Farben zuordnet."
   ]
  },
  {
   "cell_type": "code",
   "execution_count": null,
   "id": "04bbafa9-a4bb-4222-b07f-7a1329cda89c",
   "metadata": {
    "tags": []
   },
   "outputs": [],
   "source": [
    "# your code\n",
    "\n",
    "for k,v in m.items():\n",
    "    print(k,v)    "
   ]
  },
  {
   "cell_type": "raw",
   "id": "eccf498f-d4be-42ec-9d31-cb0536d49ac3",
   "metadata": {},
   "source": [
    "0 Blau\n",
    "1 Rot\n",
    "2 Gelb"
   ]
  },
  {
   "cell_type": "markdown",
   "id": "53729b99-5fe0-487f-a38a-f7801f97718b",
   "metadata": {
    "tags": []
   },
   "source": [
    "----\n",
    "#### A2\n",
    "Erstelle aus dem dict m mit einer dict-Comprehension das dict m2.\n"
   ]
  },
  {
   "cell_type": "code",
   "execution_count": null,
   "id": "ff0a4ad1-204a-44b7-b199-61c30716219e",
   "metadata": {
    "tags": []
   },
   "outputs": [],
   "source": [
    "# your code\n",
    "\n",
    "for k,v in m2.items():\n",
    "    print(k,v)  "
   ]
  },
  {
   "cell_type": "raw",
   "id": "52de8ec6-b6eb-4bd7-8dd0-80cb66870c30",
   "metadata": {},
   "source": [
    "10 Blau\n",
    "11 Rot\n",
    "12 Gelb"
   ]
  },
  {
   "cell_type": "markdown",
   "id": "e10dad11-a0eb-4302-9c9e-f11cff56dcbd",
   "metadata": {},
   "source": [
    "----\n",
    "#### A3\n",
    "Füge die Einträge von m2 dem dict m hinzu."
   ]
  },
  {
   "cell_type": "code",
   "execution_count": null,
   "id": "8191ac61-6adf-47bf-ad48-f1cbcf7ca6bb",
   "metadata": {
    "tags": []
   },
   "outputs": [],
   "source": [
    "# your code \n",
    "\n",
    "for k,v in m.items():\n",
    "    print(k,v)  "
   ]
  },
  {
   "cell_type": "raw",
   "id": "f2e63660-10e8-4950-97e3-0f7f929e846d",
   "metadata": {},
   "source": [
    "0 Blau\n",
    "1 Rot\n",
    "2 Gelb\n",
    "10 Blau\n",
    "11 Rot\n",
    "12 Gelb"
   ]
  },
  {
   "cell_type": "markdown",
   "id": "bc481390-6349-4993-83ab-5685485496ba",
   "metadata": {},
   "source": [
    "----\n",
    "#### A4\n",
    "Erstelle mit einer Comprehension ein dict mit den Zahlen von 0-9 als keys und jeweils einer leeren Liste als value. "
   ]
  },
  {
   "cell_type": "code",
   "execution_count": null,
   "id": "26725e56-65af-4c37-a6a7-7e017e8622b6",
   "metadata": {
    "tags": []
   },
   "outputs": [],
   "source": [
    "# your code \n",
    "\n",
    "for k,v in m.items():\n",
    "    print(k,v)  "
   ]
  },
  {
   "cell_type": "raw",
   "id": "54cc27b3-2810-45ee-b871-7c1c9c2e249e",
   "metadata": {},
   "source": [
    "0 []\n",
    "1 []\n",
    "2 []\n",
    "3 []\n",
    "4 []\n",
    "5 []\n",
    "6 []\n",
    "7 []\n",
    "8 []\n",
    "9 []"
   ]
  },
  {
   "cell_type": "markdown",
   "id": "add25e0a-0ff8-45a0-9764-db12eb579b19",
   "metadata": {
    "tags": []
   },
   "source": [
    "----\n",
    "#### A5\n",
    "Erstelle mit einer Comprehension ein dict mit allen Kleinbuchstaben a-z als key und False als value.\n",
    "Gehe dann durch die Zeichen des Strings s setze deren values auf True.\n"
   ]
  },
  {
   "cell_type": "code",
   "execution_count": null,
   "id": "54fbd212-1a4e-4681-8ff8-615224ec4642",
   "metadata": {
    "tags": []
   },
   "outputs": [],
   "source": [
    "s =  'Arzneimittelversorgungswirtschaftlichkeitsgesetz'\n",
    "\n",
    "# your code\n",
    "\n",
    "for k,v in m.items():\n",
    "    print(k,v)  "
   ]
  },
  {
   "cell_type": "raw",
   "id": "f42a2076-8308-4f46-a6fb-467d686e6633",
   "metadata": {},
   "source": [
    "a True\n",
    "b False\n",
    "c True\n",
    "d False\n",
    "e True\n",
    "f True\n",
    "g True\n",
    "h True\n",
    "i True\n",
    "j False\n",
    "k True\n",
    "l True\n",
    "m True\n",
    "n True\n",
    "o True\n",
    "p False\n",
    "q False\n",
    "r True\n",
    "s True\n",
    "t True\n",
    "u True\n",
    "v True\n",
    "w True\n",
    "x False\n",
    "y False\n",
    "z True\n",
    "A True"
   ]
  },
  {
   "cell_type": "markdown",
   "id": "04f0a5fd-338b-4c43-9658-4610b4d4daba",
   "metadata": {},
   "source": [
    "----\n",
    "#### A6\n",
    "Erstelle mit einer Comprehension eine Liste mit allen Kleinbuchstaben, die nicht in s aus A5 vorkommen. Nutze dazu das dict aus A5. "
   ]
  },
  {
   "cell_type": "code",
   "execution_count": null,
   "id": "30ce085e-93b3-4116-a5e1-83b8291e9ee2",
   "metadata": {
    "tags": []
   },
   "outputs": [],
   "source": [
    "a = None\n",
    "print(a)"
   ]
  },
  {
   "cell_type": "raw",
   "id": "8b445954-cd71-491a-a85e-7f3fe4c1321d",
   "metadata": {},
   "source": [
    "['b', 'd', 'j', 'p', 'q', 'x', 'y']"
   ]
  },
  {
   "cell_type": "markdown",
   "id": "8ad0d71f-17af-4514-9e34-a01fd70cccd8",
   "metadata": {},
   "source": [
    "----\n",
    "#### A7\n",
    "Erstelle ein dict, das für jeden Buchstaben aus s dessen Häufigkeit in s verzeichnet."
   ]
  },
  {
   "cell_type": "code",
   "execution_count": null,
   "id": "cd9d7ab6-f559-4ba6-b9c8-99531cf5d108",
   "metadata": {
    "tags": []
   },
   "outputs": [],
   "source": [
    "s = 'Arzneimittelversorgungswirtschaftlichkeitsgesetz'\n",
    " \n",
    "# your code \n",
    "\n",
    "print(m)\n",
    "        "
   ]
  },
  {
   "cell_type": "raw",
   "id": "43480370-a9e5-4d14-9acd-0ebfb3551a48",
   "metadata": {},
   "source": [
    "{'A': 1, 'r': 4, 'z': 2, 'n': 2, 'e': 6, 'i': 5, 'm': 1, 't': 6, 'l': 2, 'v': 1, 's': 5, 'o': 1, 'g': 3, 'u': 1, 'w': 1, 'c': 2, 'h': 2, 'a': 1, 'f': 1, 'k': 1}"
   ]
  }
 ],
 "metadata": {
  "kernelspec": {
   "display_name": "Python 3 (ipykernel)",
   "language": "python",
   "name": "python3"
  },
  "language_info": {
   "codemirror_mode": {
    "name": "ipython",
    "version": 3
   },
   "file_extension": ".py",
   "mimetype": "text/x-python",
   "name": "python",
   "nbconvert_exporter": "python",
   "pygments_lexer": "ipython3",
   "version": "3.11.2"
  }
 },
 "nbformat": 4,
 "nbformat_minor": 5
}

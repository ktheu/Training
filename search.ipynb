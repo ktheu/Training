{
 "cells": [
  {
   "cell_type": "markdown",
   "id": "5280f2ee-3094-40b1-982d-1c5b81e01d28",
   "metadata": {},
   "source": [
    "### Search mit bfs\n",
    "\n",
    "Zur Übung sollen alle folgenden Probleme mit einem Search-Algorithmus gelöst werden.\n",
    "Es gilt also, eine geeignete Modellierung zu finden und die Funktionen *nextstates* und *goaltest* zu implementieren."
   ]
  },
  {
   "cell_type": "code",
   "execution_count": 10,
   "id": "0e897ed5-c674-4e15-8e92-3b293e161cec",
   "metadata": {},
   "outputs": [],
   "source": [
    "from collections import deque\n",
    "def bfs(startstate):\n",
    "    frontier =  deque([startstate])\n",
    "    prev = {startstate:None}\n",
    "    while frontier:\n",
    "        state = frontier.popleft()\n",
    "        if goaltest(state):\n",
    "            return prev, state\n",
    "        for v in nextstates(state):\n",
    "            if v not in prev:\n",
    "                frontier.append(v)\n",
    "                prev[v] = state\n",
    "    return None, None\n",
    "\n",
    "def reconstructPath(prev,goalstate):\n",
    "    state = goalstate\n",
    "    path = []\n",
    "    while state is not None:\n",
    "        path.append(state)\n",
    "        state = prev[state]\n",
    "    path.reverse()\n",
    "    return path\n",
    "\n",
    "def nextstates(state):\n",
    "    '''\n",
    "    returns: Liste mit den möglichen Folgezuständen\n",
    "    '''\n",
    "    pass\n",
    "\n",
    "\n",
    "def goaltest(state):\n",
    "    '''\n",
    "    True, falls state ein goalstate ist\n",
    "    '''\n",
    "    pass\n",
    "\n",
    "\n",
    "'''\n",
    "Aufruf:\n",
    "prev, state = bfs(startstate)\n",
    "path = reconstructPath(prev, state)\n",
    "''';"
   ]
  },
  {
   "cell_type": "markdown",
   "id": "41fbb7d2-b4bf-4001-980b-1ce39de13627",
   "metadata": {},
   "source": [
    "\n",
    "#### Aufgabe 1\n",
    "\n",
    "Gegeben sind zwei nicht leere Strings s1, s2 und ein leerer String s3. s1 und s2 bestehen nur aus '1' und '2', jede dieser Zeichen kommt insgesamt mindestens einmal vor. Ein Spielzug besteht darin, das letzte Zeichen von einem String zu entfernen und es einem anderen String hinzuzufügen, wobei für das Hinzufügen gilt: folgen zwei gleiche Zeichen hintereinander, so verschmelzen sie zu einem."
   ]
  },
  {
   "cell_type": "code",
   "execution_count": 2,
   "id": "f64bcaa4-e375-476a-8f99-2a2cb37a6d61",
   "metadata": {},
   "outputs": [],
   "source": [
    "# Beispiel:\n",
    "s1 = '121'\n",
    "s2 = '1'\n",
    "s3 = ''\n",
    "\n",
    "# Zug 1-2 = letztes Zeichen von s1 zu s2 hinzufügen\n",
    "s1 = '12'\n",
    "s2 = '1'    # die hinzugfügte '1' ist mit der bestehenden '1' verschmolzen\n",
    "s3 = ''"
   ]
  },
  {
   "cell_type": "markdown",
   "id": "33e9858a-4114-4860-818c-6aafabfc533c",
   "metadata": {},
   "source": [
    "\n",
    "Wieviele Züge benötigen wir, damit in s1 und s2 nur noch eine '1' oder '2' steht und s3 leer ist. Gib die Anzahl der Züge und eine mögliche Zugfolge an."
   ]
  },
  {
   "cell_type": "code",
   "execution_count": null,
   "id": "f8be0467-276f-4c3f-b256-178662314797",
   "metadata": {},
   "outputs": [],
   "source": [
    "Beispiel:\n",
    "s1 = '121'\n",
    "s2 = '12'\n",
    "\n",
    "Zugfolge: 1-3 1-2 1-3 2-1 3-2  führt in 5 Zügen zu\n",
    "s1 = '2'\n",
    "s2 = '1'"
   ]
  },
  {
   "cell_type": "markdown",
   "id": "a681c71a-52b9-486a-a5a1-ff9948d98d7f",
   "metadata": {},
   "source": [
    "#### Aufgabe 2 \n",
    "Flussüberquerung 1: Auf der Westseite des Flusses sind jeweils 3 A und 3 B. Auf einer Überfahrt zur Ostseite muss mindestens ein A oder B auf dem Schiff sein. In das Schiff passen höchstens 2 rein. Falls auf einer Seite mindestens ein A ist, dürfen es dort nicht mehr B als A sein.\n",
    "\n",
    "Wie viele Überfahrten benötigt man, damit alle auf der Ostseite sind? Gib dazu eine mögliche Reihenfolge der Überfahrten aus."
   ]
  },
  {
   "cell_type": "markdown",
   "id": "9efd1418-17c4-49ae-af43-4c192f214b4c",
   "metadata": {},
   "source": [
    "#### Aufgabe 3\n",
    "Flussüberquerung 2: Auf der einen Seite des Flusses sind Kohl, Wolf und Ziege und Mensch. Nur der Mensch kann die Fähre steuern und höchstens einen Gegenstand bzw Tier mitnehmen. Wolf und Ziege dürfen nie alleine auf einer Seite bleiben. Ziege und Kohl auch nicht. Wieviel Fahrten sind nötig? Gib eine mögliche Reihenfolge an.\n"
   ]
  },
  {
   "cell_type": "markdown",
   "id": "f83a9113-9b4d-4612-8f12-9903e5140327",
   "metadata": {},
   "source": [
    "#### Aufgabe 4: Die Girlande\n",
    "\n",
    "Eine Girlande besteht aus Lampen, die vier verschiedene Farben haben können. Ein String s der Länge 4 und nur die Zeichen 1 bis 4 enthält, stellt eine Girlande dar."
   ]
  },
  {
   "cell_type": "code",
   "execution_count": null,
   "id": "a0352791-9482-4e6f-b691-6c5a36f8eaf6",
   "metadata": {},
   "outputs": [],
   "source": [
    "# Beispiel:\n",
    "s = '1211'     # Girlande besteht aus 1 Lampe mit Farbe 1, 1 Lampe mit Farbe 2, dann wieder 2 Lampen mit Farbe 1"
   ]
  },
  {
   "cell_type": "markdown",
   "id": "b7344061-36eb-4474-a42e-df28eb1af6d8",
   "metadata": {},
   "source": [
    "Zu Beginn sind alle Lampen ausgeschaltet. Wir können beliebig oft folgende Operation durchführen:\n",
    "Wähle eine Lampe und ändere ihren Status (aus 'An' mache 'Aus' und umgekehrt). Die nächste Operation darf aber nur an einer Lampe ausgeführt werden, die eine andere Farbe hat. \n",
    "\n",
    "Berechne die minimale Anzahl der Operationen, die wir benötigen, um alle Lampen der Girlande anzuschalten und beschreibe eine mögliche Lösung.\n",
    "Gib -1 aus, wenn es nicht geht."
   ]
  },
  {
   "cell_type": "code",
   "execution_count": null,
   "id": "c1273d9f-2e1d-4043-be6b-c7f053546d56",
   "metadata": {},
   "outputs": [],
   "source": [
    "# In den Ausgabe ist die Lampe 1 die erste Lampe usw.\n",
    "# Beispiel1:\n",
    "s='1211'\n",
    "Anzahl Operationen: 6\n",
    "Lampe 1 ein\n",
    "Lampe 2 ein\n",
    "Lampe 3 ein\n",
    "Lampe 2 aus\n",
    "Lampe 4 ein\n",
    "Lampe 2 ein\n",
    "\n",
    "# Beispiel2:\n",
    "s='1111'\n",
    "-1\n",
    "\n",
    "# Beispiel3:\n",
    "s='1231'\n",
    "Anzahl Operationen: 4\n",
    "Lampe 1 ein\n",
    "Lampe 2 ein\n",
    "Lampe 3 ein\n",
    "Lampe 4 ein"
   ]
  },
  {
   "cell_type": "markdown",
   "id": "386ee094",
   "metadata": {},
   "source": [
    "#### Aufgabe 5: MOO-Operations\n",
    "\n",
    "Gegeben ist ein String s der nur aus den Zeichen M und O besteht. Folgende Operationen sind möglich:\n",
    "- (1) ersetze den ersten oder letzten Buchstaben durch den jeweils anderen ('M' wird zu 'O' bzw. 'O' wird zu 'M')\n",
    "- (2) lösche den ersten oder letzten Buchstaben\n",
    "\n",
    "Ziel ist es, durch eine minimale Anzahl von Operationen aus dem Anfangsstring s den String 'MOO' zu erzeugen.\n",
    "Ermittle die Anzahl der Operationen und beschreibe einen Weg dorthin."
   ]
  },
  {
   "cell_type": "code",
   "execution_count": null,
   "id": "5b806aff",
   "metadata": {},
   "outputs": [],
   "source": [
    "# Beispiel 1\n",
    "s = 'MOMMOM'\n",
    "\n",
    "Anzahl Operationen: 4\n",
    "Lösche erstes Zeichen von MOMMOM\n",
    "Lösche erstes Zeichen von OMMOM\n",
    "Lösche letztes Zeichen von MMOM\n",
    "Ändere letztes Zeichen von MOM auf O\n",
    "MOO\n",
    "\n",
    "\n",
    "# Beispiel 2\n",
    "s = 'MMOMOMOMM'\n",
    "\n",
    "Anzahl Operationen: 7\n",
    "Lösche letztes Zeichen von MMOMOMOMM\n",
    "Lösche erstes Zeichen von MOMOMOMM\n",
    "Lösche erstes Zeichen von OMOMOMM\n",
    "Lösche erstes Zeichen von MOMOMM\n",
    "Lösche erstes Zeichen von OMOMM\n",
    "Lösche letztes Zeichen von MOMM\n",
    "Ändere letztes Zeichen von MOM auf O\n",
    "MOO"
   ]
  }
 ],
 "metadata": {
  "kernelspec": {
   "display_name": "Python 3 (ipykernel)",
   "language": "python",
   "name": "python3"
  },
  "language_info": {
   "codemirror_mode": {
    "name": "ipython",
    "version": 3
   },
   "file_extension": ".py",
   "mimetype": "text/x-python",
   "name": "python",
   "nbconvert_exporter": "python",
   "pygments_lexer": "ipython3",
   "version": "3.11.2"
  }
 },
 "nbformat": 4,
 "nbformat_minor": 5
}

{
 "cells": [
  {
   "cell_type": "markdown",
   "id": "5280f2ee-3094-40b1-982d-1c5b81e01d28",
   "metadata": {},
   "source": [
    "### Search mit bfs\n",
    "\n",
    "Zur Übung sollen alle folgenden Probleme mit einem Search-Algorithmus gelöst werden.\n",
    "Es gilt also, eine geeignete Modellierung zu finden und die Funktionen *nextstates* und *goaltest* zu implementieren."
   ]
  },
  {
   "cell_type": "code",
   "execution_count": 10,
   "id": "0e897ed5-c674-4e15-8e92-3b293e161cec",
   "metadata": {},
   "outputs": [],
   "source": [
    "from collections import deque\n",
    "def bfs(startstate):\n",
    "    frontier =  deque([startstate])\n",
    "    prev = {startstate:None}\n",
    "    while frontier:\n",
    "        state = frontier.popleft()\n",
    "        if goaltest(state):\n",
    "            return prev, state\n",
    "        for v in nextstates(state):\n",
    "            if v not in prev:\n",
    "                frontier.append(v)\n",
    "                prev[v] = state\n",
    "    return None, None\n",
    "\n",
    "def reconstructPath(prev,goalstate):\n",
    "    state = goalstate\n",
    "    path = []\n",
    "    while state is not None:\n",
    "        path.append(state)\n",
    "        state = prev[state]\n",
    "    path.reverse()\n",
    "    return path\n",
    "\n",
    "def nextstates(state):\n",
    "    '''\n",
    "    returns: Liste mit den möglichen Folgezuständen\n",
    "    '''\n",
    "    pass\n",
    "\n",
    "\n",
    "def goaltest(state):\n",
    "    '''\n",
    "    True, falls state ein goalstate ist\n",
    "    '''\n",
    "    pass\n",
    "\n",
    "\n",
    "'''\n",
    "Aufruf:\n",
    "prev, state = bfs(startstate)\n",
    "path = reconstructPath(prev, state)\n",
    "''';"
   ]
  },
  {
   "cell_type": "markdown",
   "id": "41fbb7d2-b4bf-4001-980b-1ce39de13627",
   "metadata": {},
   "source": [
    "\n",
    "#### Aufgabe 1\n",
    "\n",
    "Gegeben sind zwei nicht leere Strings s1, s2 und ein leerer String s3. s1 und s2 bestehen nur aus '1' und '2', jede dieser Zeichen kommt insgesamt mindestens einmal vor. Ein Spielzug besteht darin, das letzte Zeichen von einem String zu entfernen und es einem anderen String hinzuzufügen, wobei für das Hinzufügen gilt: folgen zwei gleiche Zeichen hintereinander, so verschmelzen sie zu einem."
   ]
  },
  {
   "cell_type": "code",
   "execution_count": 2,
   "id": "f64bcaa4-e375-476a-8f99-2a2cb37a6d61",
   "metadata": {},
   "outputs": [],
   "source": [
    "# Beispiel:\n",
    "s1 = '121'\n",
    "s2 = '1'\n",
    "s3 = ''\n",
    "\n",
    "# Zug 1-2 = letztes Zeichen von s1 zu s2 hinzufügen\n",
    "s1 = '12'\n",
    "s2 = '1'    # die hinzugfügte '1' ist mit der bestehenden '1' verschmolzen\n",
    "s3 = ''"
   ]
  },
  {
   "cell_type": "markdown",
   "id": "33e9858a-4114-4860-818c-6aafabfc533c",
   "metadata": {},
   "source": [
    "\n",
    "Wieviele Züge benötigen wir, damit in s1 und s2 nur noch eine '1' oder '2' steht und s3 leer ist. Gib die Anzahl der Züge und eine mögliche Zugfolge an."
   ]
  },
  {
   "cell_type": "code",
   "execution_count": null,
   "id": "f8be0467-276f-4c3f-b256-178662314797",
   "metadata": {},
   "outputs": [],
   "source": [
    "Beispiel:\n",
    "s1 = '121'\n",
    "s2 = '12'\n",
    "\n",
    "Zugfolge: 1-3 1-2 1-3 2-1 3-2  führt in 5 Zügen zu\n",
    "s1 = '2'\n",
    "s2 = '1'"
   ]
  },
  {
   "cell_type": "markdown",
   "id": "a681c71a-52b9-486a-a5a1-ff9948d98d7f",
   "metadata": {},
   "source": [
    "#### Aufgabe 2 \n",
    "Flussüberquerung 1: Auf der Westseite des Flusses sind jeweils 3 A und 3 B. Auf einer Überfahrt zur Ostseite muss mindestens ein A oder B auf dem Schiff sein. In das Schiff passen höchstens 2 rein. Falls auf einer Seite mindestens ein A ist, dürfen es dort nicht mehr B als A sein.\n",
    "\n",
    "Wie viele Überfahrten benötigt man, damit alle auf der Ostseite sind? Gib dazu eine mögliche Reihenfolge der Überfahrten aus."
   ]
  },
  {
   "cell_type": "markdown",
   "id": "9efd1418-17c4-49ae-af43-4c192f214b4c",
   "metadata": {},
   "source": [
    "#### Aufgabe 3\n",
    "Flussüberquerung 2: Auf der einen Seite des Flusses sind Kohl, Wolf und Ziege und Mensch. Nur der Mensch kann die Fähre steuern und höchstens einen Gegenstand bzw Tier mitnehmen. Wolf und Ziege dürfen nie alleine auf einer Seite bleiben. Ziege und Kohl auch nicht. Wieviel Fahrten sind nötig? Gib eine mögliche Reihenfolge an.\n"
   ]
  }
 ],
 "metadata": {
  "kernelspec": {
   "display_name": "Python 3 (ipykernel)",
   "language": "python",
   "name": "python3"
  },
  "language_info": {
   "codemirror_mode": {
    "name": "ipython",
    "version": 3
   },
   "file_extension": ".py",
   "mimetype": "text/x-python",
   "name": "python",
   "nbconvert_exporter": "python",
   "pygments_lexer": "ipython3",
   "version": "3.11.2"
  }
 },
 "nbformat": 4,
 "nbformat_minor": 5
}

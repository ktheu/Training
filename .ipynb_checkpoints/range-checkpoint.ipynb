{
 "cells": [
  {
   "cell_type": "markdown",
   "id": "9da2cacb-6f3f-47c3-9209-4924c077e697",
   "metadata": {},
   "source": [
    "## Range\n",
    "\n",
    "Die *range*-Funktion gibt uns ein Objekt zurück, durch das wir mit einer for-Schleife laufen können. Mit der *list*-Funktion können wir das range-Objekt in eine Liste umwandeln. Der bis-Wert bei den range-Parametern ist im Bereich nicht enthalten.\n"
   ]
  },
  {
   "cell_type": "code",
   "execution_count": 39,
   "id": "e784d766-0153-4892-8eb3-2050fb7686d7",
   "metadata": {
    "tags": []
   },
   "outputs": [
    {
     "name": "stdout",
     "output_type": "stream",
     "text": [
      "0 1 2 3 "
     ]
    }
   ],
   "source": [
    "list(range(6))      # [0, 1, 2, 3, 4, 5]\n",
    "list(range(2,9))    # [2, 3, 4, 5, 6, 7, 8]\n",
    "list(range(3,10,2)) # [3, 5, 7, 9]         # der dritte Parameter ist die Schrittweite\n",
    "list(range(10,5,-1)) # [10, 9, 8, 7, 6]    # rückwärts\n",
    "'x'*5                # erzeugt den String 'xxxxx'\n",
    "for i in range(4):     \n",
    "    print(i, end=' ')    # end = ' ' erzeugt Leerzeichen statt Zeilenvorschub\n"
   ]
  },
  {
   "cell_type": "markdown",
   "id": "47ec3dea-d9cf-430c-91ac-287d1f6e1612",
   "metadata": {},
   "source": [
    "## Aufgaben\n",
    "\n",
    "----\n",
    "#### A1\n",
    "Erzeuge mit range und list die im Kommentar angegebenen Listen.\n"
   ]
  },
  {
   "cell_type": "code",
   "execution_count": 40,
   "id": "869ffdaf-6784-4406-93d3-ed6579e4087a",
   "metadata": {},
   "outputs": [],
   "source": [
    "'''\n",
    "[0, 1, 2]\n",
    "'''\n",
    "pass          # your code"
   ]
  },
  {
   "cell_type": "code",
   "execution_count": 41,
   "id": "36bb2e62-3a00-4d21-9f74-fa381ee1b7ea",
   "metadata": {},
   "outputs": [],
   "source": [
    "'''\n",
    "[0, 1, 2, 3, 4, 5, 6, 7, 8, 9, 10]\n",
    "'''\n",
    "pass          # your code"
   ]
  },
  {
   "cell_type": "code",
   "execution_count": 42,
   "id": "68def23d-e197-44fa-8da2-25eb184d3baa",
   "metadata": {},
   "outputs": [],
   "source": [
    "'''\n",
    "[6, 7, 8, 9, 10]\n",
    "'''\n",
    "pass          # your code"
   ]
  },
  {
   "cell_type": "code",
   "execution_count": 43,
   "id": "d356a3a1-5226-45d5-a53b-6d25c62413bc",
   "metadata": {},
   "outputs": [],
   "source": [
    "'''\n",
    "[5, 6, 7, 8, 9, 10, 11, 12, 13, 14, 15]\n",
    "'''\n",
    "pass          # your code"
   ]
  },
  {
   "cell_type": "code",
   "execution_count": 44,
   "id": "af63224f-31d4-44f5-938c-cc85b3d2cd1a",
   "metadata": {},
   "outputs": [],
   "source": [
    "'''\n",
    "[2, 1, 0, -1, -2]\n",
    "'''\n",
    "pass          # your code"
   ]
  },
  {
   "cell_type": "code",
   "execution_count": 45,
   "id": "6b14b135-e118-43d8-8906-c529266500df",
   "metadata": {},
   "outputs": [],
   "source": [
    "'''\n",
    "[20, 18, 16, 14, 12, 10, 8, 6, 4, 2, 0]\n",
    "'''\n",
    "pass          # your code"
   ]
  },
  {
   "cell_type": "markdown",
   "id": "855a535c-7cc2-420d-bad3-49f181efa011",
   "metadata": {},
   "source": [
    "#### A2\n",
    "Gib die im Kommentar angegebene Zahlenfolge mit einer for-Schleife aus."
   ]
  },
  {
   "cell_type": "code",
   "execution_count": 46,
   "id": "e9da14b1-9584-4c40-8ebf-e3e4ee5f43c9",
   "metadata": {},
   "outputs": [],
   "source": [
    "'''\n",
    "3 4 5 6 7 8 9\n",
    "'''\n",
    "pass          # your code"
   ]
  },
  {
   "cell_type": "code",
   "execution_count": 47,
   "id": "3fb4f9b9-ee4d-40c9-ba31-83e2029397c0",
   "metadata": {},
   "outputs": [],
   "source": [
    "'''\n",
    "10 9 8 7 6\n",
    "'''\n",
    "pass          # your code"
   ]
  },
  {
   "cell_type": "code",
   "execution_count": 48,
   "id": "a7192bd8-cd79-47e3-b4b2-c36c12bdd330",
   "metadata": {},
   "outputs": [],
   "source": [
    "'''\n",
    "50 45 40 35 30 25 20 15 10 5 0\n",
    "'''\n",
    "pass          # your code"
   ]
  },
  {
   "cell_type": "code",
   "execution_count": 49,
   "id": "8742f431-7108-48d2-ab1d-dc6440565e28",
   "metadata": {},
   "outputs": [],
   "source": [
    "'''\n",
    "10 12 14 16 18 20 22 24 26 28 30 32 34 36 38 40\n",
    "'''\n",
    "pass          # your code"
   ]
  },
  {
   "cell_type": "markdown",
   "id": "d411c624-408b-434b-80d5-cae73aab3651",
   "metadata": {},
   "source": [
    "#### A3\n",
    "Gib mit einer for-Schleife die im Kommentar angegebene Zeichenfolgen aus (die erste Zeile sind 10 x)."
   ]
  },
  {
   "cell_type": "code",
   "execution_count": 50,
   "id": "82153480-a43d-43d0-b3e6-d85649a060be",
   "metadata": {},
   "outputs": [],
   "source": [
    "'''\n",
    "xxxxxxxxxx\r\n",
    "xxxxxxxxx\r\n",
    "xxxxxxxx\r\n",
    "xxxxxxx\r\n",
    "xxxxxx\r\n",
    "xxxxx\r\n",
    "xxxx\r\n",
    "xxx\r\n",
    "xx\r\n",
    "x\n",
    "'''\n",
    "pass          # your code"
   ]
  },
  {
   "cell_type": "markdown",
   "id": "a909f0d6-8a48-43e1-ac0a-2b10b99ef0d9",
   "metadata": {},
   "source": [
    "Nutze zwei for-Schleifen hintereinander. Die\n",
    "längste Zeile hat 20 Zeichen, die kürzeste Zeile hat\n",
    "10 Zeichen.\n"
   ]
  },
  {
   "cell_type": "code",
   "execution_count": 51,
   "id": "852813ee-baa3-4650-8c2c-fc23978b7717",
   "metadata": {},
   "outputs": [],
   "source": [
    "'''\n",
    "********************\n",
    "******************\n",
    "****************\n",
    "**************\n",
    "************\n",
    "**********\n",
    "************\n",
    "**************\n",
    "****************\n",
    "******************\n",
    "********************\n",
    "'''\n",
    "pass          # your code"
   ]
  }
 ],
 "metadata": {
  "kernelspec": {
   "display_name": "Python 3 (ipykernel)",
   "language": "python",
   "name": "python3"
  },
  "language_info": {
   "codemirror_mode": {
    "name": "ipython",
    "version": 3
   },
   "file_extension": ".py",
   "mimetype": "text/x-python",
   "name": "python",
   "nbconvert_exporter": "python",
   "pygments_lexer": "ipython3",
   "version": "3.11.2"
  }
 },
 "nbformat": 4,
 "nbformat_minor": 5
}

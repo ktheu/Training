{
 "cells": [
  {
   "cell_type": "markdown",
   "id": "e4781b05-752d-4687-bbe2-8bdf86d2789d",
   "metadata": {},
   "source": [
    "### Tuples\n",
    "\n",
    "Tuples ähneln Listen, aber sie sind nicht veränderbar. Wir können Elemente über den Index zwar lesen, aber nicht verändern.\n",
    "Tuples können keys von dictionaries sein. Das können Listen nicht. Wenn wir uns zu  Listen in einem dictionary etwas merken wollen, müssen wir sie erst in Tuples umwandeln."
   ]
  },
  {
   "cell_type": "raw",
   "id": "1da0eadb-fcbd-441c-988a-2162d5703b52",
   "metadata": {
    "tags": []
   },
   "source": [
    "t = ()                        # ein leeres Tuple \n",
    "t = (1,)                      # ein Tuple mit einem Element, das Komma unterscheidet es von einer normalen Klammerung\n",
    "t = (1,2,3)\n",
    "t = (1,False,'Hallo')         # die Elemente können von unterschiedlichem Typ sein\n",
    "len(t)                        # die Länge des Tuples\n",
    "\n",
    "x = t[0]                      # Indexing\n",
    "t[0] = 8                      # FEHLER: das geht nicht - tuples sind immutable\n",
    "     \n",
    "t1 = t[1:3]                   # Slicing wie bei Listen       \n",
    "\n",
    "t = (4,5)\n",
    "x, y = t                      # unpacking, sehr praktisch\n",
    "\n",
    "def foo(a, b):               \n",
    "    return a//b, a%b          # hier wird ein Tuple zurückgegeben, die äußere Klammer kann weggelassen werden\n",
    "x, y = foo(4,5)               # unpacking des Rückgabewerts \n",
    "\n",
    "a = [1,2,3]\n",
    "t = tuple(a)                  # eine Liste in ein Tuple umwandeln\n",
    "b = list(t)                   # ein Tuple in eine Liste umwandeln"
   ]
  },
  {
   "cell_type": "markdown",
   "id": "2efbc42b-f92c-4e79-9bc3-66652ac2206c",
   "metadata": {},
   "source": [
    "Wie Listen können wir Tuples mit for-Schleifen durchlaufen oder sie als Input für List-Comprehensions benutzen."
   ]
  },
  {
   "cell_type": "raw",
   "id": "5b7075a7-0fb1-4dcd-9d66-904a2edf7f0a",
   "metadata": {
    "tags": []
   },
   "source": [
    "for i in range(len(t)):       # mit dem Index die Elemente des Tuples durchlaufen\n",
    "    print(t[i])\n",
    "\n",
    "for x in t:                   # die Elemente des Tuples durchlaufen\n",
    "    print(x)\n",
    "    \n",
    "tuple([2*x for x in t])       # über eine List-Comprehension ein neues Tuple erzeugen."
   ]
  },
  {
   "cell_type": "markdown",
   "id": "2244c25a-914c-4816-9268-afd6f7358a8f",
   "metadata": {},
   "source": [
    "### Aufgaben"
   ]
  },
  {
   "cell_type": "markdown",
   "id": "c3afa6b7-24ed-440c-bc34-f2955bf969d3",
   "metadata": {},
   "source": [
    "----\n",
    "#### A1\n",
    "Erzeuge ein beliebiges tuple mit Länge 4."
   ]
  },
  {
   "cell_type": "code",
   "execution_count": null,
   "id": "7349fed6-6c61-4cca-bc92-c2ef6edda21e",
   "metadata": {
    "tags": []
   },
   "outputs": [],
   "source": [
    "t = None\n",
    "print(len(t)) "
   ]
  },
  {
   "cell_type": "raw",
   "id": "a81117b2-959f-4340-add3-9729dc38f65a",
   "metadata": {},
   "source": [
    "4"
   ]
  },
  {
   "cell_type": "markdown",
   "id": "3c1d5f38-222c-4223-8d9c-2c1da19c3097",
   "metadata": {
    "tags": []
   },
   "source": [
    "----\n",
    "#### A2\n",
    "\n",
    "Erzeuge ein Tuple t, mit dem die angegebenen Ausgaben möglich sind."
   ]
  },
  {
   "cell_type": "code",
   "execution_count": null,
   "id": "04a5d64b-895b-475e-a94b-77fbb00e21a3",
   "metadata": {
    "tags": []
   },
   "outputs": [],
   "source": [
    "t = None\n",
    "print(t[1],t[3],t[-1],t[-4])"
   ]
  },
  {
   "cell_type": "raw",
   "id": "eb53ea9e-6931-46b4-9c7e-8e8e306a1a2a",
   "metadata": {},
   "source": [
    "R 2 D 2"
   ]
  },
  {
   "cell_type": "markdown",
   "id": "108663c0-b09d-4a4c-8cf7-4d04634ed2df",
   "metadata": {
    "tags": []
   },
   "source": [
    "----\n",
    "#### A2\n",
    "Weise den Elementen x1, x2, x3 mittels unpacking die Werte des Tuples v zu."
   ]
  },
  {
   "cell_type": "code",
   "execution_count": null,
   "id": "3867eb9b-75fa-4188-a397-acc2d31b3f1d",
   "metadata": {
    "tags": []
   },
   "outputs": [],
   "source": [
    "v = (4,3,12)\n",
    "# your code\n",
    "print(x1, x2, x3)"
   ]
  },
  {
   "cell_type": "raw",
   "id": "ed5d1a2b-a412-419d-ba98-6e70f4998167",
   "metadata": {},
   "source": [
    "4 3 12"
   ]
  },
  {
   "cell_type": "markdown",
   "id": "bba4ad1d-680b-4042-acfb-a3534ad18c88",
   "metadata": {
    "tags": []
   },
   "source": [
    "----\n",
    "#### A3\n",
    "Erzeuge eine Liste mit zehn 2D-Koordinaten. Die Koordinaten sollen ganzzahlige Tuple sein und zufällig im Bereich zwischen -8 und 8 \n",
    "gewählt werden."
   ]
  },
  {
   "cell_type": "code",
   "execution_count": null,
   "id": "7b8260ae-f431-486c-9fd1-8353438207fb",
   "metadata": {
    "tags": []
   },
   "outputs": [],
   "source": [
    "import random\n",
    "# your code\n",
    "print(a)"
   ]
  },
  {
   "cell_type": "raw",
   "id": "eea27d7e-3b54-478b-9200-5f64ebe915c6",
   "metadata": {},
   "source": [
    "Beispiel:\n",
    "    \n",
    "[(2, -1), (8, 8), (8, -3), (2, -5), (1, -5), (-4, 3), (-4, -8), (6, 1), (-2, 5), (-6, -1)]  "
   ]
  },
  {
   "cell_type": "markdown",
   "id": "a0707c5e-4387-44c5-926d-0aa069e77c64",
   "metadata": {
    "tags": []
   },
   "source": [
    "----\n",
    "#### A4\n",
    "Jedes Element des gegebenen Tuples soll um 1 erhöht werden. \n"
   ]
  },
  {
   "cell_type": "code",
   "execution_count": null,
   "id": "187809c2-e06c-4855-a3d8-a557e5761acf",
   "metadata": {
    "tags": []
   },
   "outputs": [],
   "source": [
    "t = (23, 95, 2, 58, 63, 31, 10, 33, 78, 78, 13, 96, 86, 43, 63, 11, 35, 84, 23, 27)\n",
    "# your code\n",
    "print(t)"
   ]
  },
  {
   "cell_type": "raw",
   "id": "98853944-713b-429a-8829-ae64a89be95d",
   "metadata": {},
   "source": [
    "(24, 96, 3, 59, 64, 32, 11, 34, 79, 79, 14, 97, 87, 44, 64, 12, 36, 85, 24, 28)"
   ]
  }
 ],
 "metadata": {
  "kernelspec": {
   "display_name": "Python 3 (ipykernel)",
   "language": "python",
   "name": "python3"
  },
  "language_info": {
   "codemirror_mode": {
    "name": "ipython",
    "version": 3
   },
   "file_extension": ".py",
   "mimetype": "text/x-python",
   "name": "python",
   "nbconvert_exporter": "python",
   "pygments_lexer": "ipython3",
   "version": "3.11.2"
  }
 },
 "nbformat": 4,
 "nbformat_minor": 5
}

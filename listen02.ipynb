{
 "cells": [
  {
   "cell_type": "markdown",
   "id": "9bf55c4e-a832-4ff0-865d-16b93c5c1fff",
   "metadata": {},
   "source": [
    "### Listen 02\n",
    "\n"
   ]
  },
  {
   "cell_type": "raw",
   "id": "f722cc41-ba19-4cb7-9b93-216a2953dd90",
   "metadata": {},
   "source": [
    "a = [False]*10                    # eine Liste mit 10 Elementen, alle mit Wert False\n",
    "a = [[0]*8 for _ in range(5)]     # eine 5x8-Matrix (5 Reihen, 8 Spalten), alle Werte mit 0 initialisiert.\n",
    "\n",
    "a.extends(b)                      # an die Liste a wird die Liste b drangehängt\n",
    "c = a + b                         # die Liste c ist zusammengesetzt aus Liste a und Liste b"
   ]
  },
  {
   "cell_type": "markdown",
   "id": "2d555e18-d827-4fdd-a95c-d74ea00a9165",
   "metadata": {},
   "source": [
    "#### Seiteneffekte\n",
    "Listen sind mutable (veränderbare) Objekte. Wir müssen auf Seiteneffekte achten."
   ]
  },
  {
   "cell_type": "code",
   "execution_count": 141,
   "id": "96963345-37a7-4c4f-84db-1fa9255095b3",
   "metadata": {
    "tags": []
   },
   "outputs": [
    {
     "name": "stdout",
     "output_type": "stream",
     "text": [
      "[1, 0, 0, 0, 0]\n",
      "[1, 0, 0, 0, 0]\n",
      "[1, 0, 0, 0, 0]\n",
      "[1, 0, 0, 0, 0]\n",
      "[1, 0, 0, 0, 0]\n"
     ]
    }
   ],
   "source": [
    "a = [[0]*5]*5            # FALSCH: dieselbe Liste wird 5 mal wiederholt: dies führt zu Seiteneffekten\n",
    "a[0][0] = 1              # Seiteneffekt: die Änderung an der Stelle 0,0 ändert auch andere Stellen.\n",
    "for row in a:\n",
    "    print(row)"
   ]
  },
  {
   "cell_type": "code",
   "execution_count": 142,
   "id": "d95b6860-fb61-4609-af04-690e0cdee00e",
   "metadata": {
    "tags": []
   },
   "outputs": [
    {
     "name": "stdout",
     "output_type": "stream",
     "text": [
      "[1, 0, 0, 0, 0]\n",
      "[0, 0, 0, 0, 0]\n",
      "[0, 0, 0, 0, 0]\n",
      "[0, 0, 0, 0, 0]\n",
      "[0, 0, 0, 0, 0]\n"
     ]
    }
   ],
   "source": [
    "a = [[0]*5 for _ in range(5)]      # RICHTIG: 5 verschiedene Listen mit demselben Inhalt werden erzeugt\n",
    "a[0][0] = 1\n",
    "for row in a:\n",
    "    print(row)"
   ]
  },
  {
   "cell_type": "markdown",
   "id": "8ab8e166-91b1-4a3e-ba0e-e99f1c87b896",
   "metadata": {
    "tags": []
   },
   "source": [
    "### Aufgaben"
   ]
  },
  {
   "cell_type": "code",
   "execution_count": null,
   "id": "46325c77-c35b-4e45-8279-dbde74441d27",
   "metadata": {
    "tags": []
   },
   "outputs": [],
   "source": [
    "import random"
   ]
  },
  {
   "cell_type": "markdown",
   "id": "30507097-3282-49d1-9556-5caca67f8735",
   "metadata": {},
   "source": [
    "----\n",
    "#### A1\n",
    "\n",
    "Erstelle eine Liste mit 10-Elementen, alle mit -1 initialisiert.\n",
    "\n"
   ]
  },
  {
   "cell_type": "code",
   "execution_count": null,
   "id": "2bf9699a-ba56-4a94-aaa2-347a1afb71d9",
   "metadata": {
    "tags": []
   },
   "outputs": [],
   "source": [
    "a = None\n",
    "print(a)"
   ]
  },
  {
   "cell_type": "code",
   "execution_count": null,
   "id": "149c5375-3a89-4980-ac45-870a699444a3",
   "metadata": {},
   "outputs": [],
   "source": [
    "[-1, -1, -1, -1, -1, -1, -1, -1, -1, -1]"
   ]
  },
  {
   "cell_type": "markdown",
   "id": "65bb19e5-5f03-4c41-bcab-27e95f3956a4",
   "metadata": {
    "tags": []
   },
   "source": [
    "----\n",
    "#### A2\n",
    "\n",
    "Erweitere die Liste aus A1 um 10 Elemente, die mit 0 initialisiert sind."
   ]
  },
  {
   "cell_type": "code",
   "execution_count": null,
   "id": "2281480e-41f9-4df2-85fb-475c12a1bae5",
   "metadata": {
    "tags": []
   },
   "outputs": [],
   "source": [
    "# your code\n",
    "print(a)"
   ]
  },
  {
   "cell_type": "raw",
   "id": "ada071c0-c59c-4639-bb19-f0efd9d2f0a1",
   "metadata": {},
   "source": [
    "[-1, -1, -1, -1, -1, -1, -1, -1, -1, -1, 0, 0, 0, 0, 0, 0, 0, 0, 0, 0]"
   ]
  },
  {
   "cell_type": "markdown",
   "id": "d86acb4f-6755-46aa-be21-945bda7df102",
   "metadata": {
    "tags": []
   },
   "source": [
    "----\n",
    "#### A3\n",
    "\n",
    "Erweitere die leere Liste *a* in einer for-Schleife mit *extend* so, dass eine Liste\n",
    " mit 1x1, 2x2, 3x3,...9x9 wie angegeben entsteht."
   ]
  },
  {
   "cell_type": "code",
   "execution_count": null,
   "id": "8322106e-32ba-4b9d-a9b2-f6adb89dc0fb",
   "metadata": {
    "tags": []
   },
   "outputs": [],
   "source": [
    "a = []\n",
    "# your code\n",
    "print(a)"
   ]
  },
  {
   "cell_type": "raw",
   "id": "ea9042ba-a701-41cc-8724-c996083db4b3",
   "metadata": {},
   "source": [
    "[1, 2, 2, 3, 3, 3, 4, 4, 4, 4, 5, 5, 5, 5, 5, 6, 6, 6, 6, 6, 6, 7, 7, 7, 7, 7, 7, 7, 8, 8, 8, 8, 8, 8, 8, 8, 9, 9, 9, 9, 9, 9, 9, 9, 9]"
   ]
  },
  {
   "cell_type": "markdown",
   "id": "a0a686b2-eb12-4c0c-bb73-54269e21c346",
   "metadata": {
    "tags": []
   },
   "source": [
    "----\n",
    "#### A4\n",
    "\n",
    "Erzeuge die angegebene 10x10 Matrix mit der 1 in der linken oberen Ecke.\n"
   ]
  },
  {
   "cell_type": "code",
   "execution_count": null,
   "id": "01913d73-5a88-406d-a19c-972bbc0b8306",
   "metadata": {
    "tags": []
   },
   "outputs": [],
   "source": [
    "# your code\n",
    "for row in a:\n",
    "    print(row)"
   ]
  },
  {
   "cell_type": "raw",
   "id": "719e1cab-31f9-4b11-b136-718053dfae09",
   "metadata": {},
   "source": [
    "[1, 0, 0, 0, 0, 0, 0, 0, 0, 0]\n",
    "[0, 0, 0, 0, 0, 0, 0, 0, 0, 0]\n",
    "[0, 0, 0, 0, 0, 0, 0, 0, 0, 0]\n",
    "[0, 0, 0, 0, 0, 0, 0, 0, 0, 0]\n",
    "[0, 0, 0, 0, 0, 0, 0, 0, 0, 0]\n",
    "[0, 0, 0, 0, 0, 0, 0, 0, 0, 0]\n",
    "[0, 0, 0, 0, 0, 0, 0, 0, 0, 0]\n",
    "[0, 0, 0, 0, 0, 0, 0, 0, 0, 0]\n",
    "[0, 0, 0, 0, 0, 0, 0, 0, 0, 0]\n",
    "[0, 0, 0, 0, 0, 0, 0, 0, 0, 0]"
   ]
  },
  {
   "cell_type": "markdown",
   "id": "ca7d8559-0403-4677-8020-c8c1accd141c",
   "metadata": {},
   "source": [
    "----\n",
    "#### A5\n",
    "\n",
    "Erzeuge die angegebene 10x10 Matrix mit den Einsen in der Hauptdiagonalen."
   ]
  },
  {
   "cell_type": "code",
   "execution_count": null,
   "id": "36e1d69d-0729-46e0-945c-823e811477a4",
   "metadata": {
    "tags": []
   },
   "outputs": [],
   "source": [
    "# your code\n",
    "for row in a:\n",
    "    print(row)"
   ]
  },
  {
   "cell_type": "raw",
   "id": "06e4abb0-104e-4fd6-ac07-343189be0be6",
   "metadata": {},
   "source": [
    "[1, 0, 0, 0, 0, 0, 0, 0, 0, 0]\n",
    "[0, 1, 0, 0, 0, 0, 0, 0, 0, 0]\n",
    "[0, 0, 1, 0, 0, 0, 0, 0, 0, 0]\n",
    "[0, 0, 0, 1, 0, 0, 0, 0, 0, 0]\n",
    "[0, 0, 0, 0, 1, 0, 0, 0, 0, 0]\n",
    "[0, 0, 0, 0, 0, 1, 0, 0, 0, 0]\n",
    "[0, 0, 0, 0, 0, 0, 1, 0, 0, 0]\n",
    "[0, 0, 0, 0, 0, 0, 0, 1, 0, 0]\n",
    "[0, 0, 0, 0, 0, 0, 0, 0, 1, 0]\n",
    "[0, 0, 0, 0, 0, 0, 0, 0, 0, 1]"
   ]
  },
  {
   "cell_type": "markdown",
   "id": "593d19b6-573d-4ae7-861f-cb8a709cc6c3",
   "metadata": {
    "tags": []
   },
   "source": [
    "----\n",
    "#### A6\n",
    "Erzeuge eine Liste, die 20 leere Listen enthält.\n",
    "Füge dann in die vorletzte Liste die Zahl 42 ein."
   ]
  },
  {
   "cell_type": "code",
   "execution_count": null,
   "id": "1f059702-a795-4f79-8893-89be9e0b6e97",
   "metadata": {
    "tags": []
   },
   "outputs": [],
   "source": [
    "# your code\n",
    "print(a)"
   ]
  },
  {
   "cell_type": "raw",
   "id": "860e9d8b-7101-4314-ae80-8a29014192e7",
   "metadata": {},
   "source": [
    "[[], [], [], [], [], [], [], [], [], [], [], [], [], [], [], [], [], [], [42], []]"
   ]
  },
  {
   "cell_type": "markdown",
   "id": "d9cf5dd5-2320-4eda-ac8a-828d1d631bcb",
   "metadata": {},
   "source": [
    "----\n",
    "#### A7\n",
    "Erzeuge eine Liste a, die 10 leere Listen enthält.\n",
    "Gehe dann durch die Tuples der Liste data. Das Element (x,y) in data bedeutet: an die Liste in a mit Index x soll die Zahl y angehängt werden."
   ]
  },
  {
   "cell_type": "code",
   "execution_count": null,
   "id": "6a69371a-76db-418d-8bcc-8c15dcf3e00f",
   "metadata": {
    "tags": []
   },
   "outputs": [],
   "source": [
    "data = [(3, 3), (7, 10), (6, 4), (2, 2), (0, 10), (7, 4), (1, 8), (8, 5), (6, 15), (5, 18), (6, 19), (2, 14),\n",
    "        (1, 16), (9, 14), (4, 2), (5, 7), (7, 15), (3, 12), (1, 12), (8, 12), (0, 13), (4, 7), (1, 15), (1, 7),\n",
    "        (9, 1), (0, 11), (3, 5), (9, 7), (1, 18), (3, 19), (3, 8), (5, 5), (9, 1), (4, 5), (2, 18), (4, 6), \n",
    "        (1, 1), (2, 1), (5, 8), (9, 11)]\n",
    "\n",
    "# your code\n",
    "    \n",
    "for row in a:\n",
    "    print(row)"
   ]
  },
  {
   "cell_type": "raw",
   "id": "5089dd74-4a85-4fef-9a55-c89ef3c029e9",
   "metadata": {},
   "source": [
    "[10, 13, 11]\n",
    "[8, 16, 12, 15, 7, 18, 1]\n",
    "[2, 14, 18, 1]\n",
    "[3, 12, 5, 19, 8]\n",
    "[2, 7, 5, 6]\n",
    "[18, 7, 5, 8]\n",
    "[4, 15, 19]\n",
    "[10, 4, 15]\n",
    "[5, 12]\n",
    "[14, 1, 7, 1, 11]"
   ]
  }
 ],
 "metadata": {
  "kernelspec": {
   "display_name": "Python 3 (ipykernel)",
   "language": "python",
   "name": "python3"
  },
  "language_info": {
   "codemirror_mode": {
    "name": "ipython",
    "version": 3
   },
   "file_extension": ".py",
   "mimetype": "text/x-python",
   "name": "python",
   "nbconvert_exporter": "python",
   "pygments_lexer": "ipython3",
   "version": "3.11.2"
  }
 },
 "nbformat": 4,
 "nbformat_minor": 5
}

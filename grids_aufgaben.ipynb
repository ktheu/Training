{
 "cells": [
  {
   "cell_type": "markdown",
   "id": "04f42bbe-fe74-493f-ae33-cb2495aa0fb8",
   "metadata": {},
   "source": [
    "### Schnipsel01\n",
    "\n",
    "Python-Schnipsel"
   ]
  },
  {
   "cell_type": "markdown",
   "id": "2bc8b2a6-0b6d-48d0-ae21-9e41d3f72f44",
   "metadata": {},
   "source": [
    "writefile fügt am Ende einer Zeile einen Zeilenvorschub ein."
   ]
  },
  {
   "cell_type": "code",
   "execution_count": 16,
   "id": "8b52f5a9-ef94-45fc-8070-98324687022c",
   "metadata": {},
   "outputs": [
    {
     "name": "stdout",
     "output_type": "stream",
     "text": [
      "Overwriting input1.txt\n"
     ]
    }
   ],
   "source": [
    "%%writefile input1.txt\n",
    "5 8"
   ]
  },
  {
   "cell_type": "code",
   "execution_count": 18,
   "id": "8ce4a1b0-bee4-444c-a803-c76592d419ec",
   "metadata": {},
   "outputs": [
    {
     "name": "stdout",
     "output_type": "stream",
     "text": [
      "5 8\n",
      "\n",
      "4\n"
     ]
    }
   ],
   "source": [
    "f = open('input1.txt')\n",
    "zeile = f.readline()\n",
    "f.close()\n",
    "print(zeile)\n",
    "print(len(zeile))"
   ]
  },
  {
   "cell_type": "code",
   "execution_count": 19,
   "id": "85dc628f-992d-473a-89be-df7e687ade5a",
   "metadata": {},
   "outputs": [
    {
     "name": "stdout",
     "output_type": "stream",
     "text": [
      "5 8\n",
      "3\n"
     ]
    }
   ],
   "source": [
    "f = open('input1.txt')\n",
    "zeile = f.readline().strip()\n",
    "f.close()\n",
    "print(zeile)\n",
    "print(len(zeile))"
   ]
  },
  {
   "cell_type": "code",
   "execution_count": 21,
   "id": "3beca245-a2f6-49fe-8324-6d8cceebc62b",
   "metadata": {},
   "outputs": [
    {
     "name": "stdout",
     "output_type": "stream",
     "text": [
      "['5', '8']\n",
      "2\n"
     ]
    }
   ],
   "source": [
    "f = open('input1.txt')\n",
    "zeile = f.readline().split()\n",
    "f.close()\n",
    "print(zeile)\n",
    "print(len(zeile))"
   ]
  },
  {
   "cell_type": "code",
   "execution_count": 22,
   "id": "6e701565-5778-4de2-999c-64b0f1dd4614",
   "metadata": {},
   "outputs": [
    {
     "name": "stdout",
     "output_type": "stream",
     "text": [
      "[5, 8]\n",
      "2\n"
     ]
    }
   ],
   "source": [
    "f = open('input1.txt')\n",
    "zeile = [int(x) for x in f.readline().split()]\n",
    "f.close()\n",
    "print(zeile)\n",
    "print(len(zeile))"
   ]
  },
  {
   "cell_type": "code",
   "execution_count": 23,
   "id": "8a48196e-1245-4016-94b1-de847931c9d9",
   "metadata": {},
   "outputs": [
    {
     "name": "stdout",
     "output_type": "stream",
     "text": [
      "5 8 40\n"
     ]
    }
   ],
   "source": [
    "f = open('input1.txt')\n",
    "hoehe, breite = [int(x) for x in f.readline().split()]\n",
    "f.close()\n",
    "print(hoehe, breite, hoehe*breite)\n",
    " "
   ]
  },
  {
   "cell_type": "code",
   "execution_count": 2,
   "id": "6de184f4-8728-4026-b4c7-417b22db62fa",
   "metadata": {},
   "outputs": [
    {
     "name": "stdout",
     "output_type": "stream",
     "text": [
      "5 8\n"
     ]
    }
   ],
   "source": [
    "f = open('input1.txt')\n",
    "a, b = [int(x) for x in f.readline().split()]    # unpacking\n",
    "f.close()\n",
    "print(hoehe, breite)"
   ]
  },
  {
   "cell_type": "markdown",
   "id": "78b00dd5-00f1-44fc-baad-1de34c912612",
   "metadata": {},
   "source": [
    "#### A1\n",
    "\n",
    "Die erste Zeile der Eingabezeile der Datei *input1.txt* lautet: \n",
    "\n",
    "```10 5 4```\n",
    "    \n",
    "Lies die Zeile mit einer List-Comprehension ein und weise mit *unpacking* den Variablen\n",
    "x, y, z die drei int-Werte zu. Gib dann das Produkt der Zahlen aus."
   ]
  },
  {
   "cell_type": "code",
   "execution_count": 30,
   "id": "a601d873-bf5d-4f7c-a27e-235ed2f54573",
   "metadata": {},
   "outputs": [
    {
     "name": "stdout",
     "output_type": "stream",
     "text": [
      "Overwriting input1.txt\n"
     ]
    }
   ],
   "source": [
    "%%writefile input1.txt\n",
    "10 5 4"
   ]
  },
  {
   "cell_type": "code",
   "execution_count": 32,
   "id": "026e8ead-1a27-428b-a677-e138cff52ae4",
   "metadata": {},
   "outputs": [
    {
     "name": "stdout",
     "output_type": "stream",
     "text": [
      "200\n"
     ]
    }
   ],
   "source": [
    "f = open('input1.txt')\n",
    "x, y, z = [int(k) for k in f.readline().split()]\n",
    "f.close()\n",
    "print(x*y*z)"
   ]
  },
  {
   "cell_type": "code",
   "execution_count": 35,
   "id": "a2921e00-789a-418f-a05e-2e52e6b66b77",
   "metadata": {},
   "outputs": [
    {
     "name": "stdout",
     "output_type": "stream",
     "text": [
      "Overwriting input2.txt\n"
     ]
    }
   ],
   "source": [
    "%%writefile input2.txt\n",
    "4\n",
    "Ihr\n",
    "naht\n",
    "euch\n",
    "wieder"
   ]
  },
  {
   "cell_type": "code",
   "execution_count": 45,
   "id": "7df8710b-1684-4928-abb2-2d9fec3c9047",
   "metadata": {},
   "outputs": [
    {
     "name": "stdout",
     "output_type": "stream",
     "text": [
      "['Ihr', 'naht', 'euch', 'wieder']\n"
     ]
    }
   ],
   "source": [
    "f = open('input2.txt')\n",
    "k = int(f.readline())\n",
    "zeilen = [f.readline().strip() for _ in range(k)]\n",
    "f.close()\n",
    "print(zeilen)"
   ]
  },
  {
   "cell_type": "markdown",
   "id": "c0c07d49-906e-4388-8999-0afadea590a0",
   "metadata": {},
   "source": [
    "#### A2\n",
    "\n",
    "In der Datei *input2.txt* gibt die Zahl in der ersten Zeile an, wieviele Zeilen noch folgen.\n",
    "\n",
    "    4\n",
    "    Ihr\n",
    "    naht\n",
    "    euch\n",
    "    wieder\n",
    " \n",
    "    \n",
    "Lies die Zeilen in eine Liste *zeilen* ein. Nutze dafür wieder eine List-Comprehension.\n",
    "Folgende Ausgabe soll möglich sein:\n",
    "\n",
    "    print(zeilen)\n",
    "    ['Ihr', 'naht', 'euch', 'wieder']"
   ]
  },
  {
   "cell_type": "code",
   "execution_count": 62,
   "id": "58dc5c9d-f945-4cdf-bd56-f8bac5fbf146",
   "metadata": {},
   "outputs": [
    {
     "name": "stdout",
     "output_type": "stream",
     "text": [
      "Overwriting input3.txt\n"
     ]
    }
   ],
   "source": [
    "%%writefile input3.txt\n",
    "3\n",
    "####\n",
    "#..#\n",
    "####"
   ]
  },
  {
   "cell_type": "code",
   "execution_count": 63,
   "id": "0f812273-e18a-4ead-a265-6f2b3d10f46a",
   "metadata": {},
   "outputs": [
    {
     "name": "stdout",
     "output_type": "stream",
     "text": [
      "[['#', '#', '#', '#'], ['#', '.', '.', '#'], ['#', '#', '#', '#']]\n"
     ]
    }
   ],
   "source": [
    "f = open('input3.txt')\n",
    "k = int(f.readline())\n",
    "grid = [list(f.readline().strip()) for _ in range(k)]\n",
    "f.close()\n",
    "print(grid)"
   ]
  },
  {
   "cell_type": "markdown",
   "id": "94beecb5-c072-42b1-894a-abc2d4bfd175",
   "metadata": {},
   "source": [
    "#### A3\n",
    "\n",
    "In der Datei *input3.txt* gibt die Zahl in der ersten Zeile an, wieviele Zeilen noch folgen.\n",
    "\n",
    "    3\n",
    "    ####\n",
    "    #..#\n",
    "    ####\n",
    " \n",
    "    \n",
    "Lies die Zeilen in eine Liste *grid* ein. Nutze dafür wieder eine List-Comprehension.\n",
    "Jedes Element des grids soll eine Liste sein, die eine Zeile repräsentiert.\n",
    "\n",
    "    print(grid)\n",
    "    [['#', '#', '#', '#'], ['#', '.', '.', '#'], ['#', '#', '#', '#']]"
   ]
  },
  {
   "cell_type": "code",
   "execution_count": 77,
   "id": "98e79568-bf11-44c9-aaf3-9ce3b3a935eb",
   "metadata": {},
   "outputs": [
    {
     "name": "stdout",
     "output_type": "stream",
     "text": [
      "Overwriting input4.txt\n"
     ]
    }
   ],
   "source": [
    "%%writefile input4.txt\n",
    "4\n",
    "#######\n",
    "#A..B.#\n",
    "#.#..C#\n",
    "#######"
   ]
  },
  {
   "cell_type": "code",
   "execution_count": 78,
   "id": "21d16b1f-0c21-4aef-b58d-c5ab78bb01c2",
   "metadata": {},
   "outputs": [
    {
     "name": "stdout",
     "output_type": "stream",
     "text": [
      "[['#', '#', '#', '#', '#', '#', '#'], ['#', 'A', '.', '.', 'B', '.', '#'], ['#', '.', '#', '.', '.', 'C', '#'], ['#', '#', '#', '#', '#', '#', '#']]\n"
     ]
    }
   ],
   "source": [
    "f = open('input4.txt')\n",
    "k = int(f.readline())\n",
    "grid = [list(f.readline().strip()) for _ in range(k)]\n",
    "f.close()\n",
    "print(grid)"
   ]
  },
  {
   "cell_type": "code",
   "execution_count": 79,
   "id": "777e006a-a97c-4919-bd3f-82deddcb3ae0",
   "metadata": {},
   "outputs": [
    {
     "data": {
      "text/plain": [
       "('A', 'B', 'C')"
      ]
     },
     "execution_count": 79,
     "metadata": {},
     "output_type": "execute_result"
    }
   ],
   "source": [
    "grid[1][1], grid[1][4], grid[2][5]"
   ]
  },
  {
   "cell_type": "markdown",
   "id": "51900b48-52d8-45d7-b133-0c564f3cf8d8",
   "metadata": {},
   "source": [
    "#### A4\n",
    "\n",
    "In Variable grid hat folgenden Inhalt\n",
    "\n",
    "    [['#', '#', '#', '#', '#', '#', '#'], ['#', 'A', '.', '.', 'B', '.', '#'], ['#', '.', '#', '.', '.', 'C', '#'], ['#', '#', '#', '#', '#', '#', '#']]\n"
   ]
  },
  {
   "cell_type": "markdown",
   "id": "4347f045-d8aa-4f08-ae1d-5f4f0de2c734",
   "metadata": {},
   "source": [
    "Gib drei grid-Ausdrücke an, die sich zu 'A', 'B' und 'C' auswerten"
   ]
  },
  {
   "cell_type": "code",
   "execution_count": 80,
   "id": "ea8da763-fed8-4ba0-8a93-e1cd81aee0e3",
   "metadata": {},
   "outputs": [
    {
     "data": {
      "text/plain": [
       "('A', 'B', 'C')"
      ]
     },
     "execution_count": 80,
     "metadata": {},
     "output_type": "execute_result"
    }
   ],
   "source": [
    "grid[1][1], grid[1][4], grid[2][5]"
   ]
  },
  {
   "cell_type": "markdown",
   "id": "f43662bf-23bc-42cf-a749-8b128561a294",
   "metadata": {},
   "source": [
    "#### A5\n",
    "\n",
    "Die Variable grid hat folgenden Inhalt\n",
    "\n",
    "    [['#', '#', '#', '#'], ['#', '.', '.', '#'], ['#', '#', '#', '#']]\n",
    "\n",
    "Erzeuge mit einer List-Comprehension eine Liste V, die für jedes gültige grid-Element grid[x][y] ein Koordinatentupel (x,y) enthält.\n",
    "\n",
    "    [(0, 0), (0, 1), (0, 2), (0, 3), (1, 0), (1, 1), (1, 2), (1, 3), (2, 0), (2, 1), (2, 2), (2, 3)]"
   ]
  },
  {
   "cell_type": "code",
   "execution_count": 81,
   "id": "a2e71f87-1f58-4661-b62e-ad6b0fbcd9b3",
   "metadata": {},
   "outputs": [
    {
     "name": "stdout",
     "output_type": "stream",
     "text": [
      "[(0, 0), (0, 1), (0, 2), (0, 3), (1, 0), (1, 1), (1, 2), (1, 3), (2, 0), (2, 1), (2, 2), (2, 3)]\n"
     ]
    }
   ],
   "source": [
    "grid = [['#', '#', '#', '#'], ['#', '.', '.', '#'], ['#', '#', '#', '#']]\n",
    "V = [(x,y) for x in range(len(grid)) for y in range(len(grid[0]))]\n",
    "print(V)"
   ]
  },
  {
   "cell_type": "code",
   "execution_count": 82,
   "id": "d107e230-3779-421c-84a5-f36e273708ca",
   "metadata": {},
   "outputs": [
    {
     "name": "stdout",
     "output_type": "stream",
     "text": [
      "Overwriting input5.txt\n"
     ]
    }
   ],
   "source": [
    "%%writefile input5.txt\n",
    "3\n",
    "##.#\n",
    "#...\n",
    "##.#"
   ]
  },
  {
   "cell_type": "markdown",
   "id": "0fec47e2-b2f2-47d4-8379-408ab05962b4",
   "metadata": {},
   "source": [
    "#### A6\n",
    "\n",
    "Die Variable grid hat folgenden Inhalt\n",
    "\n",
    "    [['#', '#', '.', '#'], ['#', '.', '.', '.'], ['#', '#', '.', '#']]\n",
    "\n",
    "Erzeuge mit einer List-Comprehension eine Liste V, die für jedes gültige grid-Element grid[x][y], das sich nicht zu '#' auswertet, ein Koordinatentupel (x,y) enthält.\n",
    "\n",
    "Welche Elemente enthält V?"
   ]
  },
  {
   "cell_type": "code",
   "execution_count": 83,
   "id": "f2ae1f0d-efe1-49d3-8213-235aed824845",
   "metadata": {},
   "outputs": [
    {
     "name": "stdout",
     "output_type": "stream",
     "text": [
      "[['#', '#', '.', '#'], ['#', '.', '.', '.'], ['#', '#', '.', '#']]\n",
      "[(0, 2), (1, 1), (1, 2), (1, 3), (2, 2)]\n"
     ]
    }
   ],
   "source": [
    "f = open('input5.txt')\n",
    "k = int(f.readline())\n",
    "grid = [list(f.readline().strip()) for _ in range(k)]\n",
    "f.close()\n",
    "print(grid)\n",
    "V = [(x,y) for x in range(len(grid)) for y in range(len(grid[0])) if grid[x][y] != '#']\n",
    "print(V)"
   ]
  },
  {
   "cell_type": "markdown",
   "id": "4d43eddf-6806-4cfb-ae71-2c1fe77b9f2d",
   "metadata": {},
   "source": [
    "#### A7 \n",
    "\n",
    "Welche Ausgabe erzeugt das Programm?"
   ]
  },
  {
   "cell_type": "code",
   "execution_count": 86,
   "id": "f29bddf7-0337-45f7-822b-752ada41c083",
   "metadata": {},
   "outputs": [
    {
     "name": "stdout",
     "output_type": "stream",
     "text": [
      "3 5\n",
      "2 6\n",
      "1 5\n",
      "2 4\n"
     ]
    }
   ],
   "source": [
    "dirs = [(1,0),(0,1),(-1,0),(0,-1)]\n",
    "x, y = 2, 5\n",
    "for xd, yd in dirs:\n",
    "    print(x+xd, y+yd)"
   ]
  },
  {
   "cell_type": "markdown",
   "id": "2b12c74c-3abf-4529-9da0-fceabac8b810",
   "metadata": {},
   "source": [
    "#### A8\n",
    "Wir betrachten die Koordinaten in einem grid. Wie muss die Liste dirs aussehen,\n",
    "damit wir der Reihe nach in folgende Richtungen gehen: N, S, W, O\n",
    "\n",
    "    dirs = ??\n",
    "    x, y = 2, 5\n",
    "    for xd, yd in dirs:\n",
    "        print(x+xd, y+yd)"
   ]
  },
  {
   "cell_type": "code",
   "execution_count": 88,
   "id": "24798171-3bc3-4956-8512-fae9703a2abd",
   "metadata": {},
   "outputs": [
    {
     "name": "stdout",
     "output_type": "stream",
     "text": [
      "1 2\n",
      "3 2\n",
      "1 2\n",
      "3 2\n"
     ]
    }
   ],
   "source": [
    "dirs = [(-1,0),(1,0),(-1,0),(1,0)]\n",
    "x, y = 2, 2\n",
    "for xd, yd in dirs:\n",
    "    print(x+xd, y+yd)"
   ]
  },
  {
   "cell_type": "code",
   "execution_count": null,
   "id": "6064c3f4-d7a6-4c63-8373-dba89fee85d1",
   "metadata": {},
   "outputs": [],
   "source": [
    "\n"
   ]
  }
 ],
 "metadata": {
  "kernelspec": {
   "display_name": "Python 3 (ipykernel)",
   "language": "python",
   "name": "python3"
  },
  "language_info": {
   "codemirror_mode": {
    "name": "ipython",
    "version": 3
   },
   "file_extension": ".py",
   "mimetype": "text/x-python",
   "name": "python",
   "nbconvert_exporter": "python",
   "pygments_lexer": "ipython3",
   "version": "3.11.2"
  }
 },
 "nbformat": 4,
 "nbformat_minor": 5
}

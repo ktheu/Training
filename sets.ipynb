{
 "cells": [
  {
   "cell_type": "markdown",
   "id": "c36ed6e4-db38-4bed-956f-da12773cdf01",
   "metadata": {},
   "source": [
    "### Sets\n",
    "\n"
   ]
  },
  {
   "cell_type": "raw",
   "id": "ec1fe793-fbfa-411d-9bbb-aa625def7e25",
   "metadata": {},
   "source": [
    "s = set()        # ein leeres set\n",
    "s = {5,3,2,9}    # set mit 4 Zahlen\n",
    "len(s)           # die Länge des sets\n",
    "s.add(8)         # Element hinzufügen\n",
    "s.remove(5)      # Element löschen\n",
    "2 in s           # lookup: ist 2 in s?\n",
    "\n",
    "s = set([1,2,5,3,2,3])         # Liste in set umwandeln, jedes Element kommt nur einmal vor\n",
    "a = list(s)                    # set in Liste umwandeln\n",
    "s = {k for k in range(10)}     # set-Comprehension\n",
    "for k in s:                    # Elemente eines sets durchlaufen. \n",
    "    print(k)"
   ]
  },
  {
   "cell_type": "markdown",
   "id": "721bc1df-4c75-46dc-ae51-d92bcbed71b2",
   "metadata": {},
   "source": [
    "----\n",
    "#### A1\n",
    "Erstelle ein set s mit den angegebenen Elementen.\n"
   ]
  },
  {
   "cell_type": "code",
   "execution_count": 7,
   "id": "b1ac40ae-7f16-49cf-8e58-b5bf47430e18",
   "metadata": {},
   "outputs": [
    {
     "name": "stdout",
     "output_type": "stream",
     "text": [
      "weiss schwarz "
     ]
    }
   ],
   "source": [
    "s = {'schwarz', 'weiss'}\n",
    "\n",
    "for wort in s:\n",
    "    print(wort,end=' ')"
   ]
  },
  {
   "cell_type": "markdown",
   "id": "39078d38-a40a-4dcf-8309-d9ab45da7b59",
   "metadata": {},
   "source": [
    "weiss schwarz"
   ]
  },
  {
   "cell_type": "markdown",
   "id": "3176a4f1-1c25-47fc-9a86-8be5bcbf7ad8",
   "metadata": {},
   "source": [
    "----\n",
    "#### A2\n",
    "Füge mit add Elemente zum dem set hinzu, damit die angegebene Länge erreicht wird.\n"
   ]
  },
  {
   "cell_type": "code",
   "execution_count": 8,
   "id": "9705b763-bcfd-4170-8775-dff8c84ae33d",
   "metadata": {},
   "outputs": [
    {
     "name": "stdout",
     "output_type": "stream",
     "text": [
      "4\n"
     ]
    }
   ],
   "source": [
    "s = {1,1,1,2,2}\n",
    "s.add(3)\n",
    "s.add(4)\n",
    "print(len(s))\n"
   ]
  },
  {
   "cell_type": "raw",
   "id": "9a8ff454-db40-485e-9402-4f49f571ee6f",
   "metadata": {},
   "source": [
    "4"
   ]
  },
  {
   "cell_type": "markdown",
   "id": "b1a72896-0376-4b3a-80b9-1a3c5884718c",
   "metadata": {},
   "source": [
    "----\n",
    "#### A3\n",
    "Entferne aus der Liste die doppelten Elemente, indem du sie in ein set verwandelst, dann zurück in eine Liste.\n"
   ]
  },
  {
   "cell_type": "code",
   "execution_count": 19,
   "id": "c1f75ec7-f9b2-4289-a535-5ddff5cf2a22",
   "metadata": {},
   "outputs": [
    {
     "data": {
      "text/plain": [
       "[1, 2, 5, 6, 7, 9, 10]"
      ]
     },
     "execution_count": 19,
     "metadata": {},
     "output_type": "execute_result"
    }
   ],
   "source": [
    "import random\n",
    "a = [6, 6, 9, 5, 10, 1, 7, 7, 5, 6, 2, 9]\n",
    "a = list(set(a))\n",
    "a\n"
   ]
  },
  {
   "cell_type": "markdown",
   "id": "747614fe-8df7-4646-a845-6ef3df138cd1",
   "metadata": {},
   "source": [
    "----\n",
    "#### A4\n",
    "Erstelle mit einer Comprehension ein set mit den Zahlen von 1 bis 9.\n"
   ]
  },
  {
   "cell_type": "code",
   "execution_count": 20,
   "id": "7d17b100-2fd4-4415-81c1-8dd426ef97b8",
   "metadata": {},
   "outputs": [
    {
     "name": "stdout",
     "output_type": "stream",
     "text": [
      "1 2 3 4 5 6 7 8 9 "
     ]
    }
   ],
   "source": [
    "s = {k for k in range(1,10)}\n",
    "\n",
    "for k in s:\n",
    "    print(k,end=' ')"
   ]
  },
  {
   "cell_type": "markdown",
   "id": "f26a70b6-2f83-44cb-b22a-fc08cb8d714a",
   "metadata": {},
   "source": [
    "----\n",
    "#### A5\n",
    "Gehe mit einer Schleife durch die Liste a und gib für jedes Element aus, ob es im set s vorkommt.\n"
   ]
  },
  {
   "cell_type": "code",
   "execution_count": 28,
   "id": "40c681dd-ccdd-4936-a43b-21aa57576af0",
   "metadata": {},
   "outputs": [
    {
     "name": "stdout",
     "output_type": "stream",
     "text": [
      "4 ist im set enthalten\n",
      "8 ist im set nicht enthalten\n",
      "1 ist im set nicht enthalten\n",
      "4 ist im set enthalten\n",
      "2 ist im set nicht enthalten\n",
      "9 ist im set nicht enthalten\n",
      "5 ist im set enthalten\n"
     ]
    }
   ],
   "source": [
    "a = [4, 8, 1, 4, 2, 9, 5]\n",
    "s = {3,4,5}\n",
    "\n",
    "for k in a:\n",
    "    if k in s:\n",
    "        print(f'{k} ist im set enthalten')\n",
    "    else:\n",
    "        print(f'{k} ist im set nicht enthalten')"
   ]
  },
  {
   "cell_type": "markdown",
   "id": "ede623d3-73b5-4275-8289-c354b9f3d0b6",
   "metadata": {},
   "source": [
    "----\n",
    "#### A6\n",
    "Gehe mit einer Schleife durch die Liste a und entferne jedes Element von a aus der Menge s, falls es dort vorhanden ist. \n"
   ]
  },
  {
   "cell_type": "code",
   "execution_count": 30,
   "id": "94cf7ebc-9a02-4ed6-b726-ca86bc25f25b",
   "metadata": {},
   "outputs": [
    {
     "name": "stdout",
     "output_type": "stream",
     "text": [
      "3 "
     ]
    }
   ],
   "source": [
    "a = [4, 8, 1, 4, 2, 9, 5]\n",
    "s = {3,4,5}\n",
    "\n",
    "for k in a:\n",
    "    if k in s:\n",
    "        s.remove(k)\n",
    "\n",
    "for k in s:\n",
    "    print(k,end=' ')"
   ]
  },
  {
   "cell_type": "raw",
   "id": "92a1d366-f36f-4226-96f3-0135376fd100",
   "metadata": {},
   "source": [
    "3 "
   ]
  }
 ],
 "metadata": {
  "kernelspec": {
   "display_name": "Python 3 (ipykernel)",
   "language": "python",
   "name": "python3"
  },
  "language_info": {
   "codemirror_mode": {
    "name": "ipython",
    "version": 3
   },
   "file_extension": ".py",
   "mimetype": "text/x-python",
   "name": "python",
   "nbconvert_exporter": "python",
   "pygments_lexer": "ipython3",
   "version": "3.11.2"
  }
 },
 "nbformat": 4,
 "nbformat_minor": 5
}

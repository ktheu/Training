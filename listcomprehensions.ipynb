{
 "cells": [
  {
   "cell_type": "markdown",
   "id": "2d6033df-ba4f-429a-98fd-d6282f8638f0",
   "metadata": {},
   "source": [
    "### List Comprehensions\n",
    "\n",
    "Mit einer List-Comprehension erzeugen wir aus einer gegeben Liste (oder string/range/tuple) auf kompakte Art eine neue Liste.\n",
    "Der Variablenname _ wird gerne verwendet, um anzudeuten, dass man diese Variable innerhalb der Schleife nicht verwendet.\n"
   ]
  },
  {
   "cell_type": "raw",
   "id": "50b8b6e1-786f-4e71-864d-8e1aa1434208",
   "metadata": {
    "tags": []
   },
   "source": [
    "import random\n",
    "a = [1,2,3,4,5]\n",
    "b = [2*x for x in a]                       # alle Elemente verdoppeln\n",
    "b = [k*k for k in range(100)]              # Liste mit den ersten 100 Quadratzahlen\n",
    "b = [x for x in range(70,91) if x%3==0]    # alle Zahlen zwischen 70 und 90 die durch 3 teilbar sind\n",
    "b = [x for x in range(100) if (x%7==1 and x%5==2)]    # Beispiel mit einer and-Bedingung\n",
    "b = [random.randint(1,10) for _ in range(5)]          # 5 ganze Zufallszahlen zwischen 1 und 10\n",
    "\n",
    "k = ord('a')     # der ASCII-Wert des Zeichens 'a'\n",
    "c = chr(65)      # das Zeichen zum ASCII-Wert 65\n",
    "b = [ord(c) for c in 'Habicht']                     # eine Liste mit ASCII-Werten\n",
    "b = [chr(k) for k in range(ord('a'),ord('a')+10)]   # eine Liste mit den ersten 10 Kleinbuchstaben \n",
    " "
   ]
  },
  {
   "cell_type": "markdown",
   "id": "d0bb42c2-7099-482a-b0f0-84c79db98629",
   "metadata": {},
   "source": [
    "Man kann auch mehrere for-Schleifen verschachteln. Nicht immer ist das gut lesbar. Hier geht es noch."
   ]
  },
  {
   "cell_type": "code",
   "execution_count": 65,
   "id": "1094e318-bcab-4bc7-84a4-64a3a8db2495",
   "metadata": {
    "tags": []
   },
   "outputs": [
    {
     "name": "stdout",
     "output_type": "stream",
     "text": [
      "['a1', 'a2', 'a3', 'b1', 'b2', 'b3', 'c1', 'c2', 'c3']\n"
     ]
    }
   ],
   "source": [
    "a1 = list('abc')\n",
    "a2 = list('123')\n",
    "brett = [c1+c2 for c1 in a1 for c2 in a2]\n",
    "print(brett)"
   ]
  },
  {
   "cell_type": "markdown",
   "id": "94ad52a5-ac14-44b9-a7d3-489737392fc1",
   "metadata": {},
   "source": [
    "### Aufgaben"
   ]
  },
  {
   "cell_type": "markdown",
   "id": "732f00ed-5380-42ae-a8c3-ad0bedd6b51b",
   "metadata": {
    "tags": []
   },
   "source": [
    "----\n",
    "#### A1\n",
    "Erzeuge mit einer List-Comprehension eine Liste mit den Vielfachen von 7 bis 70"
   ]
  },
  {
   "cell_type": "code",
   "execution_count": null,
   "id": "bb60e413-fe52-4e93-bf0a-badc7bad0d03",
   "metadata": {
    "tags": []
   },
   "outputs": [],
   "source": [
    "a = None\n",
    "print(a)"
   ]
  },
  {
   "cell_type": "raw",
   "id": "53a2a659-b6e1-445f-b5b7-65decbe8f31e",
   "metadata": {},
   "source": [
    "[7, 14, 21, 28, 35, 42, 49, 56, 63, 70]"
   ]
  },
  {
   "cell_type": "markdown",
   "id": "e004a9c5-9e48-4e6b-a507-779c8f6cae42",
   "metadata": {
    "tags": []
   },
   "source": [
    "----\n",
    "#### A2\n",
    "Erzeuge eine Liste mit 20 ganzen Zufallszahlen k mit 1 <= k <= 100.\n"
   ]
  },
  {
   "cell_type": "code",
   "execution_count": null,
   "id": "a81dce50-14a8-4ad0-9277-19fcade48cd4",
   "metadata": {
    "tags": []
   },
   "outputs": [],
   "source": [
    "import random\n",
    "a = None\n",
    "print(a)"
   ]
  },
  {
   "cell_type": "raw",
   "id": "33bfca21-1c2e-4832-a3be-c96ac9a7a4fe",
   "metadata": {},
   "source": [
    "Beispiel:\n",
    "[81, 88, 2, 1, 37, 14, 58, 31, 58, 90, 26, 72, 70, 95, 6, 27, 32, 96, 48, 51]"
   ]
  },
  {
   "cell_type": "markdown",
   "id": "e1a78655-e59c-4616-97f2-c05aa3507530",
   "metadata": {
    "tags": []
   },
   "source": [
    "----\n",
    "#### A3\n",
    "Erzeuge aus der gegebenen Liste a eine neue Liste b mit den Zahlen aus a, die durch 7 teilbar sind."
   ]
  },
  {
   "cell_type": "code",
   "execution_count": null,
   "id": "555f1019-0fe6-4907-a97c-4c233f8f88a7",
   "metadata": {
    "tags": []
   },
   "outputs": [],
   "source": [
    "a = [64, 14, 11, 86, 60, 10, 86, 87, 44, 73, 86, 77, 90, 15, 40, 48, 70, 44, 94, 39]\n",
    "b = None\n",
    "print(b)"
   ]
  },
  {
   "cell_type": "raw",
   "id": "d971faa8-7133-4fea-9f01-797577c8a0ca",
   "metadata": {},
   "source": [
    "[14, 77, 70]"
   ]
  },
  {
   "cell_type": "markdown",
   "id": "e9dcd6f2-72f9-4f7d-a445-e0145b80b2c2",
   "metadata": {},
   "source": [
    "----\n",
    "#### A4\n",
    "Erzeuge aus der gegebenen Liste a eine neue Liste b mit den Zahlen aus a, die durch 3 oder 5 teilbar sind."
   ]
  },
  {
   "cell_type": "code",
   "execution_count": null,
   "id": "7005a306-ef13-47f9-ada5-c2a2f1033478",
   "metadata": {
    "tags": []
   },
   "outputs": [],
   "source": [
    "a = [89, 64, 59, 26, 87, 15, 45, 30, 79, 51, 30, 88, 22, 13, 21, 40, 32, 43, 12, 9]\n",
    "b = None\n",
    "b"
   ]
  },
  {
   "cell_type": "raw",
   "id": "8101f002-d073-4442-a866-8f237b018f05",
   "metadata": {},
   "source": [
    "[87, 15, 45, 30, 51, 30, 21, 40, 12, 9]"
   ]
  },
  {
   "cell_type": "markdown",
   "id": "cdd1a0f3-b25d-4e68-ad83-db112861131e",
   "metadata": {
    "tags": []
   },
   "source": [
    "----\n",
    "#### A5\n",
    "Erzeuge eine Liste mit den ASCII-Werte von 'e' bis 'm'.\n"
   ]
  },
  {
   "cell_type": "code",
   "execution_count": null,
   "id": "fd21f78c-843d-48fb-8449-88a2ec06932d",
   "metadata": {
    "tags": []
   },
   "outputs": [],
   "source": [
    "a = None\n",
    "print(a)"
   ]
  },
  {
   "cell_type": "raw",
   "id": "e448d071-0032-4e7c-bca9-1b828e361aba",
   "metadata": {
    "tags": []
   },
   "source": [
    "[101, 102, 103, 104, 105, 106, 107, 108, 109]"
   ]
  },
  {
   "cell_type": "markdown",
   "id": "a60eff41-d3ce-4415-8c66-5f2901d6a3aa",
   "metadata": {
    "tags": []
   },
   "source": [
    "----\n",
    "#### A6\n",
    "Erzeuge eine Liste mit allen Großbuchstaben A - Z"
   ]
  },
  {
   "cell_type": "code",
   "execution_count": null,
   "id": "663a0d68-a6e1-47cb-893e-61cf340496d7",
   "metadata": {
    "jp-MarkdownHeadingCollapsed": true,
    "tags": []
   },
   "outputs": [],
   "source": [
    "a = None\n",
    "print(a)                           "
   ]
  },
  {
   "cell_type": "raw",
   "id": "9a9bbefd-3891-4c04-9e21-f8474cfbbbe2",
   "metadata": {},
   "source": [
    "['A', 'B', 'C', 'D', 'E', 'F', 'G', 'H', 'I', 'J', 'K', 'L', 'M', 'N', 'O', 'P', 'Q', 'R', 'S', 'T', 'U', 'V', 'W', 'X', 'Y', 'Z'] "
   ]
  },
  {
   "cell_type": "markdown",
   "id": "ce4b109a-e3bf-4c3a-aebe-ef7c1a58842b",
   "metadata": {},
   "source": [
    "----\n",
    "#### A7\n",
    "Erzeuge eine Liste mit den Koordinaten eines Schachbretts, also von a1 bis h8."
   ]
  },
  {
   "cell_type": "code",
   "execution_count": null,
   "id": "5f175812-7d10-4670-8619-533a9c79a924",
   "metadata": {
    "tags": []
   },
   "outputs": [],
   "source": [
    "# your code\n",
    "print(brett)"
   ]
  },
  {
   "cell_type": "raw",
   "id": "240355ca-297a-401a-9192-ca0eb4990714",
   "metadata": {},
   "source": [
    "['a1', 'a2', 'a3', 'a4', 'a5', 'a6', 'a7', 'a8', 'b1', 'b2', 'b3', 'b4', 'b5', 'b6', 'b7', 'b8', 'c1', 'c2', 'c3', 'c4', 'c5', 'c6', 'c7', 'c8', 'd1', 'd2', 'd3', 'd4', 'd5', 'd6', 'd7', 'd8', 'e1', 'e2', 'e3', 'e4', 'e5', 'e6', 'e7', 'e8', 'f1', 'f2', 'f3', 'f4', 'f5', 'f6', 'f7', 'f8', 'g1', 'g2', 'g3', 'g4', 'g5', 'g6', 'g7', 'g8', 'h1', 'h2', 'h3', 'h4', 'h5', 'h6', 'h7', 'h8']"
   ]
  }
 ],
 "metadata": {
  "kernelspec": {
   "display_name": "Python 3 (ipykernel)",
   "language": "python",
   "name": "python3"
  },
  "language_info": {
   "codemirror_mode": {
    "name": "ipython",
    "version": 3
   },
   "file_extension": ".py",
   "mimetype": "text/x-python",
   "name": "python",
   "nbconvert_exporter": "python",
   "pygments_lexer": "ipython3",
   "version": "3.11.2"
  }
 },
 "nbformat": 4,
 "nbformat_minor": 5
}

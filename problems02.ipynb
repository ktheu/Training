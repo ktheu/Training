{
 "cells": [
  {
   "cell_type": "markdown",
   "id": "24d6a10c-6a90-48eb-8254-0b68cd8f92ac",
   "metadata": {},
   "source": [
    "### Problems02"
   ]
  },
  {
   "cell_type": "code",
   "execution_count": 1,
   "id": "c5f7dd24-0f60-480f-b224-e26fcf3d0865",
   "metadata": {},
   "outputs": [],
   "source": [
    "import doctest"
   ]
  },
  {
   "cell_type": "code",
   "execution_count": 2,
   "id": "ad8f448a-fe5f-4f7f-b310-dba9e2f57829",
   "metadata": {},
   "outputs": [],
   "source": [
    "# https://leetcode.com/problems/merge-strings-alternately/\n",
    "def func1(word1, word2):\n",
    "    '''\n",
    "    word1, word2: strings\n",
    "    returns: string, abwechselnd ein Zeichen von word1, dann ein Zeichen von word2\n",
    "        bei unterschiedlicher Länge wird der Rest hinten angehängt.\n",
    "\n",
    "    >>> func1('abc','pqr')\n",
    "    'apbqcr'\n",
    "\n",
    "    >>> func1('ab','pqrs')\n",
    "    'apbqrs'\n",
    "\n",
    "    >>> func1('abcd','pq')\n",
    "    'apbqcd'\n",
    "\n",
    "    '''\n",
    "    tmp = ''\n",
    "    for i in range(min(len(word1),len(word2))):\n",
    "        tmp+=word1[i]+word2[i]\n",
    "    tmp+=word1[i+1:]+word2[i+1:]\n",
    "    return tmp"
   ]
  },
  {
   "cell_type": "code",
   "execution_count": 3,
   "id": "7b3073c0-b8b0-4669-8f0a-1e3f32b325b7",
   "metadata": {},
   "outputs": [],
   "source": [
    "doctest.run_docstring_examples(func1,globals())"
   ]
  },
  {
   "cell_type": "code",
   "execution_count": 4,
   "id": "419cbb1a-9221-469a-a82f-8a82d1332cdf",
   "metadata": {},
   "outputs": [],
   "source": [
    "def func2(number):\n",
    "    '''\n",
    "    number: String mit Ziffern, Leerzeichen und Bindestrich\n",
    "    \n",
    "    Gegeben ist eine Telefonnummer als Folge von Ziffern, Leerzeichen und Bindestrich.\n",
    "    Die Telefonnummer soll neu formatiert werden, gehe dazu wie folgt vor. \n",
    "    1. Entferne alle Leerzeichen und Bindestriche\n",
    "    2. Gruppiere die Ziffern von links nach rechts in Gruppen von drei Ziffern solange bis\n",
    "       der Rest nur noch aus 4 oder weniger Ziffern besteht.\n",
    "    3. Je nach der Anzahl der restlichen Ziffern formatiere so:\n",
    "        - bei 2 Ziffern: ein Block mit 2 Ziffern\n",
    "        - bei 3 Ziffern: ein Block mit 3 Ziffern\n",
    "        - bei 4 Ziffern: zwei Blöcke mit 2 Ziffern\n",
    "        \n",
    "    \n",
    "    >>> func2('1-23-45 6')\n",
    "    '123-456'\n",
    "\n",
    "    >>> func2('123 4-567')\n",
    "    '123-45-67'\n",
    "\n",
    "    >>> func2('123 4-5678')\n",
    "    '123-456-78'\n",
    "\n",
    "    '''\n",
    "    s1 = ''\n",
    "    for c in number:\n",
    "        if c.isdigit():\n",
    "            s1+=c\n",
    "    ans = ''\n",
    "    while len(s1)>4:\n",
    "        ans+=s1[:3]+'-'\n",
    "        s1 = s1[3:]\n",
    "    if len(s1) == 2 or len(s1) == 3:\n",
    "        ans+=s1\n",
    "    if len(s1) == 4:\n",
    "        ans+=s1[:2]+'-'+s1[2:]\n",
    "    return ans"
   ]
  },
  {
   "cell_type": "code",
   "execution_count": 5,
   "id": "a66e5585-8e04-45ea-8ec7-e3c1f3e9fb3f",
   "metadata": {},
   "outputs": [],
   "source": [
    "doctest.run_docstring_examples(func2,globals())"
   ]
  },
  {
   "cell_type": "code",
   "execution_count": 6,
   "id": "8c0e97cf-1767-4f86-9ecd-0a45e270b907",
   "metadata": {},
   "outputs": [],
   "source": [
    "def func3(s1, s2):\n",
    "    '''\n",
    "    s1, s2: strings\n",
    "    returns: True, wenn s2 aus s1 hervorgeht, indem höchstens einmal die Position zweier Zeichen in s1\n",
    "        vertauscht werden.\n",
    "\n",
    "    >>> func3('bank','kanb')\n",
    "    True\n",
    "\n",
    "    >>> func3('attack','defend')\n",
    "    False\n",
    "\n",
    "    >>> func3('kelb','kelb')\n",
    "    True\n",
    "\n",
    "    '''\n",
    "    diff = []\n",
    "    for i in range(len(s1)):\n",
    "        if s1[i] != s2[i]:\n",
    "            diff.append(i)\n",
    "    if len(diff) == 0: return True\n",
    "    if len(diff) == 2 and s1[diff[0]] == s2[diff[1]] and s1[diff[1]] == s2[diff[0]]: return True\n",
    "    return False"
   ]
  },
  {
   "cell_type": "code",
   "execution_count": 7,
   "id": "ec149306-c1cd-4d62-8d47-f2c70948c0bd",
   "metadata": {},
   "outputs": [],
   "source": [
    "doctest.run_docstring_examples(func3,globals())"
   ]
  },
  {
   "cell_type": "code",
   "execution_count": 8,
   "id": "a22ef766-5824-4fab-84e1-3dcd435fea4e",
   "metadata": {},
   "outputs": [],
   "source": [
    "def func4(s):\n",
    "    '''\n",
    "    s: string, bestehend aus 0 und 1 ohne führende 0.\n",
    "    returns: True, wenn es höchstens einen zusammenhängenden Bereich in s gibt, der nur aus Einsen besteht. \n",
    "\n",
    "    >>> func4('1001')\n",
    "    False\n",
    "\n",
    "    >>> func4('1100')\n",
    "    True\n",
    "\n",
    "    >>> func4('1')\n",
    "    True\n",
    "\n",
    "    >>> func4('1100011100')\n",
    "    False\n",
    "\n",
    "    >>> func4('11111111101')\n",
    "    False\n",
    "    '''\n",
    "    first = s.find('1')\n",
    "    if first == -1: return True\n",
    "    last = s.rfind('1')\n",
    "    return '0' not in s[first:last+1]"
   ]
  },
  {
   "cell_type": "code",
   "execution_count": 9,
   "id": "f216cebd-d396-45ba-9936-95b8394c8c34",
   "metadata": {},
   "outputs": [],
   "source": [
    "doctest.run_docstring_examples(func4,globals())"
   ]
  }
 ],
 "metadata": {
  "kernelspec": {
   "display_name": "Python 3 (ipykernel)",
   "language": "python",
   "name": "python3"
  },
  "language_info": {
   "codemirror_mode": {
    "name": "ipython",
    "version": 3
   },
   "file_extension": ".py",
   "mimetype": "text/x-python",
   "name": "python",
   "nbconvert_exporter": "python",
   "pygments_lexer": "ipython3",
   "version": "3.11.2"
  }
 },
 "nbformat": 4,
 "nbformat_minor": 5
}

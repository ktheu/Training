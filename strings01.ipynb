{
 "cells": [
  {
   "attachments": {},
   "cell_type": "markdown",
   "id": "259a381f-c7ae-45ca-96b9-1f7765e84573",
   "metadata": {},
   "source": [
    "## Strings\n",
    "\n",
    "Indexing und Slicing"
   ]
  },
  {
   "cell_type": "code",
   "execution_count": 15,
   "id": "98b22f1e-3e8d-48df-860e-d5c5e764774b",
   "metadata": {},
   "outputs": [
    {
     "data": {
      "text/plain": [
       "'ollaH'"
      ]
     },
     "execution_count": 15,
     "metadata": {},
     "output_type": "execute_result"
    }
   ],
   "source": [
    "s = 'Hallo'\n",
    "s = \"Hallo\"\n",
    "len(s)            # die Länge von s\n",
    "s[0]              # erstes Zeichen = Zeichen an Stelle 0\n",
    "s[1]              # zweites Zeichen\n",
    "s[len(s)-1]       # letztes Zeichen\n",
    "s[-1]             # letztes Zeichen\n",
    "s[-2]             # vorletztes Zeichen\n",
    "s[:3]             # Teilstring von Anfang der Länge 3 (= bis zum Zeichen an der Stelle 3 ausschließlich)\n",
    "s[3:]             # Teilstring ab Zeichen an der Stelle 3 bis zum Ende\n",
    "s[:]              # eine Kopie von s\n",
    "s[2:5]            # Teilstring ab Stelle 2 bis Stelle 5 (ausschließlich)\n",
    "s[5:2:-1]         # Teilstring ab Stelle 5 bis Stelle 2 (ausschließlich), rückwärts\n",
    "s[::2]            # jedes zweite Zeichen\n",
    "s[::-1]           # den gesamten String rückwärts"
   ]
  },
  {
   "attachments": {},
   "cell_type": "markdown",
   "id": "74f9ba3c-e8bc-4cb1-a4ce-fa6a0c82ea46",
   "metadata": {},
   "source": [
    "----\n",
    "#### A1\n"
   ]
  },
  {
   "cell_type": "code",
   "execution_count": 16,
   "id": "9444852b-9429-4af2-9495-830efb17102d",
   "metadata": {},
   "outputs": [],
   "source": [
    "'''\n",
    "Gib die Länge von s aus.\n",
    "Erwartete Ausgabe: 42\n",
    "'''\n",
    "s = \"jfkasjfeajiajfijflkasdjfaoiefjaiefjleaklfö\"\n",
    "# your code "
   ]
  },
  {
   "cell_type": "code",
   "execution_count": 17,
   "id": "908ac70c-b818-4dd3-88f2-313e2830055a",
   "metadata": {},
   "outputs": [],
   "source": [
    "''' \n",
    "Gib das folgende Zeichen durch Indexing von s aus:\n",
    "H\n",
    "'''\n",
    "s = 'Habicht'  \n",
    "# your code \n"
   ]
  },
  {
   "cell_type": "code",
   "execution_count": 18,
   "id": "c8a8c278-967d-4d53-9b7b-8729611ed3f4",
   "metadata": {},
   "outputs": [],
   "source": [
    "''' \n",
    "Gib das folgende Zeichen durch einen negativen Index von s aus:\n",
    "h\n",
    "'''\n",
    "s = 'Habicht'  \n",
    "# your code "
   ]
  },
  {
   "cell_type": "code",
   "execution_count": 19,
   "id": "93fe8dbd-328f-4a25-a256-cc95ba64ea66",
   "metadata": {},
   "outputs": [],
   "source": [
    "''' \n",
    "Gib das folgende Zeichen durch einen negativen Index von s aus:\n",
    "H\n",
    "'''\n",
    "s = 'Habicht'  \n",
    "# your code "
   ]
  },
  {
   "attachments": {},
   "cell_type": "markdown",
   "id": "9abbf5a3-7d4f-49bb-afd1-7d7a29b04f2a",
   "metadata": {},
   "source": [
    "#### A2"
   ]
  },
  {
   "cell_type": "code",
   "execution_count": 20,
   "id": "a1b17052-7f72-4773-b8d0-e7fc9c007661",
   "metadata": {},
   "outputs": [],
   "source": [
    "''' \n",
    "Gib den folgende Teilstring von s durch slicing aus:\n",
    "Habi\n",
    "'''\n",
    "s = 'Habicht'  \n",
    "# your code "
   ]
  },
  {
   "cell_type": "code",
   "execution_count": 21,
   "id": "8fc79410-eb33-47d2-9add-cee6a9bcde8a",
   "metadata": {},
   "outputs": [],
   "source": [
    "''' \n",
    "Gib den folgende Teilstring von s durch slicing aus:\n",
    "abich\n",
    "'''\n",
    "s = 'Habicht'  \n",
    "# your code "
   ]
  },
  {
   "cell_type": "code",
   "execution_count": 22,
   "id": "b36f1190-995b-4935-9d0a-aa6da15bf03e",
   "metadata": {},
   "outputs": [],
   "source": [
    "''' \n",
    "Gib ab dem 20. Zeichen von s die nächsten 10 Zeichen aus.\n",
    "Erwartete Ausgabe: ngswirtsch\n",
    "'''\n",
    "s = 'Arzneimittelversorgungswirtschaftlichkeitsgesetz'\n",
    "# your code "
   ]
  },
  {
   "cell_type": "code",
   "execution_count": 23,
   "id": "1a790fb6-9b85-4abf-8f65-c0530a0df11a",
   "metadata": {},
   "outputs": [],
   "source": [
    "''' \n",
    "Gib die letzten 10 Zeichen von s aus.\n",
    "Erwartete Ausgabe: eitsgesetz\n",
    "'''\n",
    "s = 'Arzneimittelversorgungswirtschaftlichkeitsgesetz'\n",
    "# your code "
   ]
  },
  {
   "cell_type": "code",
   "execution_count": 24,
   "id": "4272bb11-cee3-4b4c-9834-7b8a5d939daa",
   "metadata": {},
   "outputs": [],
   "source": [
    "''' \n",
    "Gib jedes 2. Zeichen von s bis einschließlich dem 30. Zeichen aus\n",
    "Erwartete Ausgabe: Azemtevrognsitca\n",
    "'''\n",
    "s = 'Arzneimittelversorgungswirtschaftlichkeitsgesetz'\n",
    "# your code "
   ]
  }
 ],
 "metadata": {
  "kernelspec": {
   "display_name": "Python 3 (ipykernel)",
   "language": "python",
   "name": "python3"
  },
  "language_info": {
   "codemirror_mode": {
    "name": "ipython",
    "version": 3
   },
   "file_extension": ".py",
   "mimetype": "text/x-python",
   "name": "python",
   "nbconvert_exporter": "python",
   "pygments_lexer": "ipython3",
   "version": "3.11.2"
  }
 },
 "nbformat": 4,
 "nbformat_minor": 5
}

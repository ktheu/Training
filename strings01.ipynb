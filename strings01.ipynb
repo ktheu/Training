{
 "cells": [
  {
   "attachments": {},
   "cell_type": "markdown",
   "id": "259a381f-c7ae-45ca-96b9-1f7765e84573",
   "metadata": {},
   "source": [
    "## Strings\n",
    "\n",
    "Indexing und Slicing"
   ]
  },
  {
   "cell_type": "raw",
   "id": "eecbdaab-6f53-4cb1-b024-32cec293a9c8",
   "metadata": {},
   "source": [
    "s = 'Hallo'\n",
    "s = \"Hallo\"\n",
    "len(s)            # die Länge von s\n",
    "s[0]              # erstes Zeichen = Zeichen an Stelle 0\n",
    "s[1]              # zweites Zeichen\n",
    "s[len(s)-1]       # letztes Zeichen\n",
    "s[-1]             # letztes Zeichen\n",
    "s[-2]             # vorletztes Zeichen\n",
    "s[:3]             # Teilstring von Anfang der Länge 3 (= bis zum Zeichen an der Stelle 3 ausschließlich)\n",
    "s[3:]             # Teilstring ab Zeichen an der Stelle 3 bis zum Ende\n",
    "s[:]              # eine Kopie von s\n",
    "s[2:5]            # Teilstring ab Stelle 2 bis Stelle 5 (ausschließlich)\n",
    "s[5:2:-1]         # Teilstring ab Stelle 5 bis Stelle 2 (ausschließlich), rückwärts\n",
    "s[::2]            # jedes zweite Zeichen\n",
    "s[::-1]           # den gesamten String rückwärts"
   ]
  },
  {
   "attachments": {},
   "cell_type": "markdown",
   "id": "74f9ba3c-e8bc-4cb1-a4ce-fa6a0c82ea46",
   "metadata": {},
   "source": [
    "----\n",
    "#### A1\n",
    "Gib die Länge von s aus."
   ]
  },
  {
   "cell_type": "code",
   "execution_count": 40,
   "id": "9444852b-9429-4af2-9495-830efb17102d",
   "metadata": {},
   "outputs": [],
   "source": [
    "s = \"jfkasjfeajiajfijflkasdjfaoiefjaiefjleaklfö\"\n",
    "# your code "
   ]
  },
  {
   "cell_type": "raw",
   "id": "727412db-ea9e-4f99-969d-b7db1549addf",
   "metadata": {},
   "source": [
    "42"
   ]
  },
  {
   "attachments": {},
   "cell_type": "markdown",
   "id": "e8a9f736-9d6e-4ba9-9684-4c62bd269382",
   "metadata": {
    "tags": []
   },
   "source": [
    "----\n",
    "#### A2\n",
    "Gib das Zeichen durch Indexing aus."
   ]
  },
  {
   "cell_type": "code",
   "execution_count": 41,
   "id": "56cdc44f-e210-4938-9223-5fd9e6e38146",
   "metadata": {},
   "outputs": [],
   "source": [
    "s = 'Habicht'        \n",
    "# your code "
   ]
  },
  {
   "cell_type": "raw",
   "id": "58711117-0bbc-45f1-81db-4c80abba3b9c",
   "metadata": {},
   "source": [
    "H "
   ]
  },
  {
   "attachments": {},
   "cell_type": "markdown",
   "id": "0c69733a-637a-4bd8-b341-a2147039ffcc",
   "metadata": {},
   "source": [
    "----\n",
    "#### A3\n",
    "Gib das Zeichen durch einen negativen Index aus."
   ]
  },
  {
   "cell_type": "code",
   "execution_count": 42,
   "id": "af18ef19-f61e-4cfa-9f17-0f5e53217234",
   "metadata": {
    "tags": []
   },
   "outputs": [],
   "source": [
    "s = 'Habicht'\n",
    "# your code "
   ]
  },
  {
   "cell_type": "raw",
   "id": "93a4da6c-ad7a-4af3-99c2-054670070e7f",
   "metadata": {},
   "source": [
    "h"
   ]
  },
  {
   "attachments": {},
   "cell_type": "markdown",
   "id": "be987bc9-667d-48d2-9ae1-79015fd5315c",
   "metadata": {},
   "source": [
    "----\n",
    "#### A4\n",
    "Gib das Zeichen durch einen negativen Index aus."
   ]
  },
  {
   "cell_type": "code",
   "execution_count": 43,
   "id": "60ac42b3-242d-42e7-b75e-13ece96abe03",
   "metadata": {
    "tags": []
   },
   "outputs": [],
   "source": [
    "s = 'Habicht'\n",
    "# your code"
   ]
  },
  {
   "cell_type": "raw",
   "id": "3b54bab2-e6c2-4d43-9ec1-ff02dc112765",
   "metadata": {},
   "source": [
    "H"
   ]
  },
  {
   "attachments": {},
   "cell_type": "markdown",
   "id": "9abbf5a3-7d4f-49bb-afd1-7d7a29b04f2a",
   "metadata": {},
   "source": [
    "----\n",
    "#### A5\n",
    "Gib mit slicing den angegebenen Teilstring aus.\n"
   ]
  },
  {
   "cell_type": "code",
   "execution_count": 44,
   "id": "a5b931b5-df96-4636-ae5a-e0019f27589c",
   "metadata": {
    "tags": []
   },
   "outputs": [],
   "source": [
    "s = 'Habicht'\n",
    "# your code"
   ]
  },
  {
   "cell_type": "raw",
   "id": "3b898ed4-eb61-4c5f-9eff-8e62a6406880",
   "metadata": {},
   "source": [
    "Habi"
   ]
  },
  {
   "attachments": {},
   "cell_type": "markdown",
   "id": "e4d3fff9-20bd-4764-932f-edd81a001015",
   "metadata": {},
   "source": [
    "----\n",
    "#### A6\n",
    "Gib mit slicing den angegebenen Teilstring aus."
   ]
  },
  {
   "cell_type": "code",
   "execution_count": 45,
   "id": "40bc96e7-88ba-4b95-aa48-4b320f115cbb",
   "metadata": {
    "tags": []
   },
   "outputs": [],
   "source": [
    "s = 'Habicht'\n",
    "# your code"
   ]
  },
  {
   "cell_type": "raw",
   "id": "50f54bae-8fac-48da-8e76-3d1b8c19ab8d",
   "metadata": {},
   "source": [
    "abich"
   ]
  },
  {
   "attachments": {},
   "cell_type": "markdown",
   "id": "ce0d80ea-ddc2-4116-a585-13f660aeb103",
   "metadata": {},
   "source": [
    "----\n",
    "#### A7\n",
    "Gib ab dem 20. Zeichen die nächsten 10 Zeichen aus.\n"
   ]
  },
  {
   "cell_type": "code",
   "execution_count": 51,
   "id": "f4466f19-a5fc-43e5-aae6-c5e2759adcc8",
   "metadata": {
    "tags": []
   },
   "outputs": [],
   "source": [
    "s = 'Arzneimittelversorgungswirtschaftlichkeitsgesetz'\n",
    "# your code"
   ]
  },
  {
   "cell_type": "raw",
   "id": "52d9bbce-7c23-4cf9-bde6-102d78510bac",
   "metadata": {},
   "source": [
    "ungswirtsc   "
   ]
  },
  {
   "attachments": {},
   "cell_type": "markdown",
   "id": "7a8bed90-d825-4d66-98ac-64e66d800d42",
   "metadata": {
    "tags": []
   },
   "source": [
    "----\n",
    "#### A8\n",
    "Gib die letzten 10 Zeichen aus"
   ]
  },
  {
   "cell_type": "code",
   "execution_count": 54,
   "id": "e725995b-b03b-4a24-b9ef-f1af1d20e47e",
   "metadata": {
    "tags": []
   },
   "outputs": [],
   "source": [
    "s = 'Arzneimittelversorgungswirtschaftlichkeitsgesetz'\n",
    "# your code "
   ]
  },
  {
   "cell_type": "raw",
   "id": "9a5004bb-eed3-4d31-9a34-f41c29bfc992",
   "metadata": {},
   "source": [
    "eitsgesetz"
   ]
  },
  {
   "attachments": {},
   "cell_type": "markdown",
   "id": "1bd5f241-06c2-4b22-b751-773e990d3643",
   "metadata": {},
   "source": [
    "----\n",
    "#### A9\n",
    "Gib jedes 2. Zeichen bis einschließlich dem 30. Zeichen aus"
   ]
  },
  {
   "cell_type": "code",
   "execution_count": 58,
   "id": "a628033e-aef3-4611-880f-585d5ee3137c",
   "metadata": {
    "tags": []
   },
   "outputs": [],
   "source": [
    "s = 'Arzneimittelversorgungswirtschaftlichkeitsgesetz'\n",
    "# your code "
   ]
  },
  {
   "cell_type": "raw",
   "id": "20808985-7082-46ff-ba66-0ba68d6e2c53",
   "metadata": {},
   "source": [
    "Azemtevrognsitca"
   ]
  }
 ],
 "metadata": {
  "kernelspec": {
   "display_name": "Python 3 (ipykernel)",
   "language": "python",
   "name": "python3"
  },
  "language_info": {
   "codemirror_mode": {
    "name": "ipython",
    "version": 3
   },
   "file_extension": ".py",
   "mimetype": "text/x-python",
   "name": "python",
   "nbconvert_exporter": "python",
   "pygments_lexer": "ipython3",
   "version": "3.11.2"
  }
 },
 "nbformat": 4,
 "nbformat_minor": 5
}

{
 "cells": [
  {
   "cell_type": "markdown",
   "id": "fb772c4e-c5e4-4a78-84c5-92e7c4099281",
   "metadata": {},
   "source": [
    "### Problems 04"
   ]
  },
  {
   "cell_type": "code",
   "execution_count": null,
   "id": "cfe52ab8-bc8c-4dad-80e1-d3fddb6e9cd4",
   "metadata": {},
   "outputs": [],
   "source": [
    "def func1(s1,s2):\n",
    "    '''  \n",
    "    s1: String mit positiven ints n und k\n",
    "    s2: String mit n ints\n",
    "    returns: Anzahl ints in s2 die kleiner gleich k sind + 2 * Anzahl ints in s2 die größer als k sind\n",
    "    \n",
    "\n",
    "    >>> func1('3 7','4 5 14')\n",
    "    4\n",
    "\n",
    "    >>> func1('6 1','1 1 1 1 1 1')\n",
    "    6\n",
    "    '''\n",
    "    # your code\n",
    "\n",
    "import doctest\n",
    "doctest.run_docstring_examples(func1,globals(),optionflags=doctest.NORMALIZE_WHITESPACE) "
   ]
  },
  {
   "cell_type": "code",
   "execution_count": null,
   "id": "f6e92278-bfed-4689-be33-60cbe1eb386e",
   "metadata": {},
   "outputs": [],
   "source": [
    "def func2(year):\n",
    "    '''  \n",
    "    year: Jahreszahl mit 1000 <= year <= 9000\n",
    "    returns: die nächste Jahreszahl nach year, die aus vier verschiedenen Ziffern besteht\n",
    "\n",
    "    >>> func2(1987)\n",
    "    2013\n",
    "\n",
    "    >>> func2(2013)\n",
    "    2014\n",
    "    '''\n",
    "    # your code\n",
    "\n",
    "import doctest\n",
    "doctest.run_docstring_examples(func2,globals(),optionflags=doctest.NORMALIZE_WHITESPACE) "
   ]
  },
  {
   "cell_type": "code",
   "execution_count": null,
   "id": "c1302029-9f59-4c8e-806c-a16f02a10e15",
   "metadata": {},
   "outputs": [],
   "source": [
    "def func3(s):\n",
    "    '''  \n",
    "    s: 0-1 Folge als String, getrennt durch Leerzeichen                   \n",
    "    returns: 'HARD' wenn wenigstens eine 1 enthalten, sonst 'EASY'\n",
    "\n",
    "    >>> func3('0 1 0')\n",
    "    'HARD'\n",
    "\n",
    "    >>> func3('0 0')\n",
    "    'EASY'\n",
    "    '''\n",
    "    # your code\n",
    " \n",
    "\n",
    "import doctest\n",
    "doctest.run_docstring_examples(func3,globals(),optionflags=doctest.NORMALIZE_WHITESPACE) "
   ]
  },
  {
   "cell_type": "code",
   "execution_count": null,
   "id": "f5dfe34a-07fe-437c-bff4-624674fdb20b",
   "metadata": {},
   "outputs": [],
   "source": [
    "def func4(s):\n",
    "    '''  \n",
    "    s: String mit nicht negativen int-Paaren a, b mit a <= b\n",
    "    returns: Anzahl der Paare, bei der b um mindestens 2 größer als a ist\n",
    "\n",
    "    >>> func4('1 1 2 2 3 3')     \n",
    "    0\n",
    "\n",
    "    >>> func4('1 10 0 10 10 10')\n",
    "    2\n",
    "    '''\n",
    "    # your code\n",
    " \n",
    "\n",
    "import doctest\n",
    "doctest.run_docstring_examples(func4,globals(),optionflags=doctest.NORMALIZE_WHITESPACE) "
   ]
  },
  {
   "cell_type": "code",
   "execution_count": null,
   "id": "96c524ea-1bf9-4c6a-aabb-49f4ce4c94c4",
   "metadata": {},
   "outputs": [],
   "source": [
    "def func5(s):\n",
    "    ''' \n",
    "    s: String aus 0 und 1\n",
    "    Der String wird zwischen zwei gleichen Zeichen aufgeteilt. \n",
    "    returns: Anzahl der Stringteile, die dadurch entstehen\n",
    "\n",
    "    >>> func5('101010')     \n",
    "    1\n",
    "\n",
    "    >>> func5('101010011010')\n",
    "    3\n",
    "    '''\n",
    "    # your code \n",
    " \n",
    "\n",
    "import doctest\n",
    "doctest.run_docstring_examples(func5,globals(),optionflags=doctest.NORMALIZE_WHITESPACE) "
   ]
  },
  {
   "cell_type": "code",
   "execution_count": null,
   "id": "80701dc9-f805-47c8-b909-95529ab3abd5",
   "metadata": {},
   "outputs": [],
   "source": [
    "def func6(s):\n",
    "    '''  \n",
    "    Gegeben sind n Zellen, entweder schwarz oder weiß. Wir können einmal einen zusammenhängenden Bereich weiß färben.\n",
    "    Was ist die minimale Länge eines zu färbenden Bereichs, wenn am Ende alles weiß sein soll?\n",
    "    \n",
    "    s: String aus W und S, der die Zellen repräsentiert, W = white, B = black\n",
    "    returns: int Länge des minimal zu färbenden Bereichs, damit alles weiß ist\n",
    "\n",
    "    >>> func6('WBBWBW')     \n",
    "    4\n",
    "\n",
    "    >>> func6('WB')\n",
    "    1\n",
    "\n",
    "    >>> func6('BWWB')\n",
    "    4\n",
    "\n",
    "    >>> func6('WWBBWB')\n",
    "    4\n",
    "    '''\n",
    "    # your code\n",
    " \n",
    "\n",
    "import doctest\n",
    "doctest.run_docstring_examples(func6,globals(),optionflags=doctest.NORMALIZE_WHITESPACE) "
   ]
  },
  {
   "cell_type": "code",
   "execution_count": null,
   "id": "1e182326-edda-4226-90e2-72da2faa874c",
   "metadata": {},
   "outputs": [],
   "source": [
    "def func7(k):\n",
    "    '''  \n",
    "    k ist eine positive ganze Zahl. Berechne:\n",
    "    -1 + 2 - 3 + 4 - 5 + .. k\n",
    "\n",
    "    Hinweis: Die Funktion soll auch bei sehr großen Zahlen funktionieren, deswegen ist\n",
    "    hier eine Schleife ungeeignet. Versuche eine Formel zu finden.\n",
    "\n",
    "    >>> func7(4)     \n",
    "    2\n",
    "\n",
    "    >>> func7(5)\n",
    "    -3\n",
    "\n",
    "    >>> func7(2365716536153615326153162)\n",
    "    1182858268076807663076581\n",
    "    '''\n",
    "    # your code\n",
    "\n",
    "\n",
    "import doctest\n",
    "doctest.run_docstring_examples(func7,globals(),optionflags=doctest.NORMALIZE_WHITESPACE) "
   ]
  }
 ],
 "metadata": {
  "kernelspec": {
   "display_name": "Python 3 (ipykernel)",
   "language": "python",
   "name": "python3"
  },
  "language_info": {
   "codemirror_mode": {
    "name": "ipython",
    "version": 3
   },
   "file_extension": ".py",
   "mimetype": "text/x-python",
   "name": "python",
   "nbconvert_exporter": "python",
   "pygments_lexer": "ipython3",
   "version": "3.11.2"
  }
 },
 "nbformat": 4,
 "nbformat_minor": 5
}

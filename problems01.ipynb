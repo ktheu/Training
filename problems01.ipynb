{
 "cells": [
  {
   "cell_type": "markdown",
   "id": "1d348b5d-bbae-4303-a072-533f870fd1b6",
   "metadata": {},
   "source": [
    "### Problems01"
   ]
  },
  {
   "cell_type": "code",
   "execution_count": 2,
   "id": "9112c367-56be-4808-a4b4-d478d3544ada",
   "metadata": {
    "tags": []
   },
   "outputs": [],
   "source": [
    "def func1(x):\n",
    "    ''' \n",
    "    x: int\n",
    "    returns: 'YES' wenn x > 2 und durch 2 teilbar, sonst 'NO'\n",
    "    \n",
    "    >>> func1(2)\n",
    "    'NO'\n",
    "    \n",
    "    >>> func1(4)\n",
    "    'YES'\n",
    "    \n",
    "    >>> func1(3)\n",
    "    'NO'\n",
    "    '''\n",
    "    # your code\n",
    "\n",
    "\n",
    "import doctest\n",
    "doctest.run_docstring_examples(func1,globals(),optionflags=doctest.NORMALIZE_WHITESPACE)  "
   ]
  },
  {
   "cell_type": "code",
   "execution_count": 2,
   "id": "a04b760b-6211-4dc7-909b-faaa510ca42a",
   "metadata": {},
   "outputs": [],
   "source": [
    "def func2(s):\n",
    "    '''  \n",
    "    s: String mit Buchstaben\n",
    "    returns: Anfangsbuchstabe von s + Anzahl Buchstaben zwischen dem ersten und letzten Buchstaben + letzter Buchstabe von s\n",
    "             falls Länge von s > 10, sonst s\n",
    "\n",
    "    >>> func2('Hallo')\n",
    "    'Hallo'\n",
    "    \n",
    "    >>> func2('localization')\n",
    "    'l10n'\n",
    "    \n",
    "    >>> func2('pneumonoultramicroscopicsilicovolcanoconiosis')\n",
    "    'p43s'\n",
    "    '''\n",
    "    # your code\n",
    "\n",
    "\n",
    "import doctest\n",
    "doctest.run_docstring_examples(func2,globals(),optionflags=doctest.NORMALIZE_WHITESPACE)  "
   ]
  },
  {
   "cell_type": "code",
   "execution_count": 3,
   "id": "619dde6d-4449-4762-b07d-ca838a4a374d",
   "metadata": {
    "tags": []
   },
   "outputs": [],
   "source": [
    "def func3(a, b):\n",
    "    '''\n",
    "    a, b: ints mit a <= b\n",
    "    returns: String mit ints von a bis b\n",
    "\n",
    "    >>> func3(3,8)\n",
    "    '3 4 5 6 7 8'\n",
    "    \n",
    "    >>> func3(-4,2)\n",
    "    '-4 -3 -2 -1 0 1 2'\n",
    "    \n",
    "    >>> func3(1,1)\n",
    "    '1'\n",
    "    '''\n",
    "    # your code\n",
    "\n",
    "import doctest\n",
    "doctest.run_docstring_examples(func3,globals(),optionflags=doctest.NORMALIZE_WHITESPACE)  "
   ]
  },
  {
   "cell_type": "code",
   "execution_count": 4,
   "id": "50a80918-22cc-4dac-9a3e-1df30f721fa4",
   "metadata": {
    "tags": []
   },
   "outputs": [],
   "source": [
    "def func4(a, b, k):\n",
    "    '''\n",
    "    a, b, k: ints, a <= b\n",
    "    returns: Liste mit den Zahlen zwischen a und b, die durch k teilbar sind\n",
    "\n",
    "    >>> func4(10,20,3)\n",
    "    [12, 15, 18]\n",
    "    \n",
    "    >>> func4(10,11,3)\n",
    "    []\n",
    "    \n",
    "    >>> func4(1,70,7)\n",
    "    [7, 14, 21, 28, 35, 42, 49, 56, 63, 70]\n",
    "    \n",
    "    >>> func4(4,4,4)\n",
    "    [4]\n",
    "    \n",
    "    '''\n",
    "    # your code\n",
    "\n",
    "import doctest\n",
    "doctest.run_docstring_examples(func4,globals(),optionflags=doctest.NORMALIZE_WHITESPACE)  "
   ]
  },
  {
   "cell_type": "code",
   "execution_count": 5,
   "id": "2183d4f7-72c5-491c-9604-f5fbb8cb5138",
   "metadata": {},
   "outputs": [],
   "source": [
    "def func5(c1, c2):\n",
    "    '''\n",
    "    c1, c2: zwei kleine Buchstaben a - z, c1 alphabetisch vor (oder gleich) c2\n",
    "    returns: String mit den Buchstaben von c1 bis c2\n",
    "\n",
    "    >>> func5('b', 'f')\n",
    "    'b c d e f'\n",
    "\n",
    "    >>> func5('c', 'c')\n",
    "    'c'\n",
    "\n",
    "    >>> func5('a', 'z')\n",
    "    'a b c d e f g h i j k l m n o p q r s t u v w x y z'\n",
    "    \n",
    "    '''\n",
    "     \n",
    "    # your code\n",
    "\n",
    "import doctest\n",
    "doctest.run_docstring_examples(func5,globals(),optionflags=doctest.NORMALIZE_WHITESPACE)  \n",
    "    "
   ]
  },
  {
   "cell_type": "code",
   "execution_count": 6,
   "id": "2facf014-1c57-45f0-8970-f415ffa8ee5e",
   "metadata": {},
   "outputs": [],
   "source": [
    "def func6(c1, c2):\n",
    "    '''\n",
    "    c1, c2: zwei kleine Buchstaben a - z, c1 alphabetisch vor (oder gleich) c2\n",
    "    returns: String mit den großen Buchstaben von groß-c1 bis groß-c2\n",
    "\n",
    "    >>> func6('b', 'f')\n",
    "    'B C D E F'\n",
    "\n",
    "    >>> func6('c', 'c')\n",
    "    'C'\n",
    "\n",
    "    >>> func6('a', 'z')\n",
    "    'A B C D E F G H I J K L M N O P Q R S T U V W X Y Z'\n",
    "    \n",
    "    '''\n",
    "    # your code\n",
    "\n",
    "import doctest\n",
    "doctest.run_docstring_examples(func6,globals(),optionflags=doctest.NORMALIZE_WHITESPACE)  \n"
   ]
  },
  {
   "cell_type": "code",
   "execution_count": 7,
   "id": "93358669-2fbc-40c3-ad14-1cfd91ef5974",
   "metadata": {},
   "outputs": [],
   "source": [
    "def func7(s, k):\n",
    "    '''\n",
    "    s: string\n",
    "    k: positive ganze Zahl\n",
    "    returns: s, bei dem nach jeweils k zeichen ein Leerzeichen eingefügt wurde\n",
    "\n",
    "    >>> func7('abcdef',1)\n",
    "    'a b c d e f'\n",
    "\n",
    "    >>> func7('abcdefg',2)\n",
    "    'ab cd ef g'\n",
    "\n",
    "    >>> func7('abcdefg',3)\n",
    "    'abc def g'\n",
    "\n",
    "    >>> func7('abc',3)\n",
    "    'abc'\n",
    "    \n",
    "    '''\n",
    " \n",
    "    # your code\n",
    "\n",
    "import doctest\n",
    "doctest.run_docstring_examples(func7,globals(),optionflags=doctest.NORMALIZE_WHITESPACE)  "
   ]
  },
  {
   "cell_type": "code",
   "execution_count": 25,
   "id": "339c1774-5ee4-4a06-9bc0-0bc03c86250a",
   "metadata": {},
   "outputs": [],
   "source": [
    "def func8(a, k):\n",
    "    '''\n",
    "    a: nicht leere Liste mit Zahlen, k: Zahl\n",
    "    returns: eine Liste, bei der k vor der ersten Zahl eingefügt wurde, die größer ist als k.\n",
    "             wenn eine solche Zahl nicht exisitiert, wird k am Ende eingefügt.\n",
    "\n",
    "    >>> func8([3,5,8,7], 6)\n",
    "    [3, 5, 6, 8, 7]\n",
    "\n",
    "    >>> func8([3], 6)\n",
    "    [3, 6]\n",
    "\n",
    "    '''\n",
    "    # your code\n",
    "   \n",
    " \n",
    "import doctest\n",
    "doctest.run_docstring_examples(func8,globals(),optionflags=doctest.NORMALIZE_WHITESPACE)  "
   ]
  }
 ],
 "metadata": {
  "kernelspec": {
   "display_name": "Python 3 (ipykernel)",
   "language": "python",
   "name": "python3"
  },
  "language_info": {
   "codemirror_mode": {
    "name": "ipython",
    "version": 3
   },
   "file_extension": ".py",
   "mimetype": "text/x-python",
   "name": "python",
   "nbconvert_exporter": "python",
   "pygments_lexer": "ipython3",
   "version": "3.11.2"
  }
 },
 "nbformat": 4,
 "nbformat_minor": 5
}

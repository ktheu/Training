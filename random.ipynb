{
 "cells": [
  {
   "cell_type": "markdown",
   "id": "31eebe4c-ce10-49df-a4a0-5bb9f68ba650",
   "metadata": {},
   "source": [
    "### Random\n",
    "\n",
    "Die Zufallszahlen sind keine echten Zufallszahlen, sie werden mit einem Algorithmus erzeugt, der sie *wie zufällig* aussehen lässt.\n",
    "Wenn wir mit *random.seed()* den Startwert des Algorithmus setzen, erhalten wir immer die gleiche Abfolge von Zufallszahlen."
   ]
  },
  {
   "cell_type": "raw",
   "id": "e8a9d244-f65f-4be7-b94b-e0c374521f34",
   "metadata": {
    "tags": []
   },
   "source": [
    "random.seed(42)               # setzt den seed für wiederholbare Zufallsergebnisse\n",
    "x = random.random()           # float 0 <= x < 1\n",
    "x = 10*random.random()*10     # float 0 <= x < 10\n",
    "x = 2+8*random.random()       # float 2 <= x < 10\n",
    "\n",
    "x = random.randint(0,10)      # int 0 <= x <= 10\n",
    "x = random.randrange(0,20,2)  # gerade Zahl 0 <= x <= 20 \n",
    "\n",
    "a = [1,2,3,4,5]\n",
    "random.shuffle(a)             # mischt die Liste a inplace\n",
    "\n",
    "x = random.choice(a)          # wählt ein Element aus a\n",
    "b = random.sample(a,3)        # wählt aus a 3 Elemente \n",
    "\n",
    "a = [random.randint(-5,5) for _ in range(6)]  # eine Liste mit 6 ganzen Zahlen zwischen -5 und 5"
   ]
  },
  {
   "cell_type": "markdown",
   "id": "9e68bd96-ceae-4b95-bc5d-0148368abf41",
   "metadata": {
    "tags": []
   },
   "source": [
    "### Aufgaben\n",
    "\n"
   ]
  },
  {
   "cell_type": "code",
   "execution_count": null,
   "id": "5f506c6e-a059-41d7-a0d7-6425eea66a64",
   "metadata": {
    "tags": []
   },
   "outputs": [],
   "source": [
    "import random"
   ]
  },
  {
   "cell_type": "markdown",
   "id": "6031d2b7-99ce-4da6-9e19-71a3d2bfa3b6",
   "metadata": {
    "tags": []
   },
   "source": [
    "----\n",
    "#### A1\n",
    "Erzeuge eine Liste mit 5 Zufallszahlen x mit 0 <= x < 1"
   ]
  },
  {
   "cell_type": "code",
   "execution_count": null,
   "id": "76a4e718-dfc9-4091-8d24-5c4650f49b40",
   "metadata": {
    "tags": []
   },
   "outputs": [],
   "source": [
    "random.seed(42)\n",
    "a = None\n",
    "print(a)"
   ]
  },
  {
   "cell_type": "raw",
   "id": "8eb2b735-9feb-4846-809b-0db7688c8af5",
   "metadata": {},
   "source": [
    "[0.6394267984578837, 0.025010755222666936, 0.27502931836911926, 0.22321073814882275, 0.7364712141640124]"
   ]
  },
  {
   "cell_type": "markdown",
   "id": "95a669b4-ef6a-4f76-94b4-6d1ff62b3827",
   "metadata": {
    "tags": []
   },
   "source": [
    "----\n",
    "#### A2\n",
    "Erzeuge eine Liste mit 4 Zufallszahlen x mit -1 <= x < 1"
   ]
  },
  {
   "cell_type": "code",
   "execution_count": null,
   "id": "4bfe6e85-d5e7-49b0-8216-ce88d9bafecf",
   "metadata": {
    "tags": []
   },
   "outputs": [],
   "source": [
    "random.seed(42)\n",
    "a = None\n",
    "print(a)"
   ]
  },
  {
   "cell_type": "raw",
   "id": "698e3b65-8806-44be-a601-1b0ba168f8d8",
   "metadata": {},
   "source": [
    "[0.2788535969157675, -0.9499784895546661, -0.4499413632617615, -0.5535785237023545]"
   ]
  },
  {
   "cell_type": "markdown",
   "id": "6d5240e4-d4a8-4df6-8689-bea8e2cdc345",
   "metadata": {},
   "source": [
    "----\n",
    "#### A3\n",
    "Erzeuge eine Liste mit 10 ganzen Zufallszahlen x mit 1 <= x <= 100"
   ]
  },
  {
   "cell_type": "code",
   "execution_count": null,
   "id": "8b852988-7ab5-4612-9851-b4db9a005149",
   "metadata": {
    "tags": []
   },
   "outputs": [],
   "source": [
    "random.seed(42)\n",
    "a = None\n",
    "print(a)"
   ]
  },
  {
   "cell_type": "raw",
   "id": "7866e8e0-93de-433d-97b9-5855fd7fba97",
   "metadata": {},
   "source": [
    "[82, 15, 4, 95, 36, 32, 29, 18, 95, 14]"
   ]
  },
  {
   "cell_type": "markdown",
   "id": "459b9655-cd8b-4a62-a732-c0760f0ae05a",
   "metadata": {},
   "source": [
    "----\n",
    "#### A4\n",
    "Erzeuge eine Liste mit 10 ungeraden Zufallszahlen zwischen 100 und 200"
   ]
  },
  {
   "cell_type": "code",
   "execution_count": null,
   "id": "49b116c1-f891-4897-9fdc-99172e919426",
   "metadata": {
    "tags": []
   },
   "outputs": [],
   "source": [
    "random.seed(42)\n",
    "a = None\n",
    "print(a)"
   ]
  },
  {
   "cell_type": "raw",
   "id": "25979742-1ce7-4eb9-a435-34fb942f4333",
   "metadata": {},
   "source": [
    "[181, 115, 103, 195, 135, 131, 129, 117, 195, 113]"
   ]
  },
  {
   "cell_type": "markdown",
   "id": "839080b8-9584-47db-bda8-619b55759ab7",
   "metadata": {
    "tags": []
   },
   "source": [
    "----\n",
    "#### A5\n",
    "Erzeuge eine Liste mit den Zahlen von 10 bis 20 (einschließlich) und mische sie."
   ]
  },
  {
   "cell_type": "code",
   "execution_count": null,
   "id": "0bf138bd-01cf-407e-a20e-915124116b50",
   "metadata": {
    "tags": []
   },
   "outputs": [],
   "source": [
    "random.seed(42)\n",
    "# your code\n",
    "print(a)"
   ]
  },
  {
   "cell_type": "raw",
   "id": "da1e6dd0-4c2d-4aed-a0a7-bb4c88b28001",
   "metadata": {},
   "source": [
    "[17, 13, 12, 18, 15, 16, 19, 14, 10, 11, 20]"
   ]
  },
  {
   "cell_type": "markdown",
   "id": "9d9befad-cbef-463b-9ae5-c61ccb92ad8b",
   "metadata": {},
   "source": [
    "----\n",
    "#### A6\n",
    "Erzeuge eine Liste mit den Zahlen von 1 bis 49 und wähle dann 6 aus."
   ]
  },
  {
   "cell_type": "code",
   "execution_count": null,
   "id": "4fe9e04f-5446-436b-9f11-cce665f226e0",
   "metadata": {
    "tags": []
   },
   "outputs": [],
   "source": [
    "random.seed(42)\n",
    "# your code\n",
    "print(a)"
   ]
  },
  {
   "cell_type": "raw",
   "id": "a90df685-b621-439a-a6e7-11f65417f393",
   "metadata": {},
   "source": [
    "[41, 8, 2, 18, 16, 15]"
   ]
  }
 ],
 "metadata": {
  "kernelspec": {
   "display_name": "Python 3 (ipykernel)",
   "language": "python",
   "name": "python3"
  },
  "language_info": {
   "codemirror_mode": {
    "name": "ipython",
    "version": 3
   },
   "file_extension": ".py",
   "mimetype": "text/x-python",
   "name": "python",
   "nbconvert_exporter": "python",
   "pygments_lexer": "ipython3",
   "version": "3.11.2"
  }
 },
 "nbformat": 4,
 "nbformat_minor": 5
}
